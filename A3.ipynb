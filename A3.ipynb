{
 "cells": [
  {
   "cell_type": "markdown",
   "metadata": {},
   "source": [
    "# Assignment 3: Twitter geolocation"
   ]
  },
  {
   "cell_type": "markdown",
   "metadata": {},
   "source": [
    "How to use:\n",
    "1. extract data.zip to folder named \"/data\"\n",
    "2. simply run from start to end.\n",
    "3. For self-trained GloVe vectors, please use GloVe-master or clone the repo comes from git: https://github.com/stanfordnlp/GloVe.\n",
    "4. b1,b2,b5 are parameter setting in demo.sh"
   ]
  },
  {
   "cell_type": "code",
   "execution_count": 1,
   "metadata": {},
   "outputs": [],
   "source": [
    "# library imports for this assignment\n",
    "import os\n",
    "import pandas as pd\n",
    "import numpy as np \n",
    "import ast\n",
    "import operator"
   ]
  },
  {
   "cell_type": "markdown",
   "metadata": {},
   "source": [
    "# 1. Data preprocessing\n",
    "\n",
    "## Data import"
   ]
  },
  {
   "cell_type": "code",
   "execution_count": 2,
   "metadata": {},
   "outputs": [
    {
     "name": "stdout",
     "output_type": "stream",
     "text": [
      "train data csv :['data/train_count.csv', 'data/train_full.csv', 'data/train_glove300.csv', 'data/train_tfidf.csv']\n",
      "dev data csv :['data/dev_count.csv', 'data/dev_full.csv', 'data/dev_glove300.csv', 'data/dev_tfidf.csv']\n",
      "test data csv :['data/test_count.csv', 'data/test_full.csv', 'data/test_glove300.csv', 'data/test_tfidf.csv']\n"
     ]
    }
   ],
   "source": [
    "# list files\n",
    "path = 'data/'\n",
    "files = os.listdir(path)\n",
    "# 'csv' files\n",
    "files_csv = [path+f for f in files if f[-4:] == '.csv']\n",
    "# train, dev and test set\n",
    "files_train = [f for f in files_csv if 'train' in f]\n",
    "files_dev = [f for f in files_csv if 'dev' in f]\n",
    "files_test = [f for f in files_csv if 'test' in f]\n",
    "\n",
    "print(f\"train data csv :{files_train}\")\n",
    "print(f\"dev data csv :{files_dev}\")\n",
    "print(f\"test data csv :{files_test}\")"
   ]
  },
  {
   "cell_type": "code",
   "execution_count": 3,
   "metadata": {},
   "outputs": [],
   "source": [
    "# full data set in dataframe\n",
    "train_full = [pd.read_csv(f,encoding ='utf-8',sep =',') for f in files_train if 'full' in f][0]\n",
    "dev_full = [pd.read_csv(f,encoding ='utf-8',sep =',') for f in files_dev if 'full' in f][0]\n",
    "test_full = [pd.read_csv(f,encoding ='utf-8',sep =',') for f in files_test if 'full' in f][0]\n",
    "# tfidf data set in dataframe\n",
    "train_count = [pd.read_csv(f,encoding ='utf-8',sep =',') for f in files_train if 'count' in f][0]\n",
    "dev_count = [pd.read_csv(f,encoding ='utf-8',sep =',') for f in files_dev if 'count' in f][0]\n",
    "test_count = [pd.read_csv(f,encoding ='utf-8',sep =',') for f in files_test if 'count' in f][0]\n",
    "# tfidf data set in dataframe\n",
    "train_tfidf = [pd.read_csv(f,encoding ='utf-8',sep =',') for f in files_train if 'tfidf' in f][0]\n",
    "dev_tfidf = [pd.read_csv(f,encoding ='utf-8',sep =',') for f in files_dev if 'tfidf' in f][0]\n",
    "test_tfidf = [pd.read_csv(f,encoding ='utf-8',sep =',') for f in files_test if 'tfidf' in f][0]\n",
    "# glove300 data set in dataframe\n",
    "train_glove = [pd.read_csv(f,encoding ='utf-8',sep =',') for f in files_train if 'glove' in f][0]\n",
    "dev_glove = [pd.read_csv(f,encoding ='utf-8',sep =',') for f in files_dev if 'glove' in f][0]\n",
    "test_glove = [pd.read_csv(f,encoding ='utf-8',sep =',') for f in files_test if 'glove' in f][0]"
   ]
  },
  {
   "cell_type": "code",
   "execution_count": 4,
   "metadata": {},
   "outputs": [],
   "source": [
    "#obtain a list of vocab\n",
    "vocab_file = open(\"data/vocab.txt\",'r').readlines()\n",
    "vocab = dict()\n",
    "for line in vocab_file:\n",
    "    vocab.update({line.split(\"\\t\")[1].replace(\"\\n\",\"\"):line.split(\"\\t\")[0]})\n"
   ]
  },
  {
   "cell_type": "code",
   "execution_count": 5,
   "metadata": {},
   "outputs": [
    {
     "data": {
      "text/html": [
       "<div>\n",
       "<style scoped>\n",
       "    .dataframe tbody tr th:only-of-type {\n",
       "        vertical-align: middle;\n",
       "    }\n",
       "\n",
       "    .dataframe tbody tr th {\n",
       "        vertical-align: top;\n",
       "    }\n",
       "\n",
       "    .dataframe thead th {\n",
       "        text-align: right;\n",
       "    }\n",
       "</style>\n",
       "<table border=\"1\" class=\"dataframe\">\n",
       "  <thead>\n",
       "    <tr style=\"text-align: right;\">\n",
       "      <th></th>\n",
       "      <th>region</th>\n",
       "      <th>user</th>\n",
       "      <th>tweet</th>\n",
       "    </tr>\n",
       "  </thead>\n",
       "  <tbody>\n",
       "    <tr>\n",
       "      <th>count</th>\n",
       "      <td>133795</td>\n",
       "      <td>133795</td>\n",
       "      <td>133795</td>\n",
       "    </tr>\n",
       "    <tr>\n",
       "      <th>unique</th>\n",
       "      <td>4</td>\n",
       "      <td>3400</td>\n",
       "      <td>119102</td>\n",
       "    </tr>\n",
       "    <tr>\n",
       "      <th>top</th>\n",
       "      <td>NORTHEAST</td>\n",
       "      <td>USER_6b07169e</td>\n",
       "      <td>[(0, 1.0)]</td>\n",
       "    </tr>\n",
       "    <tr>\n",
       "      <th>freq</th>\n",
       "      <td>52582</td>\n",
       "      <td>242</td>\n",
       "      <td>877</td>\n",
       "    </tr>\n",
       "  </tbody>\n",
       "</table>\n",
       "</div>"
      ],
      "text/plain": [
       "           region           user       tweet\n",
       "count      133795         133795      133795\n",
       "unique          4           3400      119102\n",
       "top     NORTHEAST  USER_6b07169e  [(0, 1.0)]\n",
       "freq        52582            242         877"
      ]
     },
     "execution_count": 5,
     "metadata": {},
     "output_type": "execute_result"
    }
   ],
   "source": [
    "train_tfidf.describe()"
   ]
  },
  {
   "cell_type": "code",
   "execution_count": 6,
   "metadata": {},
   "outputs": [
    {
     "data": {
      "text/html": [
       "<div>\n",
       "<style scoped>\n",
       "    .dataframe tbody tr th:only-of-type {\n",
       "        vertical-align: middle;\n",
       "    }\n",
       "\n",
       "    .dataframe tbody tr th {\n",
       "        vertical-align: top;\n",
       "    }\n",
       "\n",
       "    .dataframe thead th {\n",
       "        text-align: right;\n",
       "    }\n",
       "</style>\n",
       "<table border=\"1\" class=\"dataframe\">\n",
       "  <thead>\n",
       "    <tr style=\"text-align: right;\">\n",
       "      <th></th>\n",
       "      <th>region</th>\n",
       "      <th>user</th>\n",
       "      <th>tweet</th>\n",
       "    </tr>\n",
       "  </thead>\n",
       "  <tbody>\n",
       "    <tr>\n",
       "      <th>count</th>\n",
       "      <td>11475</td>\n",
       "      <td>11475</td>\n",
       "      <td>11475</td>\n",
       "    </tr>\n",
       "    <tr>\n",
       "      <th>unique</th>\n",
       "      <td>4</td>\n",
       "      <td>300</td>\n",
       "      <td>10777</td>\n",
       "    </tr>\n",
       "    <tr>\n",
       "      <th>top</th>\n",
       "      <td>NORTHEAST</td>\n",
       "      <td>USER_34d2b648</td>\n",
       "      <td>[(0, 1.0)]</td>\n",
       "    </tr>\n",
       "    <tr>\n",
       "      <th>freq</th>\n",
       "      <td>4295</td>\n",
       "      <td>139</td>\n",
       "      <td>77</td>\n",
       "    </tr>\n",
       "  </tbody>\n",
       "</table>\n",
       "</div>"
      ],
      "text/plain": [
       "           region           user       tweet\n",
       "count       11475          11475       11475\n",
       "unique          4            300       10777\n",
       "top     NORTHEAST  USER_34d2b648  [(0, 1.0)]\n",
       "freq         4295            139          77"
      ]
     },
     "execution_count": 6,
     "metadata": {},
     "output_type": "execute_result"
    }
   ],
   "source": [
    "dev_tfidf.describe()"
   ]
  },
  {
   "cell_type": "markdown",
   "metadata": {},
   "source": [
    "## Split into sets\n",
    "\n",
    "Note: test_{set}_Y is basically nothing, it will be the output dataframe then transformed as .csv"
   ]
  },
  {
   "cell_type": "code",
   "execution_count": 7,
   "metadata": {},
   "outputs": [],
   "source": [
    "# full\n",
    "train_full_X = train_full.iloc[:,1:]\n",
    "train_full_Y = train_full.iloc[:,:1]\n",
    "dev_full_X = dev_full.iloc[:,1:]\n",
    "dev_full_Y = dev_full.iloc[:,:1]\n",
    "test_full_X = test_full.iloc[:,1:]\n",
    "test_full_Y = test_full.iloc[:,:1]\n",
    "# count\n",
    "train_count_X = train_count.iloc[:,1:]\n",
    "train_count_Y = train_count.iloc[:,:1]\n",
    "dev_count_X = dev_count.iloc[:,1:]\n",
    "dev_count_Y = dev_count.iloc[:,:1]\n",
    "test_count_X = test_count.iloc[:,1:]\n",
    "test_count_Y = test_count.iloc[:,:1]\n",
    "# tfidf\n",
    "train_tfidf_X = train_tfidf.iloc[:,1:]\n",
    "train_tfidf_Y = train_tfidf.iloc[:,:1]\n",
    "dev_tfidf_X = dev_tfidf.iloc[:,1:]\n",
    "dev_tfidf_Y = dev_tfidf.iloc[:,:1]\n",
    "test_tfidf_X = test_tfidf.iloc[:,1:]\n",
    "test_tfidf_Y = test_tfidf.iloc[:,:1]\n",
    "# glove\n",
    "train_glove_X = train_glove.iloc[:,1:]\n",
    "train_glove_Y = train_glove.iloc[:,:1]\n",
    "dev_glove_X = dev_glove.iloc[:,1:]\n",
    "dev_glove_Y = dev_glove.iloc[:,:1]\n",
    "test_glove_X = test_glove.iloc[:,1:]\n",
    "test_glove_Y = test_glove.iloc[:,:1]\n"
   ]
  },
  {
   "cell_type": "markdown",
   "metadata": {},
   "source": [
    "# 2. Experiment 1: Baseline \n",
    "\n",
    "In this case, I decided to use the most basic way to classify a label.\n",
    "#### How: \n",
    "implement a 1r classifier for whether it has the most frequent word or not. e.g. NORTHEAST has wordID=0 for hishgest frequency, so that any record has this word will be classified as NORTHEAST\n",
    "\n",
    "## Get highest frequency word for each label"
   ]
  },
  {
   "cell_type": "code",
   "execution_count": 8,
   "metadata": {},
   "outputs": [],
   "source": [
    "tweets = train_count_X['tweet']"
   ]
  },
  {
   "cell_type": "code",
   "execution_count": 9,
   "metadata": {},
   "outputs": [],
   "source": [
    "labels=[\"NORTHEAST\",\"MIDWEST\",\"WEST\",\"SOUTH\"]\n",
    "label_records=dict() # label_records := {\"NORTHEAST\":[tweet_has_NORTHEAST_label_1, tweet_has_NORTHEAST_label_2,...], \"MIDWEST\":[...],...}\n",
    "for label in labels:\n",
    "    label_records.update({label:[]})"
   ]
  },
  {
   "cell_type": "code",
   "execution_count": 10,
   "metadata": {},
   "outputs": [],
   "source": [
    "for i in range(len(train_count_Y['region'])):\n",
    "    if train_count_Y['region'][i] in label_records.keys():\n",
    "        label_records[train_count_Y['region'][i]].append(tweets[i])"
   ]
  },
  {
   "cell_type": "code",
   "execution_count": 11,
   "metadata": {},
   "outputs": [
    {
     "data": {
      "text/plain": [
       "{'NORTHEAST': {}, 'MIDWEST': {}, 'WEST': {}, 'SOUTH': {}}"
      ]
     },
     "execution_count": 11,
     "metadata": {},
     "output_type": "execute_result"
    }
   ],
   "source": [
    "labeled_word_count = dict().fromkeys(labels,{})\n",
    "labeled_word_count"
   ]
  },
  {
   "cell_type": "code",
   "execution_count": 12,
   "metadata": {},
   "outputs": [
    {
     "name": "stdout",
     "output_type": "stream",
     "text": [
      "max word found: 0, name:! , for label: NORTHEAST, with freq: 23719/368404\n",
      "2nd max word found: 69, name:. , for label: NORTHEAST, with freq: 12459/368404\n",
      "3rd max word found: 1464, name:rt , for label: NORTHEAST, with freq: 12141/368404\n",
      "----------------------\n",
      "max word found: 0, name:! , for label: MIDWEST, with freq: 9918/112727\n",
      "2nd max word found: 69, name:. , for label: MIDWEST, with freq: 5526/112727\n",
      "3rd max word found: 140, name:? , for label: MIDWEST, with freq: 3292/112727\n",
      "----------------------\n",
      "max word found: 0, name:! , for label: WEST, with freq: 9125/116191\n",
      "2nd max word found: 69, name:. , for label: WEST, with freq: 5834/116191\n",
      "3rd max word found: 140, name:? , for label: WEST, with freq: 3567/116191\n",
      "----------------------\n",
      "max word found: 0, name:! , for label: SOUTH, with freq: 32098/366552\n",
      "2nd max word found: 69, name:. , for label: SOUTH, with freq: 15082/366552\n",
      "3rd max word found: 73, name:... , for label: SOUTH, with freq: 10750/366552\n",
      "----------------------\n"
     ]
    }
   ],
   "source": [
    "for label in labels:\n",
    "    word_count = vocab.fromkeys(vocab, 0)\n",
    "    for tweet in label_records[label]:\n",
    "        t = ast.literal_eval(tweet)\n",
    "        for word in t:\n",
    "            word_count[str(word[0])] += int(word[1])\n",
    "    sorted_count =dict(sorted(word_count.items(), key=lambda item: item[1],reverse=True))\n",
    "    labeled_word_count[label] = sorted_count\n",
    "    it = iter(sorted_count.keys())\n",
    "    max_word,max_word_2nd,max_word_3rd=next(it),next(it),next(it)\n",
    "    print(f\"max word found: {max_word}, name:{vocab[max_word]} , for label: {label}, with freq: {word_count[max_word]}/{sum(word_count.values())}\")\n",
    "    # For observation only:\n",
    "    print(f\"2nd max word found: {max_word_2nd}, name:{vocab[max_word_2nd]} , for label: {label}, with freq: {word_count[max_word_2nd]}/{sum(word_count.values())}\")\n",
    "    print(f\"3rd max word found: {max_word_3rd}, name:{vocab[max_word_3rd]} , for label: {label}, with freq: {word_count[max_word_3rd]}/{sum(word_count.values())}\")\n",
    "    print(\"----------------------\")"
   ]
  },
  {
   "cell_type": "markdown",
   "metadata": {},
   "source": [
    "From above results, we can see that the high frequency words are mostly meaningless as exclamation mark is always the most frequent one, and according to the reverse-sorted dictionary that first 3 high frequency terms are punctuation. Only one character combination is involed in the frequency ranking.\n",
    "## Predict based on high frequency term.\n",
    "\n",
    "In this case, since all 4 labels are having same most high frequency term \"!\", thus this one-R classfier becomes a random label distribution since all labels has same most 'important' term"
   ]
  },
  {
   "cell_type": "code",
   "execution_count": 13,
   "metadata": {},
   "outputs": [
    {
     "name": "stdout",
     "output_type": "stream",
     "text": [
      "accuracy: 0.24871459694989106\n"
     ]
    }
   ],
   "source": [
    "import random\n",
    "tweet_dev_X = dev_count_X['tweet']\n",
    "tweet_dev_Y = dev_count_Y\n",
    "tweet_test_X = test_count_X['tweet']\n",
    "tweet_test_Y = test_count_Y\n",
    "\n",
    "predictions = []\n",
    "\n",
    "for tweet in tweet_dev_X:\n",
    "    predictions.append(random.choice(labels))\n",
    "total = len(tweet_dev_X)\n",
    "hit = 0\n",
    "for i in range(total):\n",
    "    if tweet_dev_Y['region'][i] == predictions[i]:\n",
    "        hit+=1\n",
    "print(\"accuracy:\",hit/total)\n",
    "# For test data\n",
    "#for i in range(len(tweet_test_Y)):\n",
    "#    tweet_test_Y.loc[i,'region'] = random.choice(labels)\n",
    "#    tweet_test_Y.loc[i,'id'] = int(i+1)\n",
    "\n"
   ]
  },
  {
   "cell_type": "code",
   "execution_count": 14,
   "metadata": {},
   "outputs": [],
   "source": [
    "# For output only:\n",
    "# columns_titles = [\"id\",\"region\"]\n",
    "# tweet_test_Y=tweet_test_Y.reindex(columns=columns_titles)\n",
    "# tweet_test_Y.id.astype(int)\n",
    "# tweet_test_Y.to_csv('0r.csv',index=False,float_format='%.f')"
   ]
  },
  {
   "cell_type": "markdown",
   "metadata": {},
   "source": [
    "# 2. Experiment 2: Linear models (NB and LR) with glove 300d\n",
    "\n",
    "\n",
    "#### How: \n",
    "Use Glove300 for input of Naive Bayes. Since linear models performs well in high-dimensional data\n",
    "\n",
    "## Preprocessing"
   ]
  },
  {
   "cell_type": "code",
   "execution_count": 15,
   "metadata": {},
   "outputs": [],
   "source": [
    "# Generate 300 0's string\n",
    "zeros_300 = [str(0)] * 300\n",
    "zeros_300 = \" \".join(zeros_300)\n",
    "\n",
    "# Since there are 0's in the instance, which should not be used during model training.\n",
    "train_glove_ignored= train_glove[train_glove['tweet'] == zeros_300]\n",
    "train_glove_trim = train_glove[train_glove['tweet'] != zeros_300]\n",
    "dev_glove_ignored = dev_glove[dev_glove['tweet']==zeros_300]\n",
    "dev_glove_trim = dev_glove[dev_glove['tweet']!=zeros_300]\n",
    "# The test data should remain the same, below code is used only for statistics. (see the print statement next block)\n",
    "test_glove_ignored = test_glove[test_glove['tweet']==zeros_300]\n",
    "test_glove_trim = test_glove[test_glove['tweet']!=zeros_300]"
   ]
  },
  {
   "cell_type": "code",
   "execution_count": 16,
   "metadata": {},
   "outputs": [
    {
     "name": "stdout",
     "output_type": "stream",
     "text": [
      "there are 133795 training data in total, with 1442 invalid instances, and 132353 valid instances\n",
      "there are 11475 dev data in total, with 100 invalid instances, and 11375 valid instances\n",
      "there are 12018 test data in total, with 137 invalid instances, and 11881 valid instances\n"
     ]
    }
   ],
   "source": [
    "print(f\"there are {train_glove['tweet'].count()} training data in total, with {train_glove_ignored['tweet'].count()} invalid instances, and {train_glove_trim['tweet'].count()} valid instances\")\n",
    "print(f\"there are {dev_glove['tweet'].count()} dev data in total, with {dev_glove_ignored['tweet'].count()} invalid instances, and {dev_glove_trim['tweet'].count()} valid instances\")\n",
    "print(f\"there are {test_glove['tweet'].count()} test data in total, with {test_glove_ignored['tweet'].count()} invalid instances, and {test_glove_trim['tweet'].count()} valid instances\")\n"
   ]
  },
  {
   "cell_type": "code",
   "execution_count": 20,
   "metadata": {},
   "outputs": [],
   "source": [
    "# Since the glove 300 has relatively large data size. Thus it will be randomly split into 3 sets.\n",
    "shuffled = train_glove_trim.sample(frac=1)\n",
    "train_glove_split = np.array_split(shuffled, 3)\n",
    "\n",
    "# for simplicity, assign them with separate names.\n",
    "train_glove_X = train_glove_trim.iloc[:,1:]\n",
    "train_glove_X_1 = train_glove_split[0].iloc[:,1:]\n",
    "train_glove_X_2 = train_glove_split[1].iloc[:,1:]\n",
    "train_glove_X_3 = train_glove_split[2].iloc[:,1:]\n",
    "train_glove_X_ignored = train_glove_ignored.iloc[:,1:]\n",
    "\n",
    "train_glove_Y = train_glove_trim.iloc[:,:1]\n",
    "train_glove_Y_1 = train_glove_split[0].iloc[:,:1]\n",
    "train_glove_Y_2 = train_glove_split[1].iloc[:,:1]\n",
    "train_glove_Y_3 = train_glove_split[2].iloc[:,:1]\n",
    "train_glove_Y_ignored = train_glove_ignored.iloc[:,:1]\n",
    "\n",
    "# for each training set, transform data from a giant string to multiple columns, each column means 1 dimension.\n",
    "train_glove_X=train_glove_X['tweet'].str.split(\" \",expand=True)\n",
    "train_glove_X_1t=train_glove_X_1['tweet'].str.split(\" \",expand=True)\n",
    "train_glove_X_2t=train_glove_X_2['tweet'].str.split(\" \",expand=True)\n",
    "train_glove_X_3t=train_glove_X_3['tweet'].str.split(\" \",expand=True)\n",
    "train_glove_X_ignored = train_glove_ignored['tweet'].str.split(\" \",expand=True)\n",
    "\n",
    "# for evaluation\n",
    "dev_glove_X= dev_glove_trim.iloc[:,1:]\n",
    "dev_glove_X= dev_glove_X['tweet'].str.split(\" \",expand=True)\n",
    "dev_glove_Y= dev_glove_trim.iloc[:,:1]\n",
    "test_glove_X = test_glove_X['tweet'].str.split(\" \",expand=True)"
   ]
  },
  {
   "cell_type": "code",
   "execution_count": 21,
   "metadata": {},
   "outputs": [],
   "source": [
    "# for each training set, transform each string type column into numbers.\n",
    "# May cause memory overhead.\n",
    "for dimension in range(300):\n",
    "    train_glove_X[dimension]=pd.to_numeric(train_glove_X[dimension],errors='coerce')\n",
    "    train_glove_X_1t[dimension]=pd.to_numeric(train_glove_X_1t[dimension],errors='coerce')\n",
    "    train_glove_X_2t[dimension]=pd.to_numeric(train_glove_X_2t[dimension],errors='coerce')\n",
    "    train_glove_X_3t[dimension]=pd.to_numeric(train_glove_X_3t[dimension],errors='coerce')\n",
    "    train_glove_X_ignored[dimension]=pd.to_numeric(train_glove_X_ignored[dimension],errors='coerce')\n",
    "    dev_glove_X[dimension]= pd.to_numeric(dev_glove_X[dimension],errors='coerce')"
   ]
  },
  {
   "cell_type": "code",
   "execution_count": 22,
   "metadata": {},
   "outputs": [
    {
     "name": "stdout",
     "output_type": "stream",
     "text": [
      " NaN in glove_X_1t? False\n",
      " NaN in glove_X_2t? False\n",
      " NaN in glove_X_3t? False\n",
      " NaN in dev_glove_X? False\n"
     ]
    }
   ],
   "source": [
    "#just in case, check if there is anything transformed into NaN\n",
    "print(f\" NaN in glove_X_1t? {train_glove_X_1t.isnull().values.any()}\")\n",
    "print(f\" NaN in glove_X_2t? {train_glove_X_2t.isnull().values.any()}\")\n",
    "print(f\" NaN in glove_X_3t? {train_glove_X_3t.isnull().values.any()}\")\n",
    "print(f\" NaN in dev_glove_X? {dev_glove_X.isnull().values.any()}\")"
   ]
  },
  {
   "cell_type": "code",
   "execution_count": 24,
   "metadata": {},
   "outputs": [
    {
     "data": {
      "text/html": [
       "<div>\n",
       "<style scoped>\n",
       "    .dataframe tbody tr th:only-of-type {\n",
       "        vertical-align: middle;\n",
       "    }\n",
       "\n",
       "    .dataframe tbody tr th {\n",
       "        vertical-align: top;\n",
       "    }\n",
       "\n",
       "    .dataframe thead th {\n",
       "        text-align: right;\n",
       "    }\n",
       "</style>\n",
       "<table border=\"1\" class=\"dataframe\">\n",
       "  <thead>\n",
       "    <tr style=\"text-align: right;\">\n",
       "      <th></th>\n",
       "      <th>region</th>\n",
       "    </tr>\n",
       "  </thead>\n",
       "  <tbody>\n",
       "    <tr>\n",
       "      <th>count</th>\n",
       "      <td>44118</td>\n",
       "    </tr>\n",
       "    <tr>\n",
       "      <th>unique</th>\n",
       "      <td>4</td>\n",
       "    </tr>\n",
       "    <tr>\n",
       "      <th>top</th>\n",
       "      <td>NORTHEAST</td>\n",
       "    </tr>\n",
       "    <tr>\n",
       "      <th>freq</th>\n",
       "      <td>17189</td>\n",
       "    </tr>\n",
       "  </tbody>\n",
       "</table>\n",
       "</div>"
      ],
      "text/plain": [
       "           region\n",
       "count       44118\n",
       "unique          4\n",
       "top     NORTHEAST\n",
       "freq        17189"
      ]
     },
     "execution_count": 24,
     "metadata": {},
     "output_type": "execute_result"
    }
   ],
   "source": [
    "train_glove_Y_1.describe()"
   ]
  },
  {
   "cell_type": "code",
   "execution_count": 25,
   "metadata": {},
   "outputs": [
    {
     "data": {
      "text/html": [
       "<div>\n",
       "<style scoped>\n",
       "    .dataframe tbody tr th:only-of-type {\n",
       "        vertical-align: middle;\n",
       "    }\n",
       "\n",
       "    .dataframe tbody tr th {\n",
       "        vertical-align: top;\n",
       "    }\n",
       "\n",
       "    .dataframe thead th {\n",
       "        text-align: right;\n",
       "    }\n",
       "</style>\n",
       "<table border=\"1\" class=\"dataframe\">\n",
       "  <thead>\n",
       "    <tr style=\"text-align: right;\">\n",
       "      <th></th>\n",
       "      <th>0</th>\n",
       "      <th>1</th>\n",
       "      <th>2</th>\n",
       "      <th>3</th>\n",
       "      <th>4</th>\n",
       "      <th>5</th>\n",
       "      <th>6</th>\n",
       "      <th>7</th>\n",
       "      <th>8</th>\n",
       "      <th>9</th>\n",
       "      <th>...</th>\n",
       "      <th>290</th>\n",
       "      <th>291</th>\n",
       "      <th>292</th>\n",
       "      <th>293</th>\n",
       "      <th>294</th>\n",
       "      <th>295</th>\n",
       "      <th>296</th>\n",
       "      <th>297</th>\n",
       "      <th>298</th>\n",
       "      <th>299</th>\n",
       "    </tr>\n",
       "  </thead>\n",
       "  <tbody>\n",
       "    <tr>\n",
       "      <th>count</th>\n",
       "      <td>44118.000000</td>\n",
       "      <td>44118.000000</td>\n",
       "      <td>44118.000000</td>\n",
       "      <td>44118.000000</td>\n",
       "      <td>44118.000000</td>\n",
       "      <td>44118.000000</td>\n",
       "      <td>44118.000000</td>\n",
       "      <td>44118.000000</td>\n",
       "      <td>44118.000000</td>\n",
       "      <td>44118.000000</td>\n",
       "      <td>...</td>\n",
       "      <td>44118.000000</td>\n",
       "      <td>44118.000000</td>\n",
       "      <td>44118.000000</td>\n",
       "      <td>44118.000000</td>\n",
       "      <td>44118.000000</td>\n",
       "      <td>44118.000000</td>\n",
       "      <td>44118.000000</td>\n",
       "      <td>44118.000000</td>\n",
       "      <td>44118.000000</td>\n",
       "      <td>44118.000000</td>\n",
       "    </tr>\n",
       "    <tr>\n",
       "      <th>mean</th>\n",
       "      <td>0.019811</td>\n",
       "      <td>-0.116162</td>\n",
       "      <td>-0.055503</td>\n",
       "      <td>0.018222</td>\n",
       "      <td>-0.146421</td>\n",
       "      <td>0.081041</td>\n",
       "      <td>-0.145029</td>\n",
       "      <td>0.053756</td>\n",
       "      <td>-0.046450</td>\n",
       "      <td>-0.775886</td>\n",
       "      <td>...</td>\n",
       "      <td>-0.027007</td>\n",
       "      <td>-0.049356</td>\n",
       "      <td>-0.069704</td>\n",
       "      <td>-0.088946</td>\n",
       "      <td>0.081240</td>\n",
       "      <td>-0.241222</td>\n",
       "      <td>0.095841</td>\n",
       "      <td>-0.083739</td>\n",
       "      <td>0.018884</td>\n",
       "      <td>0.280380</td>\n",
       "    </tr>\n",
       "    <tr>\n",
       "      <th>std</th>\n",
       "      <td>0.173262</td>\n",
       "      <td>0.175441</td>\n",
       "      <td>0.148550</td>\n",
       "      <td>0.166573</td>\n",
       "      <td>0.200535</td>\n",
       "      <td>0.170643</td>\n",
       "      <td>0.166701</td>\n",
       "      <td>0.174294</td>\n",
       "      <td>0.160285</td>\n",
       "      <td>0.499090</td>\n",
       "      <td>...</td>\n",
       "      <td>0.147861</td>\n",
       "      <td>0.148019</td>\n",
       "      <td>0.181975</td>\n",
       "      <td>0.184948</td>\n",
       "      <td>0.147736</td>\n",
       "      <td>0.290106</td>\n",
       "      <td>0.168879</td>\n",
       "      <td>0.192571</td>\n",
       "      <td>0.158279</td>\n",
       "      <td>0.191895</td>\n",
       "    </tr>\n",
       "    <tr>\n",
       "      <th>min</th>\n",
       "      <td>-0.906210</td>\n",
       "      <td>-1.174200</td>\n",
       "      <td>-1.078300</td>\n",
       "      <td>-1.237800</td>\n",
       "      <td>-1.387000</td>\n",
       "      <td>-1.114300</td>\n",
       "      <td>-1.272800</td>\n",
       "      <td>-1.087100</td>\n",
       "      <td>-1.224500</td>\n",
       "      <td>-2.382300</td>\n",
       "      <td>...</td>\n",
       "      <td>-1.215100</td>\n",
       "      <td>-1.157000</td>\n",
       "      <td>-0.974750</td>\n",
       "      <td>-1.328900</td>\n",
       "      <td>-1.106400</td>\n",
       "      <td>-1.869800</td>\n",
       "      <td>-0.983290</td>\n",
       "      <td>-1.461800</td>\n",
       "      <td>-1.776200</td>\n",
       "      <td>-1.231200</td>\n",
       "    </tr>\n",
       "    <tr>\n",
       "      <th>25%</th>\n",
       "      <td>-0.080751</td>\n",
       "      <td>-0.224316</td>\n",
       "      <td>-0.135373</td>\n",
       "      <td>-0.078404</td>\n",
       "      <td>-0.261205</td>\n",
       "      <td>-0.011305</td>\n",
       "      <td>-0.241523</td>\n",
       "      <td>-0.030829</td>\n",
       "      <td>-0.133783</td>\n",
       "      <td>-1.095100</td>\n",
       "      <td>...</td>\n",
       "      <td>-0.104703</td>\n",
       "      <td>-0.138190</td>\n",
       "      <td>-0.176493</td>\n",
       "      <td>-0.194531</td>\n",
       "      <td>0.006780</td>\n",
       "      <td>-0.405490</td>\n",
       "      <td>0.000380</td>\n",
       "      <td>-0.197348</td>\n",
       "      <td>-0.068244</td>\n",
       "      <td>0.174268</td>\n",
       "    </tr>\n",
       "    <tr>\n",
       "      <th>50%</th>\n",
       "      <td>0.012638</td>\n",
       "      <td>-0.118082</td>\n",
       "      <td>-0.046733</td>\n",
       "      <td>0.007882</td>\n",
       "      <td>-0.132667</td>\n",
       "      <td>0.083733</td>\n",
       "      <td>-0.146794</td>\n",
       "      <td>0.063217</td>\n",
       "      <td>-0.043736</td>\n",
       "      <td>-0.802765</td>\n",
       "      <td>...</td>\n",
       "      <td>-0.024192</td>\n",
       "      <td>-0.050827</td>\n",
       "      <td>-0.075509</td>\n",
       "      <td>-0.083739</td>\n",
       "      <td>0.081367</td>\n",
       "      <td>-0.229081</td>\n",
       "      <td>0.091577</td>\n",
       "      <td>-0.089761</td>\n",
       "      <td>0.022194</td>\n",
       "      <td>0.284711</td>\n",
       "    </tr>\n",
       "    <tr>\n",
       "      <th>75%</th>\n",
       "      <td>0.108994</td>\n",
       "      <td>-0.011089</td>\n",
       "      <td>0.034235</td>\n",
       "      <td>0.100670</td>\n",
       "      <td>-0.011404</td>\n",
       "      <td>0.171330</td>\n",
       "      <td>-0.049448</td>\n",
       "      <td>0.150345</td>\n",
       "      <td>0.047269</td>\n",
       "      <td>-0.516758</td>\n",
       "      <td>...</td>\n",
       "      <td>0.053427</td>\n",
       "      <td>0.035827</td>\n",
       "      <td>0.031504</td>\n",
       "      <td>0.023586</td>\n",
       "      <td>0.159982</td>\n",
       "      <td>-0.058950</td>\n",
       "      <td>0.184838</td>\n",
       "      <td>0.024711</td>\n",
       "      <td>0.107255</td>\n",
       "      <td>0.393726</td>\n",
       "    </tr>\n",
       "    <tr>\n",
       "      <th>max</th>\n",
       "      <td>1.222200</td>\n",
       "      <td>1.432100</td>\n",
       "      <td>1.325200</td>\n",
       "      <td>1.336400</td>\n",
       "      <td>0.865570</td>\n",
       "      <td>0.985550</td>\n",
       "      <td>0.878430</td>\n",
       "      <td>1.289100</td>\n",
       "      <td>1.043100</td>\n",
       "      <td>1.366000</td>\n",
       "      <td>...</td>\n",
       "      <td>0.788900</td>\n",
       "      <td>0.971050</td>\n",
       "      <td>1.752100</td>\n",
       "      <td>1.184800</td>\n",
       "      <td>0.968240</td>\n",
       "      <td>1.392600</td>\n",
       "      <td>1.203100</td>\n",
       "      <td>1.178200</td>\n",
       "      <td>1.103100</td>\n",
       "      <td>1.851100</td>\n",
       "    </tr>\n",
       "  </tbody>\n",
       "</table>\n",
       "<p>8 rows × 300 columns</p>\n",
       "</div>"
      ],
      "text/plain": [
       "                0             1             2             3             4    \\\n",
       "count  44118.000000  44118.000000  44118.000000  44118.000000  44118.000000   \n",
       "mean       0.019811     -0.116162     -0.055503      0.018222     -0.146421   \n",
       "std        0.173262      0.175441      0.148550      0.166573      0.200535   \n",
       "min       -0.906210     -1.174200     -1.078300     -1.237800     -1.387000   \n",
       "25%       -0.080751     -0.224316     -0.135373     -0.078404     -0.261205   \n",
       "50%        0.012638     -0.118082     -0.046733      0.007882     -0.132667   \n",
       "75%        0.108994     -0.011089      0.034235      0.100670     -0.011404   \n",
       "max        1.222200      1.432100      1.325200      1.336400      0.865570   \n",
       "\n",
       "                5             6             7             8             9    \\\n",
       "count  44118.000000  44118.000000  44118.000000  44118.000000  44118.000000   \n",
       "mean       0.081041     -0.145029      0.053756     -0.046450     -0.775886   \n",
       "std        0.170643      0.166701      0.174294      0.160285      0.499090   \n",
       "min       -1.114300     -1.272800     -1.087100     -1.224500     -2.382300   \n",
       "25%       -0.011305     -0.241523     -0.030829     -0.133783     -1.095100   \n",
       "50%        0.083733     -0.146794      0.063217     -0.043736     -0.802765   \n",
       "75%        0.171330     -0.049448      0.150345      0.047269     -0.516758   \n",
       "max        0.985550      0.878430      1.289100      1.043100      1.366000   \n",
       "\n",
       "       ...           290           291           292           293  \\\n",
       "count  ...  44118.000000  44118.000000  44118.000000  44118.000000   \n",
       "mean   ...     -0.027007     -0.049356     -0.069704     -0.088946   \n",
       "std    ...      0.147861      0.148019      0.181975      0.184948   \n",
       "min    ...     -1.215100     -1.157000     -0.974750     -1.328900   \n",
       "25%    ...     -0.104703     -0.138190     -0.176493     -0.194531   \n",
       "50%    ...     -0.024192     -0.050827     -0.075509     -0.083739   \n",
       "75%    ...      0.053427      0.035827      0.031504      0.023586   \n",
       "max    ...      0.788900      0.971050      1.752100      1.184800   \n",
       "\n",
       "                294           295           296           297           298  \\\n",
       "count  44118.000000  44118.000000  44118.000000  44118.000000  44118.000000   \n",
       "mean       0.081240     -0.241222      0.095841     -0.083739      0.018884   \n",
       "std        0.147736      0.290106      0.168879      0.192571      0.158279   \n",
       "min       -1.106400     -1.869800     -0.983290     -1.461800     -1.776200   \n",
       "25%        0.006780     -0.405490      0.000380     -0.197348     -0.068244   \n",
       "50%        0.081367     -0.229081      0.091577     -0.089761      0.022194   \n",
       "75%        0.159982     -0.058950      0.184838      0.024711      0.107255   \n",
       "max        0.968240      1.392600      1.203100      1.178200      1.103100   \n",
       "\n",
       "                299  \n",
       "count  44118.000000  \n",
       "mean       0.280380  \n",
       "std        0.191895  \n",
       "min       -1.231200  \n",
       "25%        0.174268  \n",
       "50%        0.284711  \n",
       "75%        0.393726  \n",
       "max        1.851100  \n",
       "\n",
       "[8 rows x 300 columns]"
      ]
     },
     "execution_count": 25,
     "metadata": {},
     "output_type": "execute_result"
    }
   ],
   "source": [
    "train_glove_X_1t.describe()"
   ]
  },
  {
   "cell_type": "code",
   "execution_count": 26,
   "metadata": {},
   "outputs": [
    {
     "data": {
      "text/html": [
       "<div>\n",
       "<style scoped>\n",
       "    .dataframe tbody tr th:only-of-type {\n",
       "        vertical-align: middle;\n",
       "    }\n",
       "\n",
       "    .dataframe tbody tr th {\n",
       "        vertical-align: top;\n",
       "    }\n",
       "\n",
       "    .dataframe thead th {\n",
       "        text-align: right;\n",
       "    }\n",
       "</style>\n",
       "<table border=\"1\" class=\"dataframe\">\n",
       "  <thead>\n",
       "    <tr style=\"text-align: right;\">\n",
       "      <th></th>\n",
       "      <th>0</th>\n",
       "      <th>1</th>\n",
       "      <th>2</th>\n",
       "      <th>3</th>\n",
       "      <th>4</th>\n",
       "      <th>5</th>\n",
       "      <th>6</th>\n",
       "      <th>7</th>\n",
       "      <th>8</th>\n",
       "      <th>9</th>\n",
       "      <th>...</th>\n",
       "      <th>290</th>\n",
       "      <th>291</th>\n",
       "      <th>292</th>\n",
       "      <th>293</th>\n",
       "      <th>294</th>\n",
       "      <th>295</th>\n",
       "      <th>296</th>\n",
       "      <th>297</th>\n",
       "      <th>298</th>\n",
       "      <th>299</th>\n",
       "    </tr>\n",
       "  </thead>\n",
       "  <tbody>\n",
       "    <tr>\n",
       "      <th>count</th>\n",
       "      <td>44118.000000</td>\n",
       "      <td>44118.000000</td>\n",
       "      <td>44118.000000</td>\n",
       "      <td>44118.000000</td>\n",
       "      <td>44118.000000</td>\n",
       "      <td>44118.000000</td>\n",
       "      <td>44118.000000</td>\n",
       "      <td>44118.000000</td>\n",
       "      <td>44118.000000</td>\n",
       "      <td>44118.000000</td>\n",
       "      <td>...</td>\n",
       "      <td>44118.000000</td>\n",
       "      <td>44118.000000</td>\n",
       "      <td>44118.000000</td>\n",
       "      <td>44118.000000</td>\n",
       "      <td>44118.000000</td>\n",
       "      <td>44118.000000</td>\n",
       "      <td>44118.000000</td>\n",
       "      <td>44118.000000</td>\n",
       "      <td>44118.000000</td>\n",
       "      <td>44118.000000</td>\n",
       "    </tr>\n",
       "    <tr>\n",
       "      <th>mean</th>\n",
       "      <td>0.020789</td>\n",
       "      <td>-0.117484</td>\n",
       "      <td>-0.054701</td>\n",
       "      <td>0.017462</td>\n",
       "      <td>-0.149266</td>\n",
       "      <td>0.081632</td>\n",
       "      <td>-0.145068</td>\n",
       "      <td>0.051724</td>\n",
       "      <td>-0.047654</td>\n",
       "      <td>-0.776745</td>\n",
       "      <td>...</td>\n",
       "      <td>-0.026576</td>\n",
       "      <td>-0.048337</td>\n",
       "      <td>-0.069378</td>\n",
       "      <td>-0.091201</td>\n",
       "      <td>0.081932</td>\n",
       "      <td>-0.241740</td>\n",
       "      <td>0.096604</td>\n",
       "      <td>-0.085328</td>\n",
       "      <td>0.019947</td>\n",
       "      <td>0.282378</td>\n",
       "    </tr>\n",
       "    <tr>\n",
       "      <th>std</th>\n",
       "      <td>0.175113</td>\n",
       "      <td>0.173588</td>\n",
       "      <td>0.147723</td>\n",
       "      <td>0.164530</td>\n",
       "      <td>0.201050</td>\n",
       "      <td>0.170548</td>\n",
       "      <td>0.164581</td>\n",
       "      <td>0.173396</td>\n",
       "      <td>0.160497</td>\n",
       "      <td>0.501160</td>\n",
       "      <td>...</td>\n",
       "      <td>0.147737</td>\n",
       "      <td>0.147993</td>\n",
       "      <td>0.182997</td>\n",
       "      <td>0.186131</td>\n",
       "      <td>0.147919</td>\n",
       "      <td>0.291193</td>\n",
       "      <td>0.171513</td>\n",
       "      <td>0.192672</td>\n",
       "      <td>0.156150</td>\n",
       "      <td>0.190761</td>\n",
       "    </tr>\n",
       "    <tr>\n",
       "      <th>min</th>\n",
       "      <td>-0.986180</td>\n",
       "      <td>-1.025100</td>\n",
       "      <td>-1.078300</td>\n",
       "      <td>-1.022000</td>\n",
       "      <td>-1.387000</td>\n",
       "      <td>-1.114300</td>\n",
       "      <td>-1.280400</td>\n",
       "      <td>-1.087100</td>\n",
       "      <td>-1.224500</td>\n",
       "      <td>-2.484300</td>\n",
       "      <td>...</td>\n",
       "      <td>-1.235600</td>\n",
       "      <td>-0.911070</td>\n",
       "      <td>-1.156600</td>\n",
       "      <td>-1.328900</td>\n",
       "      <td>-1.051400</td>\n",
       "      <td>-1.869800</td>\n",
       "      <td>-1.195000</td>\n",
       "      <td>-1.461800</td>\n",
       "      <td>-1.563000</td>\n",
       "      <td>-1.231200</td>\n",
       "    </tr>\n",
       "    <tr>\n",
       "      <th>25%</th>\n",
       "      <td>-0.080225</td>\n",
       "      <td>-0.224089</td>\n",
       "      <td>-0.135527</td>\n",
       "      <td>-0.078343</td>\n",
       "      <td>-0.266611</td>\n",
       "      <td>-0.009671</td>\n",
       "      <td>-0.242103</td>\n",
       "      <td>-0.032271</td>\n",
       "      <td>-0.135024</td>\n",
       "      <td>-1.097021</td>\n",
       "      <td>...</td>\n",
       "      <td>-0.102667</td>\n",
       "      <td>-0.137949</td>\n",
       "      <td>-0.175461</td>\n",
       "      <td>-0.196198</td>\n",
       "      <td>0.006608</td>\n",
       "      <td>-0.406956</td>\n",
       "      <td>-0.000065</td>\n",
       "      <td>-0.196358</td>\n",
       "      <td>-0.066662</td>\n",
       "      <td>0.173861</td>\n",
       "    </tr>\n",
       "    <tr>\n",
       "      <th>50%</th>\n",
       "      <td>0.013237</td>\n",
       "      <td>-0.119534</td>\n",
       "      <td>-0.046735</td>\n",
       "      <td>0.007359</td>\n",
       "      <td>-0.135933</td>\n",
       "      <td>0.083633</td>\n",
       "      <td>-0.148235</td>\n",
       "      <td>0.061775</td>\n",
       "      <td>-0.045323</td>\n",
       "      <td>-0.804674</td>\n",
       "      <td>...</td>\n",
       "      <td>-0.023372</td>\n",
       "      <td>-0.049372</td>\n",
       "      <td>-0.075001</td>\n",
       "      <td>-0.086146</td>\n",
       "      <td>0.082088</td>\n",
       "      <td>-0.228694</td>\n",
       "      <td>0.093322</td>\n",
       "      <td>-0.090727</td>\n",
       "      <td>0.022750</td>\n",
       "      <td>0.286677</td>\n",
       "    </tr>\n",
       "    <tr>\n",
       "      <th>75%</th>\n",
       "      <td>0.108559</td>\n",
       "      <td>-0.011351</td>\n",
       "      <td>0.034787</td>\n",
       "      <td>0.099605</td>\n",
       "      <td>-0.014296</td>\n",
       "      <td>0.171166</td>\n",
       "      <td>-0.050384</td>\n",
       "      <td>0.149478</td>\n",
       "      <td>0.046580</td>\n",
       "      <td>-0.523205</td>\n",
       "      <td>...</td>\n",
       "      <td>0.054296</td>\n",
       "      <td>0.037724</td>\n",
       "      <td>0.032210</td>\n",
       "      <td>0.022826</td>\n",
       "      <td>0.160850</td>\n",
       "      <td>-0.058119</td>\n",
       "      <td>0.187455</td>\n",
       "      <td>0.021574</td>\n",
       "      <td>0.106553</td>\n",
       "      <td>0.392885</td>\n",
       "    </tr>\n",
       "    <tr>\n",
       "      <th>max</th>\n",
       "      <td>1.222200</td>\n",
       "      <td>1.100900</td>\n",
       "      <td>1.006600</td>\n",
       "      <td>1.336400</td>\n",
       "      <td>0.831840</td>\n",
       "      <td>1.051300</td>\n",
       "      <td>0.919770</td>\n",
       "      <td>1.289100</td>\n",
       "      <td>1.043100</td>\n",
       "      <td>1.473800</td>\n",
       "      <td>...</td>\n",
       "      <td>0.858950</td>\n",
       "      <td>0.971050</td>\n",
       "      <td>1.752100</td>\n",
       "      <td>1.175900</td>\n",
       "      <td>0.968240</td>\n",
       "      <td>1.270500</td>\n",
       "      <td>1.294200</td>\n",
       "      <td>1.178200</td>\n",
       "      <td>1.103100</td>\n",
       "      <td>1.851100</td>\n",
       "    </tr>\n",
       "  </tbody>\n",
       "</table>\n",
       "<p>8 rows × 300 columns</p>\n",
       "</div>"
      ],
      "text/plain": [
       "                0             1             2             3             4    \\\n",
       "count  44118.000000  44118.000000  44118.000000  44118.000000  44118.000000   \n",
       "mean       0.020789     -0.117484     -0.054701      0.017462     -0.149266   \n",
       "std        0.175113      0.173588      0.147723      0.164530      0.201050   \n",
       "min       -0.986180     -1.025100     -1.078300     -1.022000     -1.387000   \n",
       "25%       -0.080225     -0.224089     -0.135527     -0.078343     -0.266611   \n",
       "50%        0.013237     -0.119534     -0.046735      0.007359     -0.135933   \n",
       "75%        0.108559     -0.011351      0.034787      0.099605     -0.014296   \n",
       "max        1.222200      1.100900      1.006600      1.336400      0.831840   \n",
       "\n",
       "                5             6             7             8             9    \\\n",
       "count  44118.000000  44118.000000  44118.000000  44118.000000  44118.000000   \n",
       "mean       0.081632     -0.145068      0.051724     -0.047654     -0.776745   \n",
       "std        0.170548      0.164581      0.173396      0.160497      0.501160   \n",
       "min       -1.114300     -1.280400     -1.087100     -1.224500     -2.484300   \n",
       "25%       -0.009671     -0.242103     -0.032271     -0.135024     -1.097021   \n",
       "50%        0.083633     -0.148235      0.061775     -0.045323     -0.804674   \n",
       "75%        0.171166     -0.050384      0.149478      0.046580     -0.523205   \n",
       "max        1.051300      0.919770      1.289100      1.043100      1.473800   \n",
       "\n",
       "       ...           290           291           292           293  \\\n",
       "count  ...  44118.000000  44118.000000  44118.000000  44118.000000   \n",
       "mean   ...     -0.026576     -0.048337     -0.069378     -0.091201   \n",
       "std    ...      0.147737      0.147993      0.182997      0.186131   \n",
       "min    ...     -1.235600     -0.911070     -1.156600     -1.328900   \n",
       "25%    ...     -0.102667     -0.137949     -0.175461     -0.196198   \n",
       "50%    ...     -0.023372     -0.049372     -0.075001     -0.086146   \n",
       "75%    ...      0.054296      0.037724      0.032210      0.022826   \n",
       "max    ...      0.858950      0.971050      1.752100      1.175900   \n",
       "\n",
       "                294           295           296           297           298  \\\n",
       "count  44118.000000  44118.000000  44118.000000  44118.000000  44118.000000   \n",
       "mean       0.081932     -0.241740      0.096604     -0.085328      0.019947   \n",
       "std        0.147919      0.291193      0.171513      0.192672      0.156150   \n",
       "min       -1.051400     -1.869800     -1.195000     -1.461800     -1.563000   \n",
       "25%        0.006608     -0.406956     -0.000065     -0.196358     -0.066662   \n",
       "50%        0.082088     -0.228694      0.093322     -0.090727      0.022750   \n",
       "75%        0.160850     -0.058119      0.187455      0.021574      0.106553   \n",
       "max        0.968240      1.270500      1.294200      1.178200      1.103100   \n",
       "\n",
       "                299  \n",
       "count  44118.000000  \n",
       "mean       0.282378  \n",
       "std        0.190761  \n",
       "min       -1.231200  \n",
       "25%        0.173861  \n",
       "50%        0.286677  \n",
       "75%        0.392885  \n",
       "max        1.851100  \n",
       "\n",
       "[8 rows x 300 columns]"
      ]
     },
     "execution_count": 26,
     "metadata": {},
     "output_type": "execute_result"
    }
   ],
   "source": [
    "train_glove_X_2t.describe()"
   ]
  },
  {
   "cell_type": "code",
   "execution_count": 27,
   "metadata": {},
   "outputs": [
    {
     "data": {
      "text/html": [
       "<div>\n",
       "<style scoped>\n",
       "    .dataframe tbody tr th:only-of-type {\n",
       "        vertical-align: middle;\n",
       "    }\n",
       "\n",
       "    .dataframe tbody tr th {\n",
       "        vertical-align: top;\n",
       "    }\n",
       "\n",
       "    .dataframe thead th {\n",
       "        text-align: right;\n",
       "    }\n",
       "</style>\n",
       "<table border=\"1\" class=\"dataframe\">\n",
       "  <thead>\n",
       "    <tr style=\"text-align: right;\">\n",
       "      <th></th>\n",
       "      <th>0</th>\n",
       "      <th>1</th>\n",
       "      <th>2</th>\n",
       "      <th>3</th>\n",
       "      <th>4</th>\n",
       "      <th>5</th>\n",
       "      <th>6</th>\n",
       "      <th>7</th>\n",
       "      <th>8</th>\n",
       "      <th>9</th>\n",
       "      <th>...</th>\n",
       "      <th>290</th>\n",
       "      <th>291</th>\n",
       "      <th>292</th>\n",
       "      <th>293</th>\n",
       "      <th>294</th>\n",
       "      <th>295</th>\n",
       "      <th>296</th>\n",
       "      <th>297</th>\n",
       "      <th>298</th>\n",
       "      <th>299</th>\n",
       "    </tr>\n",
       "  </thead>\n",
       "  <tbody>\n",
       "    <tr>\n",
       "      <th>count</th>\n",
       "      <td>44117.000000</td>\n",
       "      <td>44117.000000</td>\n",
       "      <td>44117.000000</td>\n",
       "      <td>44117.000000</td>\n",
       "      <td>44117.000000</td>\n",
       "      <td>44117.000000</td>\n",
       "      <td>44117.000000</td>\n",
       "      <td>44117.000000</td>\n",
       "      <td>44117.000000</td>\n",
       "      <td>44117.000000</td>\n",
       "      <td>...</td>\n",
       "      <td>44117.000000</td>\n",
       "      <td>44117.000000</td>\n",
       "      <td>44117.000000</td>\n",
       "      <td>44117.000000</td>\n",
       "      <td>44117.000000</td>\n",
       "      <td>44117.000000</td>\n",
       "      <td>44117.000000</td>\n",
       "      <td>44117.000000</td>\n",
       "      <td>44117.000000</td>\n",
       "      <td>44117.000000</td>\n",
       "    </tr>\n",
       "    <tr>\n",
       "      <th>mean</th>\n",
       "      <td>0.018909</td>\n",
       "      <td>-0.116055</td>\n",
       "      <td>-0.056205</td>\n",
       "      <td>0.017986</td>\n",
       "      <td>-0.147721</td>\n",
       "      <td>0.082228</td>\n",
       "      <td>-0.145211</td>\n",
       "      <td>0.052512</td>\n",
       "      <td>-0.046978</td>\n",
       "      <td>-0.778045</td>\n",
       "      <td>...</td>\n",
       "      <td>-0.026644</td>\n",
       "      <td>-0.049045</td>\n",
       "      <td>-0.068981</td>\n",
       "      <td>-0.090067</td>\n",
       "      <td>0.081209</td>\n",
       "      <td>-0.241283</td>\n",
       "      <td>0.096116</td>\n",
       "      <td>-0.086170</td>\n",
       "      <td>0.018546</td>\n",
       "      <td>0.282863</td>\n",
       "    </tr>\n",
       "    <tr>\n",
       "      <th>std</th>\n",
       "      <td>0.173759</td>\n",
       "      <td>0.174424</td>\n",
       "      <td>0.149203</td>\n",
       "      <td>0.164817</td>\n",
       "      <td>0.200223</td>\n",
       "      <td>0.172222</td>\n",
       "      <td>0.165643</td>\n",
       "      <td>0.173614</td>\n",
       "      <td>0.160512</td>\n",
       "      <td>0.498120</td>\n",
       "      <td>...</td>\n",
       "      <td>0.148421</td>\n",
       "      <td>0.149356</td>\n",
       "      <td>0.181765</td>\n",
       "      <td>0.184271</td>\n",
       "      <td>0.147123</td>\n",
       "      <td>0.291202</td>\n",
       "      <td>0.171352</td>\n",
       "      <td>0.191539</td>\n",
       "      <td>0.157090</td>\n",
       "      <td>0.190907</td>\n",
       "    </tr>\n",
       "    <tr>\n",
       "      <th>min</th>\n",
       "      <td>-0.906210</td>\n",
       "      <td>-1.025100</td>\n",
       "      <td>-1.078300</td>\n",
       "      <td>-1.237800</td>\n",
       "      <td>-1.387000</td>\n",
       "      <td>-1.114300</td>\n",
       "      <td>-1.272800</td>\n",
       "      <td>-1.087100</td>\n",
       "      <td>-1.224500</td>\n",
       "      <td>-2.680100</td>\n",
       "      <td>...</td>\n",
       "      <td>-1.215100</td>\n",
       "      <td>-1.015465</td>\n",
       "      <td>-0.974750</td>\n",
       "      <td>-1.457700</td>\n",
       "      <td>-1.116400</td>\n",
       "      <td>-1.869800</td>\n",
       "      <td>-1.195000</td>\n",
       "      <td>-1.461800</td>\n",
       "      <td>-1.079400</td>\n",
       "      <td>-1.231200</td>\n",
       "    </tr>\n",
       "    <tr>\n",
       "      <th>25%</th>\n",
       "      <td>-0.081107</td>\n",
       "      <td>-0.223563</td>\n",
       "      <td>-0.137014</td>\n",
       "      <td>-0.077182</td>\n",
       "      <td>-0.264147</td>\n",
       "      <td>-0.009114</td>\n",
       "      <td>-0.242690</td>\n",
       "      <td>-0.031712</td>\n",
       "      <td>-0.134343</td>\n",
       "      <td>-1.096093</td>\n",
       "      <td>...</td>\n",
       "      <td>-0.104978</td>\n",
       "      <td>-0.138784</td>\n",
       "      <td>-0.175347</td>\n",
       "      <td>-0.194944</td>\n",
       "      <td>0.006000</td>\n",
       "      <td>-0.408007</td>\n",
       "      <td>-0.001595</td>\n",
       "      <td>-0.199763</td>\n",
       "      <td>-0.066849</td>\n",
       "      <td>0.175939</td>\n",
       "    </tr>\n",
       "    <tr>\n",
       "      <th>50%</th>\n",
       "      <td>0.011609</td>\n",
       "      <td>-0.119112</td>\n",
       "      <td>-0.048204</td>\n",
       "      <td>0.007793</td>\n",
       "      <td>-0.134050</td>\n",
       "      <td>0.085660</td>\n",
       "      <td>-0.147773</td>\n",
       "      <td>0.062474</td>\n",
       "      <td>-0.044423</td>\n",
       "      <td>-0.807782</td>\n",
       "      <td>...</td>\n",
       "      <td>-0.023771</td>\n",
       "      <td>-0.051057</td>\n",
       "      <td>-0.075540</td>\n",
       "      <td>-0.085657</td>\n",
       "      <td>0.081367</td>\n",
       "      <td>-0.228991</td>\n",
       "      <td>0.093573</td>\n",
       "      <td>-0.091506</td>\n",
       "      <td>0.022566</td>\n",
       "      <td>0.286881</td>\n",
       "    </tr>\n",
       "    <tr>\n",
       "      <th>75%</th>\n",
       "      <td>0.107583</td>\n",
       "      <td>-0.010750</td>\n",
       "      <td>0.033195</td>\n",
       "      <td>0.099480</td>\n",
       "      <td>-0.013127</td>\n",
       "      <td>0.172725</td>\n",
       "      <td>-0.050639</td>\n",
       "      <td>0.149675</td>\n",
       "      <td>0.046925</td>\n",
       "      <td>-0.523532</td>\n",
       "      <td>...</td>\n",
       "      <td>0.054951</td>\n",
       "      <td>0.038346</td>\n",
       "      <td>0.033044</td>\n",
       "      <td>0.023087</td>\n",
       "      <td>0.159853</td>\n",
       "      <td>-0.056642</td>\n",
       "      <td>0.185861</td>\n",
       "      <td>0.021682</td>\n",
       "      <td>0.106446</td>\n",
       "      <td>0.396782</td>\n",
       "    </tr>\n",
       "    <tr>\n",
       "      <th>max</th>\n",
       "      <td>1.308900</td>\n",
       "      <td>1.085100</td>\n",
       "      <td>1.020000</td>\n",
       "      <td>1.336400</td>\n",
       "      <td>0.874250</td>\n",
       "      <td>1.051300</td>\n",
       "      <td>0.878430</td>\n",
       "      <td>1.289100</td>\n",
       "      <td>1.043100</td>\n",
       "      <td>1.366000</td>\n",
       "      <td>...</td>\n",
       "      <td>0.788420</td>\n",
       "      <td>1.114800</td>\n",
       "      <td>1.752100</td>\n",
       "      <td>1.383700</td>\n",
       "      <td>0.968240</td>\n",
       "      <td>1.091200</td>\n",
       "      <td>1.294200</td>\n",
       "      <td>1.153500</td>\n",
       "      <td>1.561600</td>\n",
       "      <td>1.851100</td>\n",
       "    </tr>\n",
       "  </tbody>\n",
       "</table>\n",
       "<p>8 rows × 300 columns</p>\n",
       "</div>"
      ],
      "text/plain": [
       "                0             1             2             3             4    \\\n",
       "count  44117.000000  44117.000000  44117.000000  44117.000000  44117.000000   \n",
       "mean       0.018909     -0.116055     -0.056205      0.017986     -0.147721   \n",
       "std        0.173759      0.174424      0.149203      0.164817      0.200223   \n",
       "min       -0.906210     -1.025100     -1.078300     -1.237800     -1.387000   \n",
       "25%       -0.081107     -0.223563     -0.137014     -0.077182     -0.264147   \n",
       "50%        0.011609     -0.119112     -0.048204      0.007793     -0.134050   \n",
       "75%        0.107583     -0.010750      0.033195      0.099480     -0.013127   \n",
       "max        1.308900      1.085100      1.020000      1.336400      0.874250   \n",
       "\n",
       "                5             6             7             8             9    \\\n",
       "count  44117.000000  44117.000000  44117.000000  44117.000000  44117.000000   \n",
       "mean       0.082228     -0.145211      0.052512     -0.046978     -0.778045   \n",
       "std        0.172222      0.165643      0.173614      0.160512      0.498120   \n",
       "min       -1.114300     -1.272800     -1.087100     -1.224500     -2.680100   \n",
       "25%       -0.009114     -0.242690     -0.031712     -0.134343     -1.096093   \n",
       "50%        0.085660     -0.147773      0.062474     -0.044423     -0.807782   \n",
       "75%        0.172725     -0.050639      0.149675      0.046925     -0.523532   \n",
       "max        1.051300      0.878430      1.289100      1.043100      1.366000   \n",
       "\n",
       "       ...           290           291           292           293  \\\n",
       "count  ...  44117.000000  44117.000000  44117.000000  44117.000000   \n",
       "mean   ...     -0.026644     -0.049045     -0.068981     -0.090067   \n",
       "std    ...      0.148421      0.149356      0.181765      0.184271   \n",
       "min    ...     -1.215100     -1.015465     -0.974750     -1.457700   \n",
       "25%    ...     -0.104978     -0.138784     -0.175347     -0.194944   \n",
       "50%    ...     -0.023771     -0.051057     -0.075540     -0.085657   \n",
       "75%    ...      0.054951      0.038346      0.033044      0.023087   \n",
       "max    ...      0.788420      1.114800      1.752100      1.383700   \n",
       "\n",
       "                294           295           296           297           298  \\\n",
       "count  44117.000000  44117.000000  44117.000000  44117.000000  44117.000000   \n",
       "mean       0.081209     -0.241283      0.096116     -0.086170      0.018546   \n",
       "std        0.147123      0.291202      0.171352      0.191539      0.157090   \n",
       "min       -1.116400     -1.869800     -1.195000     -1.461800     -1.079400   \n",
       "25%        0.006000     -0.408007     -0.001595     -0.199763     -0.066849   \n",
       "50%        0.081367     -0.228991      0.093573     -0.091506      0.022566   \n",
       "75%        0.159853     -0.056642      0.185861      0.021682      0.106446   \n",
       "max        0.968240      1.091200      1.294200      1.153500      1.561600   \n",
       "\n",
       "                299  \n",
       "count  44117.000000  \n",
       "mean       0.282863  \n",
       "std        0.190907  \n",
       "min       -1.231200  \n",
       "25%        0.175939  \n",
       "50%        0.286881  \n",
       "75%        0.396782  \n",
       "max        1.851100  \n",
       "\n",
       "[8 rows x 300 columns]"
      ]
     },
     "execution_count": 27,
     "metadata": {},
     "output_type": "execute_result"
    }
   ],
   "source": [
    "train_glove_X_3t.describe()"
   ]
  },
  {
   "cell_type": "code",
   "execution_count": 28,
   "metadata": {},
   "outputs": [
    {
     "data": {
      "text/html": [
       "<div>\n",
       "<style scoped>\n",
       "    .dataframe tbody tr th:only-of-type {\n",
       "        vertical-align: middle;\n",
       "    }\n",
       "\n",
       "    .dataframe tbody tr th {\n",
       "        vertical-align: top;\n",
       "    }\n",
       "\n",
       "    .dataframe thead th {\n",
       "        text-align: right;\n",
       "    }\n",
       "</style>\n",
       "<table border=\"1\" class=\"dataframe\">\n",
       "  <thead>\n",
       "    <tr style=\"text-align: right;\">\n",
       "      <th></th>\n",
       "      <th>0</th>\n",
       "      <th>1</th>\n",
       "      <th>2</th>\n",
       "      <th>3</th>\n",
       "      <th>4</th>\n",
       "      <th>5</th>\n",
       "      <th>6</th>\n",
       "      <th>7</th>\n",
       "      <th>8</th>\n",
       "      <th>9</th>\n",
       "      <th>...</th>\n",
       "      <th>290</th>\n",
       "      <th>291</th>\n",
       "      <th>292</th>\n",
       "      <th>293</th>\n",
       "      <th>294</th>\n",
       "      <th>295</th>\n",
       "      <th>296</th>\n",
       "      <th>297</th>\n",
       "      <th>298</th>\n",
       "      <th>299</th>\n",
       "    </tr>\n",
       "  </thead>\n",
       "  <tbody>\n",
       "    <tr>\n",
       "      <th>count</th>\n",
       "      <td>1442.0</td>\n",
       "      <td>1442.0</td>\n",
       "      <td>1442.0</td>\n",
       "      <td>1442.0</td>\n",
       "      <td>1442.0</td>\n",
       "      <td>1442.0</td>\n",
       "      <td>1442.0</td>\n",
       "      <td>1442.0</td>\n",
       "      <td>1442.0</td>\n",
       "      <td>1442.0</td>\n",
       "      <td>...</td>\n",
       "      <td>1442.0</td>\n",
       "      <td>1442.0</td>\n",
       "      <td>1442.0</td>\n",
       "      <td>1442.0</td>\n",
       "      <td>1442.0</td>\n",
       "      <td>1442.0</td>\n",
       "      <td>1442.0</td>\n",
       "      <td>1442.0</td>\n",
       "      <td>1442.0</td>\n",
       "      <td>1442.0</td>\n",
       "    </tr>\n",
       "    <tr>\n",
       "      <th>mean</th>\n",
       "      <td>0.0</td>\n",
       "      <td>0.0</td>\n",
       "      <td>0.0</td>\n",
       "      <td>0.0</td>\n",
       "      <td>0.0</td>\n",
       "      <td>0.0</td>\n",
       "      <td>0.0</td>\n",
       "      <td>0.0</td>\n",
       "      <td>0.0</td>\n",
       "      <td>0.0</td>\n",
       "      <td>...</td>\n",
       "      <td>0.0</td>\n",
       "      <td>0.0</td>\n",
       "      <td>0.0</td>\n",
       "      <td>0.0</td>\n",
       "      <td>0.0</td>\n",
       "      <td>0.0</td>\n",
       "      <td>0.0</td>\n",
       "      <td>0.0</td>\n",
       "      <td>0.0</td>\n",
       "      <td>0.0</td>\n",
       "    </tr>\n",
       "    <tr>\n",
       "      <th>std</th>\n",
       "      <td>0.0</td>\n",
       "      <td>0.0</td>\n",
       "      <td>0.0</td>\n",
       "      <td>0.0</td>\n",
       "      <td>0.0</td>\n",
       "      <td>0.0</td>\n",
       "      <td>0.0</td>\n",
       "      <td>0.0</td>\n",
       "      <td>0.0</td>\n",
       "      <td>0.0</td>\n",
       "      <td>...</td>\n",
       "      <td>0.0</td>\n",
       "      <td>0.0</td>\n",
       "      <td>0.0</td>\n",
       "      <td>0.0</td>\n",
       "      <td>0.0</td>\n",
       "      <td>0.0</td>\n",
       "      <td>0.0</td>\n",
       "      <td>0.0</td>\n",
       "      <td>0.0</td>\n",
       "      <td>0.0</td>\n",
       "    </tr>\n",
       "    <tr>\n",
       "      <th>min</th>\n",
       "      <td>0.0</td>\n",
       "      <td>0.0</td>\n",
       "      <td>0.0</td>\n",
       "      <td>0.0</td>\n",
       "      <td>0.0</td>\n",
       "      <td>0.0</td>\n",
       "      <td>0.0</td>\n",
       "      <td>0.0</td>\n",
       "      <td>0.0</td>\n",
       "      <td>0.0</td>\n",
       "      <td>...</td>\n",
       "      <td>0.0</td>\n",
       "      <td>0.0</td>\n",
       "      <td>0.0</td>\n",
       "      <td>0.0</td>\n",
       "      <td>0.0</td>\n",
       "      <td>0.0</td>\n",
       "      <td>0.0</td>\n",
       "      <td>0.0</td>\n",
       "      <td>0.0</td>\n",
       "      <td>0.0</td>\n",
       "    </tr>\n",
       "    <tr>\n",
       "      <th>25%</th>\n",
       "      <td>0.0</td>\n",
       "      <td>0.0</td>\n",
       "      <td>0.0</td>\n",
       "      <td>0.0</td>\n",
       "      <td>0.0</td>\n",
       "      <td>0.0</td>\n",
       "      <td>0.0</td>\n",
       "      <td>0.0</td>\n",
       "      <td>0.0</td>\n",
       "      <td>0.0</td>\n",
       "      <td>...</td>\n",
       "      <td>0.0</td>\n",
       "      <td>0.0</td>\n",
       "      <td>0.0</td>\n",
       "      <td>0.0</td>\n",
       "      <td>0.0</td>\n",
       "      <td>0.0</td>\n",
       "      <td>0.0</td>\n",
       "      <td>0.0</td>\n",
       "      <td>0.0</td>\n",
       "      <td>0.0</td>\n",
       "    </tr>\n",
       "    <tr>\n",
       "      <th>50%</th>\n",
       "      <td>0.0</td>\n",
       "      <td>0.0</td>\n",
       "      <td>0.0</td>\n",
       "      <td>0.0</td>\n",
       "      <td>0.0</td>\n",
       "      <td>0.0</td>\n",
       "      <td>0.0</td>\n",
       "      <td>0.0</td>\n",
       "      <td>0.0</td>\n",
       "      <td>0.0</td>\n",
       "      <td>...</td>\n",
       "      <td>0.0</td>\n",
       "      <td>0.0</td>\n",
       "      <td>0.0</td>\n",
       "      <td>0.0</td>\n",
       "      <td>0.0</td>\n",
       "      <td>0.0</td>\n",
       "      <td>0.0</td>\n",
       "      <td>0.0</td>\n",
       "      <td>0.0</td>\n",
       "      <td>0.0</td>\n",
       "    </tr>\n",
       "    <tr>\n",
       "      <th>75%</th>\n",
       "      <td>0.0</td>\n",
       "      <td>0.0</td>\n",
       "      <td>0.0</td>\n",
       "      <td>0.0</td>\n",
       "      <td>0.0</td>\n",
       "      <td>0.0</td>\n",
       "      <td>0.0</td>\n",
       "      <td>0.0</td>\n",
       "      <td>0.0</td>\n",
       "      <td>0.0</td>\n",
       "      <td>...</td>\n",
       "      <td>0.0</td>\n",
       "      <td>0.0</td>\n",
       "      <td>0.0</td>\n",
       "      <td>0.0</td>\n",
       "      <td>0.0</td>\n",
       "      <td>0.0</td>\n",
       "      <td>0.0</td>\n",
       "      <td>0.0</td>\n",
       "      <td>0.0</td>\n",
       "      <td>0.0</td>\n",
       "    </tr>\n",
       "    <tr>\n",
       "      <th>max</th>\n",
       "      <td>0.0</td>\n",
       "      <td>0.0</td>\n",
       "      <td>0.0</td>\n",
       "      <td>0.0</td>\n",
       "      <td>0.0</td>\n",
       "      <td>0.0</td>\n",
       "      <td>0.0</td>\n",
       "      <td>0.0</td>\n",
       "      <td>0.0</td>\n",
       "      <td>0.0</td>\n",
       "      <td>...</td>\n",
       "      <td>0.0</td>\n",
       "      <td>0.0</td>\n",
       "      <td>0.0</td>\n",
       "      <td>0.0</td>\n",
       "      <td>0.0</td>\n",
       "      <td>0.0</td>\n",
       "      <td>0.0</td>\n",
       "      <td>0.0</td>\n",
       "      <td>0.0</td>\n",
       "      <td>0.0</td>\n",
       "    </tr>\n",
       "  </tbody>\n",
       "</table>\n",
       "<p>8 rows × 300 columns</p>\n",
       "</div>"
      ],
      "text/plain": [
       "          0       1       2       3       4       5       6       7       8    \\\n",
       "count  1442.0  1442.0  1442.0  1442.0  1442.0  1442.0  1442.0  1442.0  1442.0   \n",
       "mean      0.0     0.0     0.0     0.0     0.0     0.0     0.0     0.0     0.0   \n",
       "std       0.0     0.0     0.0     0.0     0.0     0.0     0.0     0.0     0.0   \n",
       "min       0.0     0.0     0.0     0.0     0.0     0.0     0.0     0.0     0.0   \n",
       "25%       0.0     0.0     0.0     0.0     0.0     0.0     0.0     0.0     0.0   \n",
       "50%       0.0     0.0     0.0     0.0     0.0     0.0     0.0     0.0     0.0   \n",
       "75%       0.0     0.0     0.0     0.0     0.0     0.0     0.0     0.0     0.0   \n",
       "max       0.0     0.0     0.0     0.0     0.0     0.0     0.0     0.0     0.0   \n",
       "\n",
       "          9    ...     290     291     292     293     294     295     296  \\\n",
       "count  1442.0  ...  1442.0  1442.0  1442.0  1442.0  1442.0  1442.0  1442.0   \n",
       "mean      0.0  ...     0.0     0.0     0.0     0.0     0.0     0.0     0.0   \n",
       "std       0.0  ...     0.0     0.0     0.0     0.0     0.0     0.0     0.0   \n",
       "min       0.0  ...     0.0     0.0     0.0     0.0     0.0     0.0     0.0   \n",
       "25%       0.0  ...     0.0     0.0     0.0     0.0     0.0     0.0     0.0   \n",
       "50%       0.0  ...     0.0     0.0     0.0     0.0     0.0     0.0     0.0   \n",
       "75%       0.0  ...     0.0     0.0     0.0     0.0     0.0     0.0     0.0   \n",
       "max       0.0  ...     0.0     0.0     0.0     0.0     0.0     0.0     0.0   \n",
       "\n",
       "          297     298     299  \n",
       "count  1442.0  1442.0  1442.0  \n",
       "mean      0.0     0.0     0.0  \n",
       "std       0.0     0.0     0.0  \n",
       "min       0.0     0.0     0.0  \n",
       "25%       0.0     0.0     0.0  \n",
       "50%       0.0     0.0     0.0  \n",
       "75%       0.0     0.0     0.0  \n",
       "max       0.0     0.0     0.0  \n",
       "\n",
       "[8 rows x 300 columns]"
      ]
     },
     "execution_count": 28,
     "metadata": {},
     "output_type": "execute_result"
    }
   ],
   "source": [
    "train_glove_X_ignored.describe()"
   ]
  },
  {
   "cell_type": "markdown",
   "metadata": {},
   "source": [
    "## Model"
   ]
  },
  {
   "cell_type": "code",
   "execution_count": 29,
   "metadata": {},
   "outputs": [
    {
     "name": "stdout",
     "output_type": "stream",
     "text": [
      "------------nb-------------\n",
      "cv for set 1: 0.2542275073524659, with acc: 0.2543859649122807\n",
      "cv for adding set 2: 0.24973928943442864, with acc: 0.24935400516795866\n",
      "cv for adding set 3: 0.263549217002582, with acc: 0.25740644196114876\n",
      "------------lr-------------\n",
      "cv for lr model, respect to set 1: 0.4422911283376399, with acc: 0.44770841833265335\n",
      "cv for lr model, respect to set 2: 0.4436737839430618, with acc: 0.4460764313885489\n",
      "cv for lr model, respect to set 3: 0.4443864056023968, with acc: 0.45653602919509484\n"
     ]
    }
   ],
   "source": [
    "from sklearn.naive_bayes import GaussianNB\n",
    "from sklearn.linear_model import LogisticRegression\n",
    "from sklearn.model_selection import cross_val_score\n",
    "# since NB does not have many hyperparameters \n",
    "\n",
    "# Each model is now partially fit into the model, cv score will be evaluated each time when a new model is in.\n",
    "print(\"------------nb-------------\")\n",
    "clf = GaussianNB()\n",
    "clf.partial_fit(train_glove_X_1t,train_glove_Y_1['region'],classes = labels)\n",
    "print(f\"cv for set 1: {np.mean(cross_val_score(clf,train_glove_X_1t,train_glove_Y_1['region'],cv=5))}, with acc: {clf.score(train_glove_X_1t,train_glove_Y_1['region'])}\")\n",
    "clf.partial_fit(train_glove_X_2t,train_glove_Y_2['region'])\n",
    "print(f\"cv for adding set 2: {np.mean(cross_val_score(clf,train_glove_X_2t,train_glove_Y_2['region'],cv=5))}, with acc: {clf.score(train_glove_X_2t,train_glove_Y_2['region'])}\")\n",
    "clf.partial_fit(train_glove_X_3t,train_glove_Y_3['region'])\n",
    "print(f\"cv for adding set 3: {np.mean(cross_val_score(clf,train_glove_X_3t,train_glove_Y_3['region'],cv=5))}, with acc: {clf.score(train_glove_X_3t,train_glove_Y_3['region'])}\")\n",
    "# The following is not used, because divide 0 problem, and also it does not make sense to put all 0 vectors in the model.\n",
    "#print(\"additional step, add 'invalid' instance into the model and see the performance change\")\n",
    "#clf.partial_fit(train_glove_X_ignored,train_glove_Y_ignored['region'])\n",
    "#print(f\"cv for adding model 4: {np.mean(cross_val_score(clf,train_glove_X_ignored,train_glove_Y_ignored['region'],cv=5))}, with acc: {clf.score(train_glove_X_ignored,train_glove_Y_ignored['region'])}\")\n",
    "print(\"------------lr-------------\")\n",
    "clf_lr = LogisticRegression(warm_start=True,max_iter=5000)\n",
    "clf_lr.fit(train_glove_X_1t,train_glove_Y_1['region'])\n",
    "clf_lr.fit(train_glove_X_2t,train_glove_Y_2['region'])\n",
    "clf_lr.fit(train_glove_X_3t,train_glove_Y_3['region'])\n",
    "print(f\"cv for lr model, respect to set 1: {np.mean(cross_val_score(clf_lr,train_glove_X_1t,train_glove_Y_1['region'],cv=3))}, with acc: {clf_lr.score(train_glove_X_1t,train_glove_Y_1['region'])}\")\n",
    "print(f\"cv for lr model, respect to set 2: {np.mean(cross_val_score(clf_lr,train_glove_X_2t,train_glove_Y_2['region'],cv=3))}, with acc: {clf_lr.score(train_glove_X_2t,train_glove_Y_2['region'])}\")\n",
    "print(f\"cv for lr model, respect to set 3: {np.mean(cross_val_score(clf_lr,train_glove_X_3t,train_glove_Y_3['region'],cv=3))}, with acc: {clf_lr.score(train_glove_X_3t,train_glove_Y_3['region'])}\")"
   ]
  },
  {
   "cell_type": "markdown",
   "metadata": {},
   "source": [
    "## Evaluation"
   ]
  },
  {
   "cell_type": "code",
   "execution_count": 26,
   "metadata": {},
   "outputs": [
    {
     "name": "stdout",
     "output_type": "stream",
     "text": [
      "--------nb---------\n",
      "f1 score: 0.20916081251348945\n",
      "acc: 0.261010989010989\n",
      "--------lr---------\n",
      "f1 score: 0.2539933044603249\n",
      "acc: 0.4378901098901099\n"
     ]
    }
   ],
   "source": [
    "from sklearn.metrics import f1_score\n",
    "from sklearn.metrics import accuracy_score\n",
    "print(\"--------nb---------\")\n",
    "print(f\"f1 score: {f1_score(dev_glove_Y,clf.predict(dev_glove_X),average='macro',labels=labels)}\")\n",
    "print(f\"acc: {accuracy_score(dev_glove_Y,clf.predict(dev_glove_X))}\")\n",
    "print(\"--------lr---------\")\n",
    "print(f\"f1 score: {f1_score(dev_glove_Y,clf_lr.predict(dev_glove_X),average='macro',labels=labels)}\")\n",
    "print(f\"acc: {accuracy_score(dev_glove_Y,clf_lr.predict(dev_glove_X))}\")"
   ]
  },
  {
   "cell_type": "code",
   "execution_count": 27,
   "metadata": {},
   "outputs": [],
   "source": [
    "prediction=clf_lr.predict(test_glove_X)"
   ]
  },
  {
   "cell_type": "code",
   "execution_count": 80,
   "metadata": {},
   "outputs": [],
   "source": [
    "def reformat_prediction(prediction):\n",
    "    prediction = pd.DataFrame(prediction, columns=['region'])\n",
    "    id_list = list()\n",
    "    for i in range(len(prediction)):\n",
    "        id_list.append(i+1)\n",
    "    prediction['id']=id_list\n",
    "    return prediction"
   ]
  },
  {
   "cell_type": "code",
   "execution_count": 29,
   "metadata": {},
   "outputs": [],
   "source": [
    "# For output only:\n",
    "# columns_titles = [\"id\",\"region\"]\n",
    "# prediction=clf_lr.predict(test_glove_X)\n",
    "# prediction=reformat_prediction(prediction)\n",
    "# tweet_test_Y=prediction.reindex(columns=columns_titles)\n",
    "# tweet_test_Y.id.astype(int)\n",
    "# tweet_test_Y.to_csv('lr.csv',index=False,float_format='%.f')"
   ]
  },
  {
   "cell_type": "markdown",
   "metadata": {},
   "source": [
    "# 3. Experiment 3: KNN\n",
    "\n",
    "\n",
    "#### How: \n",
    "Use Glove300 for input of KNN. Since each tweet vector is really a set of 'meaning' of tweet with 300 characteristics that cannot be interpreted. It maybe possible that each geolocation labels are having somewhat range that can group a bounch of instances.\n",
    "\n",
    "## Since the data has been processed. Let's directly apply them to the knn model"
   ]
  },
  {
   "cell_type": "code",
   "execution_count": 14,
   "metadata": {},
   "outputs": [
    {
     "data": {
      "text/plain": [
       "182"
      ]
     },
     "execution_count": 14,
     "metadata": {},
     "output_type": "execute_result"
    }
   ],
   "source": [
    "import math\n",
    "n = train_glove_X[0].count()\n",
    "k = round(math.sqrt(n)/2)\n",
    "k"
   ]
  },
  {
   "cell_type": "code",
   "execution_count": null,
   "metadata": {},
   "outputs": [],
   "source": [
    "from sklearn.neighbors import KNeighborsClassifier\n",
    "from sklearn.model_selection import cross_val_score\n",
    "\n",
    "\n",
    "clf_knn = KNeighborsClassifier(n_neighbors=k)\n",
    "clf_knn_tfidf = KNeighborsClassifier(n_neighbors=k)\n",
    "\n",
    "clf_knn.fit(train_glove_X,train_glove_Y['region'])\n",
    "clf_knn_tfidf.fit(train_tfidf_X.todense(),train_glove_Y['region'])\n",
    "\n",
    "# very slow, not used here.\n",
    "#print(f\"cv for lr model, respect to set 1: {np.mean(cross_val_score(clf_knn,train_glove_X_1t,train_glove_Y_1['region'],cv=3))}, with acc: {clf_knn.score(train_glove_X_1t,train_glove_Y_1['region'])}\")\n",
    "#print(f\"cv for lr model, respect to set 2: {np.mean(cross_val_score(clf_knn,train_glove_X_2t,train_glove_Y_2['region'],cv=3))}, with acc: {clf_knn.score(train_glove_X_2t,train_glove_Y_2['region'])}\")\n",
    "#print(f\"cv for lr model, respect to set 3: {np.mean(cross_val_score(clf_knn,train_glove_X_3t,train_glove_Y_3['region'],cv=3))}, with acc: {clf_knn.score(train_glove_X_3t,train_glove_Y_3['region'])}\")"
   ]
  },
  {
   "cell_type": "code",
   "execution_count": null,
   "metadata": {},
   "outputs": [],
   "source": [
    "#~20mins, very slow\n",
    "knn_acc=clf_knn.score(dev_glove_X,dev_glove_Y)"
   ]
  },
  {
   "cell_type": "code",
   "execution_count": null,
   "metadata": {},
   "outputs": [],
   "source": [
    "knn_acc"
   ]
  },
  {
   "cell_type": "code",
   "execution_count": null,
   "metadata": {},
   "outputs": [],
   "source": [
    "clf_knn_tfidf.score(dev_tfidf_X_sparse.todense(),dev_tfidf_Y['region'])"
   ]
  },
  {
   "cell_type": "markdown",
   "metadata": {},
   "source": [
    "# 4. Experiment 4: Linear model (Naive Bayes+Lr) with Tf-idf\n",
    "\n",
    "\n",
    "#### How: \n",
    "Use Tf-idf for input of Naive Bayes. As a comparison with experiment 2\n",
    "\n",
    "## Preprocessing"
   ]
  },
  {
   "cell_type": "code",
   "execution_count": null,
   "metadata": {},
   "outputs": [],
   "source": [
    "labels"
   ]
  },
  {
   "cell_type": "code",
   "execution_count": null,
   "metadata": {},
   "outputs": [],
   "source": [
    "train_tfidf_X['tweet'][0]"
   ]
  },
  {
   "cell_type": "code",
   "execution_count": null,
   "metadata": {},
   "outputs": [],
   "source": [
    "from scipy.sparse import csr_matrix\n",
    "size_of_tweet = 120 # 120 words, thus 120 tfidf values\n",
    "tfidf_X_list = list()\n",
    "train_tfidf_X_index = list()\n",
    "dev_tfidf_X_index = list()\n",
    "test_tfidf_X_index = list()\n",
    "for tweet in train_tfidf_X['tweet']:\n",
    "    t = ast.literal_eval(tweet)\n",
    "    i = 0\n",
    "    tfidf_X_row = [0]*size_of_tweet\n",
    "    tfidf_X_row_index = list()\n",
    "    for word in t:\n",
    "        tfidf_X_row[i] = word[1]\n",
    "        tfidf_X_row_index.append(word[0])\n",
    "        i+=1\n",
    "    tfidf_X_list.append(tfidf_X_row)\n",
    "    train_tfidf_X_index.append(tfidf_X_row_index)\n",
    "\n",
    "train_tfidf_X_sparse = np.array(tfidf_X_list)\n",
    "train_tfidf_X_sparse = csr_matrix(train_tfidf_X_sparse)\n",
    "\n",
    "tfidf_X_list = list()\n",
    "for tweet in dev_tfidf_X['tweet']:\n",
    "    t = ast.literal_eval(tweet)\n",
    "    i = 0\n",
    "    tfidf_X_row = [0]*size_of_tweet\n",
    "    tfidf_X_row_index = list()\n",
    "    for word in t:\n",
    "        tfidf_X_row[i] = word[1]\n",
    "        tfidf_X_row_index.append(word[0])\n",
    "        i+=1\n",
    "    tfidf_X_list.append(tfidf_X_row)\n",
    "    dev_tfidf_X_index.append(tfidf_X_row_index)\n",
    "    \n",
    "dev_tfidf_X_sparse = np.array(tfidf_X_list)\n",
    "dev_tfidf_X_sparse = csr_matrix(dev_tfidf_X_sparse)"
   ]
  },
  {
   "cell_type": "code",
   "execution_count": null,
   "metadata": {},
   "outputs": [],
   "source": [
    "tfidf_X_list = list()\n",
    "for tweet in test_tfidf_X['tweet']:\n",
    "    t = ast.literal_eval(tweet)\n",
    "    i = 0\n",
    "    tfidf_X_row = [0]*size_of_tweet\n",
    "    tfidf_X_row_index = list()\n",
    "    for word in t:\n",
    "        tfidf_X_row[i] = word[1]\n",
    "        tfidf_X_row_index.append(word[0])\n",
    "        i+=1\n",
    "    tfidf_X_list.append(tfidf_X_row)\n",
    "    test_tfidf_X_index.append(tfidf_X_row_index)\n",
    "    \n",
    "test_tfidf_X_sparse = np.array(tfidf_X_list)\n",
    "test_tfidf_X_sparse = csr_matrix(test_tfidf_X_sparse)"
   ]
  },
  {
   "cell_type": "code",
   "execution_count": null,
   "metadata": {},
   "outputs": [],
   "source": [
    "# for analytical\n",
    "df = pd.DataFrame(train_tfidf_X_sparse.todense())\n",
    "df.describe()"
   ]
  },
  {
   "cell_type": "code",
   "execution_count": null,
   "metadata": {},
   "outputs": [],
   "source": [
    "np.amax(train_tfidf_X_sparse[3])"
   ]
  },
  {
   "cell_type": "code",
   "execution_count": null,
   "metadata": {},
   "outputs": [],
   "source": [
    "df.head()"
   ]
  },
  {
   "cell_type": "markdown",
   "metadata": {},
   "source": [
    "## Model"
   ]
  },
  {
   "cell_type": "code",
   "execution_count": 17,
   "metadata": {},
   "outputs": [
    {
     "name": "stdout",
     "output_type": "stream",
     "text": [
      "------------nb-------------\n"
     ]
    },
    {
     "ename": "NameError",
     "evalue": "name 'train_tfidf_X_sparse' is not defined",
     "output_type": "error",
     "traceback": [
      "\u001b[1;31m---------------------------------------------------------------------------\u001b[0m",
      "\u001b[1;31mNameError\u001b[0m                                 Traceback (most recent call last)",
      "\u001b[1;32m<ipython-input-17-8df872cf5053>\u001b[0m in \u001b[0;36m<module>\u001b[1;34m\u001b[0m\n\u001b[0;32m      7\u001b[0m \u001b[0mprint\u001b[0m\u001b[1;33m(\u001b[0m\u001b[1;34m\"------------nb-------------\"\u001b[0m\u001b[1;33m)\u001b[0m\u001b[1;33m\u001b[0m\u001b[1;33m\u001b[0m\u001b[0m\n\u001b[0;32m      8\u001b[0m \u001b[0mclf\u001b[0m \u001b[1;33m=\u001b[0m \u001b[0mBernoulliNB\u001b[0m\u001b[1;33m(\u001b[0m\u001b[1;33m)\u001b[0m\u001b[1;33m\u001b[0m\u001b[1;33m\u001b[0m\u001b[0m\n\u001b[1;32m----> 9\u001b[1;33m \u001b[0mclf\u001b[0m\u001b[1;33m.\u001b[0m\u001b[0mfit\u001b[0m\u001b[1;33m(\u001b[0m\u001b[0mtrain_tfidf_X_sparse\u001b[0m\u001b[1;33m.\u001b[0m\u001b[0mtodense\u001b[0m\u001b[1;33m(\u001b[0m\u001b[1;33m)\u001b[0m\u001b[1;33m,\u001b[0m\u001b[0mtrain_tfidf_Y\u001b[0m\u001b[1;33m[\u001b[0m\u001b[1;34m'region'\u001b[0m\u001b[1;33m]\u001b[0m\u001b[1;33m)\u001b[0m\u001b[1;33m\u001b[0m\u001b[1;33m\u001b[0m\u001b[0m\n\u001b[0m\u001b[0;32m     10\u001b[0m \u001b[0mprint\u001b[0m\u001b[1;33m(\u001b[0m\u001b[1;34mf\"cv for tfidf set: {np.mean(cross_val_score(clf,train_tfidf_X_sparse.todense(),train_tfidf_Y['region'],cv=5))}, with acc: {clf.score(train_tfidf_X_sparse.todense(),train_tfidf_Y['region'])}\"\u001b[0m\u001b[1;33m)\u001b[0m\u001b[1;33m\u001b[0m\u001b[1;33m\u001b[0m\u001b[0m\n\u001b[0;32m     11\u001b[0m \u001b[0mprint\u001b[0m\u001b[1;33m(\u001b[0m\u001b[1;34m\"------------lr-------------\"\u001b[0m\u001b[1;33m)\u001b[0m\u001b[1;33m\u001b[0m\u001b[1;33m\u001b[0m\u001b[0m\n",
      "\u001b[1;31mNameError\u001b[0m: name 'train_tfidf_X_sparse' is not defined"
     ]
    }
   ],
   "source": [
    "from sklearn.naive_bayes import BernoulliNB\n",
    "from sklearn.linear_model import LogisticRegression\n",
    "from sklearn.model_selection import cross_val_score\n",
    "# since NB does not have many hyperparameters \n",
    "\n",
    "# Each model is now partially fit into the model, cv score will be evaluated each time when a new model is in.\n",
    "print(\"------------nb-------------\")\n",
    "clf = BernoulliNB()\n",
    "clf.fit(train_tfidf_X_sparse.todense(),train_tfidf_Y['region'])\n",
    "print(f\"cv for tfidf set: {np.mean(cross_val_score(clf,train_tfidf_X_sparse.todense(),train_tfidf_Y['region'],cv=5))}, with acc: {clf.score(train_tfidf_X_sparse.todense(),train_tfidf_Y['region'])}\")\n",
    "print(\"------------lr-------------\")\n",
    "clf_lr = LogisticRegression(warm_start=True,max_iter=5000)\n",
    "clf_lr.fit(train_tfidf_X_sparse.todense(),train_tfidf_Y['region'])\n",
    "print(f\"cv for tfidf set: {np.mean(cross_val_score(clf_lr,train_tfidf_X_sparse.todense(),train_tfidf_Y['region'],cv=5))}, with acc: {clf_lr.score(train_tfidf_X_sparse.todense(),train_tfidf_Y['region'])}\")"
   ]
  },
  {
   "cell_type": "code",
   "execution_count": null,
   "metadata": {},
   "outputs": [],
   "source": [
    "clf_lr.score(dev_tfidf_X_sparse.todense(),dev_tfidf_Y['region'])"
   ]
  },
  {
   "cell_type": "code",
   "execution_count": null,
   "metadata": {},
   "outputs": [],
   "source": [
    "clf.score(dev_tfidf_X_sparse.todense(),dev_tfidf_Y['region'])"
   ]
  },
  {
   "cell_type": "code",
   "execution_count": null,
   "metadata": {},
   "outputs": [],
   "source": [
    "from sklearn.feature_extraction.text import TfidfVectorizer\n",
    "from sklearn.svm import SVC\n",
    "from sklearn.pipeline import Pipeline\n",
    "from sklearn.model_selection import cross_val_score\n",
    "\n",
    "#X_full = np.concatenate((train_full_X['tweet'].values),axis=0)\n",
    "#svc_tfidf = Pipeline([(\"tfidf_vectorizer\", TfidfVectorizer(analyzer=lambda x: x)), (\"linear svc\", SVC(kernel=\"linear\"))])\n",
    "#scores = cross_val_score(svc_tfidf,train_full_X['tweet'].values, train_tfidf_Y['region'], cv=5).mean()\n",
    "#print(scores)\n",
    "#print(svc_tfidf.score(dev_tfidf_X_sparse.todense(),dev_tfidf_Y['region']))"
   ]
  },
  {
   "cell_type": "markdown",
   "metadata": {},
   "source": [
    "# 5. Experiment 5: One model proposed by paper. (incomplete)\n",
    "\n",
    "\n",
    "#### How: \n",
    "Duplicate a paper's model.\n",
    "\n",
    "## Determining spatial focus and dispersion"
   ]
  },
  {
   "cell_type": "markdown",
   "metadata": {},
   "source": [
    "### remove really noisy words ('!','..','.','...')     "
   ]
  },
  {
   "cell_type": "code",
   "execution_count": 43,
   "metadata": {},
   "outputs": [],
   "source": [
    "import regex\n",
    "for w_id,w in vocab.items():\n",
    "    # Below regex pattern: 1. all english wordwith number at front or back 2. any non-english word but ascii char with number and english letters \n",
    "    #3. number+english letters with ascii char at the back\n",
    "    result = regex.match(\"[a-zA-Z]+[0-9]*|\\P{L}+[0-9]*[a-zA-Z]+|[0-9]*[a-zA-Z]+\\P{L}+\",w)\n",
    "    if not result:\n",
    "        for label in labeled_word_count.keys():\n",
    "            labeled_word_count[label].pop(w_id)\n",
    "            #print(f\"eject:{w_id}, word:{w}\")\n",
    "    #else:\n",
    "        #print(result.string)"
   ]
  },
  {
   "cell_type": "markdown",
   "metadata": {},
   "source": [
    "### Functions"
   ]
  },
  {
   "cell_type": "code",
   "execution_count": 44,
   "metadata": {},
   "outputs": [],
   "source": [
    "# opposite direction will get diff of 2. 0.1 for same location. 1 for different location but not opposite\n",
    "def get_distance(city,center,labels):\n",
    "    if (city == center):\n",
    "        return 0.1\n",
    "    else:\n",
    "        diff = labels.index(city) - labels.index(center)\n",
    "        if abs(diff) >=3:\n",
    "            return 2\n",
    "        else:\n",
    "            return abs(diff)"
   ]
  },
  {
   "cell_type": "code",
   "execution_count": 45,
   "metadata": {},
   "outputs": [],
   "source": [
    "def fca(word, count,S,C,a,target_label,labels):\n",
    "    # Compute Sum of log(C*di^(-a)) for n times.\n",
    "    likelihood = count*math.log(C*np.power(get_distance(target_label,target_label,labels),-a))\n",
    "    p=0\n",
    "    # Compute Sum of log(C*di^(-a)) for n times.\n",
    "    for label in labels:\n",
    "        if label != target_label:\n",
    "            ct=S[label][str(word)]\n",
    "            p += ct*math.log(1-C*np.power(get_distance(target_label,label,labels),-a))\n",
    "    likelihood+=p\n",
    "    #print(f\"for word:{word}, likelihood:{likelihood}\")\n",
    "    return likelihood"
   ]
  },
  {
   "cell_type": "code",
   "execution_count": 46,
   "metadata": {},
   "outputs": [],
   "source": [
    "possible_C = np.arange(0.1,1,0.01).tolist()\n",
    "possible_a = np.arange(0.1,2,0.1).tolist() # 2 here means the largest distance in get_distance()"
   ]
  },
  {
   "cell_type": "code",
   "execution_count": 47,
   "metadata": {},
   "outputs": [],
   "source": [
    "# compute likelihood for given center(target_label), returns C and a.\n",
    "# C is somewhere in between 0~1 (not equal to the bound)\n",
    "# a could be anything (hard to determine)\n",
    "def compute_likelihood(S,out,target_label,labels):\n",
    "    for word,count in S[target_label].items():\n",
    "        # brute force approach, not good to have but a quick solution for now.\n",
    "        likelihood=dict()\n",
    "        for c in possible_C:\n",
    "            for a in possible_a:\n",
    "                likelihood[fca(word,count,S,c,a,target_label,labels)] = [c,a]\n",
    "        sorted_likelihood = dict(sorted(likelihood.items(),reverse=True))\n",
    "        it = iter(sorted_likelihood.keys())\n",
    "        max_pair=next(it)\n",
    "        out[word]=[sorted_likelihood[max_pair],max_pair]\n",
    "        #print(f\"In label:{target_label}, for word:{vocab[word]}, found likelihood with C and a{sorted_likelihood[max_pair]},likelihood:{max_pair}\")"
   ]
  },
  {
   "cell_type": "markdown",
   "metadata": {},
   "source": [
    "### Processing"
   ]
  },
  {
   "cell_type": "code",
   "execution_count": 48,
   "metadata": {},
   "outputs": [],
   "source": [
    "word_Ca = labeled_word_count.fromkeys(labeled_word_count, {})\n",
    "for label in labels:\n",
    "    compute_likelihood(labeled_word_count,word_Ca[label],label,labels)"
   ]
  },
  {
   "cell_type": "code",
   "execution_count": 49,
   "metadata": {},
   "outputs": [],
   "source": [
    "word_Ca_S=dict(sorted(word_Ca['SOUTH'].items(), key=lambda item: item[1][0],reverse=True))\n",
    "word_Ca_NE=dict(sorted(word_Ca['NORTHEAST'].items(), key=lambda item: item[1][0],reverse=True))\n",
    "word_Ca_MW=dict(sorted(word_Ca['MIDWEST'].items(), key=lambda item: item[1][0],reverse=True))\n",
    "word_Ca_W=dict(sorted(word_Ca['WEST'].items(), key=lambda item: item[1][0],reverse=True))"
   ]
  },
  {
   "cell_type": "code",
   "execution_count": 50,
   "metadata": {},
   "outputs": [
    {
     "data": {
      "text/plain": [
       "['NORTHEAST', 'MIDWEST', 'WEST', 'SOUTH']"
      ]
     },
     "execution_count": 50,
     "metadata": {},
     "output_type": "execute_result"
    }
   ],
   "source": [
    "labels"
   ]
  },
  {
   "cell_type": "code",
   "execution_count": 51,
   "metadata": {},
   "outputs": [
    {
     "name": "stdout",
     "output_type": "stream",
     "text": [
      "top 10 words in NORTHEAST: lls, data [[C,a],likelihood]:[[0.9899999999999995, 1.9000000000000001], 1830.5664602232357]\n",
      "top 10 words in NORTHEAST: jeezy, data [[C,a],likelihood]:[[0.9899999999999995, 1.9000000000000001], 190.3033278753583]\n",
      "top 10 words in NORTHEAST: #famusextape, data [[C,a],likelihood]:[[0.9899999999999995, 1.9000000000000001], 194.92698690612016]\n",
      "top 10 words in NORTHEAST: mph, data [[C,a],likelihood]:[[0.9899999999999995, 1.9000000000000001], 366.34010869477146]\n",
      "top 10 words in NORTHEAST: ke5fvg, data [[C,a],likelihood]:[[0.9899999999999995, 1.9000000000000001], 357.9186299484852]\n",
      "top 10 words in NORTHEAST: pct, data [[C,a],likelihood]:[[0.9899999999999995, 1.9000000000000001], 357.9186299484852]\n",
      "top 10 words in NORTHEAST: dc, data [[C,a],likelihood]:[[0.9699999999999995, 1.9000000000000001], 335.557253100283]\n",
      "top 10 words in NORTHEAST: duke, data [[C,a],likelihood]:[[0.9699999999999995, 1.9000000000000001], 204.0848076422603]\n",
      "top 10 words in NORTHEAST: aunt, data [[C,a],likelihood]:[[0.9599999999999995, 1.9000000000000001], 137.17447072172774]\n",
      "top 10 words in NORTHEAST: #imjustsaying, data [[C,a],likelihood]:[[0.9599999999999995, 1.9000000000000001], 136.70609946800377]\n",
      "top 10 words in NORTHEAST: shawty, data [[C,a],likelihood]:[[0.9399999999999996, 1.9000000000000001], 254.20649979121703]\n",
      "top 10 words in MIDWEST: lls, data [[C,a],likelihood]:[[0.9899999999999995, 1.9000000000000001], 1830.5664602232357]\n",
      "top 10 words in MIDWEST: jeezy, data [[C,a],likelihood]:[[0.9899999999999995, 1.9000000000000001], 190.3033278753583]\n",
      "top 10 words in MIDWEST: #famusextape, data [[C,a],likelihood]:[[0.9899999999999995, 1.9000000000000001], 194.92698690612016]\n",
      "top 10 words in MIDWEST: mph, data [[C,a],likelihood]:[[0.9899999999999995, 1.9000000000000001], 366.34010869477146]\n",
      "top 10 words in MIDWEST: ke5fvg, data [[C,a],likelihood]:[[0.9899999999999995, 1.9000000000000001], 357.9186299484852]\n",
      "top 10 words in MIDWEST: pct, data [[C,a],likelihood]:[[0.9899999999999995, 1.9000000000000001], 357.9186299484852]\n",
      "top 10 words in MIDWEST: dc, data [[C,a],likelihood]:[[0.9699999999999995, 1.9000000000000001], 335.557253100283]\n",
      "top 10 words in MIDWEST: duke, data [[C,a],likelihood]:[[0.9699999999999995, 1.9000000000000001], 204.0848076422603]\n",
      "top 10 words in MIDWEST: aunt, data [[C,a],likelihood]:[[0.9599999999999995, 1.9000000000000001], 137.17447072172774]\n",
      "top 10 words in MIDWEST: #imjustsaying, data [[C,a],likelihood]:[[0.9599999999999995, 1.9000000000000001], 136.70609946800377]\n",
      "top 10 words in MIDWEST: shawty, data [[C,a],likelihood]:[[0.9399999999999996, 1.9000000000000001], 254.20649979121703]\n",
      "top 10 words in WEST: lls, data [[C,a],likelihood]:[[0.9899999999999995, 1.9000000000000001], 1830.5664602232357]\n",
      "top 10 words in WEST: jeezy, data [[C,a],likelihood]:[[0.9899999999999995, 1.9000000000000001], 190.3033278753583]\n",
      "top 10 words in WEST: #famusextape, data [[C,a],likelihood]:[[0.9899999999999995, 1.9000000000000001], 194.92698690612016]\n",
      "top 10 words in WEST: mph, data [[C,a],likelihood]:[[0.9899999999999995, 1.9000000000000001], 366.34010869477146]\n",
      "top 10 words in WEST: ke5fvg, data [[C,a],likelihood]:[[0.9899999999999995, 1.9000000000000001], 357.9186299484852]\n",
      "top 10 words in WEST: pct, data [[C,a],likelihood]:[[0.9899999999999995, 1.9000000000000001], 357.9186299484852]\n",
      "top 10 words in WEST: dc, data [[C,a],likelihood]:[[0.9699999999999995, 1.9000000000000001], 335.557253100283]\n",
      "top 10 words in WEST: duke, data [[C,a],likelihood]:[[0.9699999999999995, 1.9000000000000001], 204.0848076422603]\n",
      "top 10 words in WEST: aunt, data [[C,a],likelihood]:[[0.9599999999999995, 1.9000000000000001], 137.17447072172774]\n",
      "top 10 words in WEST: #imjustsaying, data [[C,a],likelihood]:[[0.9599999999999995, 1.9000000000000001], 136.70609946800377]\n",
      "top 10 words in WEST: shawty, data [[C,a],likelihood]:[[0.9399999999999996, 1.9000000000000001], 254.20649979121703]\n",
      "top 10 words in SOUTH: lls, data [[C,a],likelihood]:[[0.9899999999999995, 1.9000000000000001], 1830.5664602232357]\n",
      "top 10 words in SOUTH: jeezy, data [[C,a],likelihood]:[[0.9899999999999995, 1.9000000000000001], 190.3033278753583]\n",
      "top 10 words in SOUTH: #famusextape, data [[C,a],likelihood]:[[0.9899999999999995, 1.9000000000000001], 194.92698690612016]\n",
      "top 10 words in SOUTH: mph, data [[C,a],likelihood]:[[0.9899999999999995, 1.9000000000000001], 366.34010869477146]\n",
      "top 10 words in SOUTH: ke5fvg, data [[C,a],likelihood]:[[0.9899999999999995, 1.9000000000000001], 357.9186299484852]\n",
      "top 10 words in SOUTH: pct, data [[C,a],likelihood]:[[0.9899999999999995, 1.9000000000000001], 357.9186299484852]\n",
      "top 10 words in SOUTH: dc, data [[C,a],likelihood]:[[0.9699999999999995, 1.9000000000000001], 335.557253100283]\n",
      "top 10 words in SOUTH: duke, data [[C,a],likelihood]:[[0.9699999999999995, 1.9000000000000001], 204.0848076422603]\n",
      "top 10 words in SOUTH: aunt, data [[C,a],likelihood]:[[0.9599999999999995, 1.9000000000000001], 137.17447072172774]\n",
      "top 10 words in SOUTH: #imjustsaying, data [[C,a],likelihood]:[[0.9599999999999995, 1.9000000000000001], 136.70609946800377]\n",
      "top 10 words in SOUTH: shawty, data [[C,a],likelihood]:[[0.9399999999999996, 1.9000000000000001], 254.20649979121703]\n"
     ]
    }
   ],
   "source": [
    "word_Cas=dict()\n",
    "word_Cas['NORTHEAST'] = word_Ca_NE\n",
    "word_Cas['SOUTH'] = word_Ca_S\n",
    "word_Cas['MIDWEST'] = word_Ca_MW\n",
    "word_Cas['WEST'] = word_Ca_W\n",
    "for label in labels:\n",
    "    i = 0\n",
    "    for word,values in word_Cas[label].items():\n",
    "        print(f\"top 10 words in {label}: {vocab[word]}, data [[C,a],likelihood]:{values}\")\n",
    "        if i == 10:\n",
    "            break\n",
    "        else:\n",
    "            i+=1"
   ]
  },
  {
   "cell_type": "code",
   "execution_count": null,
   "metadata": {},
   "outputs": [],
   "source": []
  },
  {
   "cell_type": "markdown",
   "metadata": {},
   "source": [
    "# 6. Experiment 6: CNN\n",
    "\n",
    "#### How: \n",
    "Duplicate a paper's model.\n",
    "pass inputs(as below) into a CNN model that comes with:\n",
    "- Convolutional layer with length of h*d, h= number of words in a tweet, d = dimension in GloVe. activation function = ReLU\n",
    "- Polling: 1-max, o_hat = max{[o1,o2,o3,...,on-h+1]}, in this case, with averaged GloVe300d, it will pick up max val.\n",
    "- Combination of other data: we only have username in this case, it may be used, see if i have got time or not.\n",
    "\n",
    "#### Input: \n",
    "- Glove 300d provided by teaching staff.\n",
    "- my own GloVe 200d. \n",
    "\n",
    "## Model"
   ]
  },
  {
   "cell_type": "code",
   "execution_count": 26,
   "metadata": {},
   "outputs": [],
   "source": [
    "import tensorflow as tf\n",
    "import tensorflow.keras as keras\n",
    "from tensorflow.keras import datasets, layers, models\n",
    "from tensorflow.keras.callbacks import ModelCheckpoint, EarlyStopping, ReduceLROnPlateau\n",
    "from tensorflow.keras.utils import to_categorical\n",
    "from sklearn.preprocessing import OneHotEncoder\n",
    "from sklearn.model_selection import train_test_split"
   ]
  },
  {
   "cell_type": "code",
   "execution_count": 27,
   "metadata": {},
   "outputs": [
    {
     "data": {
      "text/plain": [
       "array(['x0_MIDWEST', 'x0_NORTHEAST', 'x0_SOUTH', 'x0_WEST'], dtype=object)"
      ]
     },
     "execution_count": 27,
     "metadata": {},
     "output_type": "execute_result"
    }
   ],
   "source": [
    "enc = OneHotEncoder(sparse=False)\n",
    "enc_dev = OneHotEncoder(sparse=False)\n",
    "ty = enc.fit_transform(train_glove_Y)\n",
    "dy = enc_dev.fit_transform(dev_glove_Y)\n",
    "enc_dev.get_feature_names()"
   ]
  },
  {
   "cell_type": "code",
   "execution_count": 28,
   "metadata": {},
   "outputs": [],
   "source": [
    "tx = train_glove_X.to_numpy()\n",
    "#X_train, X_valid, y_train, y_valid = train_test_split(tx, ty, test_size = 0.2, random_state=1)\n",
    "dx = dev_glove_X.to_numpy()"
   ]
  },
  {
   "cell_type": "code",
   "execution_count": 29,
   "metadata": {},
   "outputs": [],
   "source": [
    "tx = tx[..., None]\n",
    "dx = dx[..., None]"
   ]
  },
  {
   "cell_type": "code",
   "execution_count": 30,
   "metadata": {},
   "outputs": [
    {
     "data": {
      "text/plain": [
       "(133795, 2, 1)"
      ]
     },
     "execution_count": 30,
     "metadata": {},
     "output_type": "execute_result"
    }
   ],
   "source": [
    "tx.shape"
   ]
  },
  {
   "cell_type": "code",
   "execution_count": 31,
   "metadata": {},
   "outputs": [
    {
     "name": "stdout",
     "output_type": "stream",
     "text": [
      "Model: \"model\"\n",
      "__________________________________________________________________________________________________\n",
      "Layer (type)                    Output Shape         Param #     Connected to                     \n",
      "==================================================================================================\n",
      "input_1 (InputLayer)            [(None, 300, 1)]     0                                            \n",
      "__________________________________________________________________________________________________\n",
      "conv1d (Conv1D)                 (None, 299, 128)     384         input_1[0][0]                    \n",
      "__________________________________________________________________________________________________\n",
      "conv1d_1 (Conv1D)               (None, 298, 128)     512         input_1[0][0]                    \n",
      "__________________________________________________________________________________________________\n",
      "conv1d_2 (Conv1D)               (None, 297, 128)     640         input_1[0][0]                    \n",
      "__________________________________________________________________________________________________\n",
      "max_pooling1d (MaxPooling1D)    (None, 2, 128)       0           conv1d[0][0]                     \n",
      "__________________________________________________________________________________________________\n",
      "max_pooling1d_1 (MaxPooling1D)  (None, 2, 128)       0           conv1d_1[0][0]                   \n",
      "__________________________________________________________________________________________________\n",
      "max_pooling1d_2 (MaxPooling1D)  (None, 2, 128)       0           conv1d_2[0][0]                   \n",
      "__________________________________________________________________________________________________\n",
      "concatenate (Concatenate)       (None, 2, 384)       0           max_pooling1d[0][0]              \n",
      "                                                                 max_pooling1d_1[0][0]            \n",
      "                                                                 max_pooling1d_2[0][0]            \n",
      "__________________________________________________________________________________________________\n",
      "global_max_pooling1d (GlobalMax (None, 384)          0           concatenate[0][0]                \n",
      "__________________________________________________________________________________________________\n",
      "flatten (Flatten)               (None, 384)          0           global_max_pooling1d[0][0]       \n",
      "__________________________________________________________________________________________________\n",
      "dense (Dense)                   (None, 128)          49280       flatten[0][0]                    \n",
      "__________________________________________________________________________________________________\n",
      "dropout (Dropout)               (None, 128)          0           dense[0][0]                      \n",
      "__________________________________________________________________________________________________\n",
      "dense_1 (Dense)                 (None, 4)            516         dropout[0][0]                    \n",
      "==================================================================================================\n",
      "Total params: 51,332\n",
      "Trainable params: 51,332\n",
      "Non-trainable params: 0\n",
      "__________________________________________________________________________________________________\n"
     ]
    }
   ],
   "source": [
    "from tensorflow.keras import layers\n",
    "\n",
    "embedded_sequences = keras.Input(shape=(300,1))\n",
    "\n",
    "f1 = layers.Conv1D(128, 2, activation=\"relu\")(embedded_sequences)\n",
    "f1 = layers.MaxPooling1D(100)(f1)\n",
    "f2 = layers.Conv1D(128, 3, activation=\"relu\")(embedded_sequences)\n",
    "f2 = layers.MaxPooling1D(100)(f2)\n",
    "f3 = layers.Conv1D(128, 4, activation=\"relu\")(embedded_sequences)\n",
    "f3 = layers.MaxPooling1D(100)(f3)\n",
    "x = layers.concatenate([f1,f2,f3])\n",
    "x = layers.GlobalMaxPooling1D()(x)\n",
    "x = layers.Flatten()(x)\n",
    "x = layers.Dense(128, activation=\"relu\")(x)\n",
    "x = layers.Dropout(0.5)(x)\n",
    "preds = layers.Dense(len(labels), activation=\"softmax\")(x)\n",
    "model = keras.Model(embedded_sequences, preds)\n",
    "model.summary()\n"
   ]
  },
  {
   "cell_type": "code",
   "execution_count": 72,
   "metadata": {},
   "outputs": [
    {
     "name": "stdout",
     "output_type": "stream",
     "text": [
      "Epoch 1/10\n",
      "1035/1035 [==============================] - 84s 81ms/step - loss: 1.2521 - acc: 0.3995 - val_loss: 1.2531 - val_acc: 0.4123\n",
      "Epoch 2/10\n",
      "1035/1035 [==============================] - 83s 81ms/step - loss: 1.2345 - acc: 0.4189 - val_loss: 1.2561 - val_acc: 0.4155\n",
      "Epoch 3/10\n",
      "1035/1035 [==============================] - 83s 80ms/step - loss: 1.2345 - acc: 0.4195 - val_loss: 1.2512 - val_acc: 0.4208\n",
      "Epoch 4/10\n",
      "1035/1035 [==============================] - 83s 80ms/step - loss: 1.2288 - acc: 0.4251 - val_loss: 1.2509 - val_acc: 0.4204\n",
      "Epoch 5/10\n",
      "1035/1035 [==============================] - 83s 80ms/step - loss: 1.2321 - acc: 0.4218 - val_loss: 1.2508 - val_acc: 0.4215\n",
      "Epoch 6/10\n",
      "1035/1035 [==============================] - 83s 81ms/step - loss: 1.2351 - acc: 0.4155 - val_loss: 1.2509 - val_acc: 0.4205\n",
      "Epoch 7/10\n",
      "1035/1035 [==============================] - 84s 81ms/step - loss: 1.2300 - acc: 0.4249 - val_loss: 1.2517 - val_acc: 0.4218\n",
      "Epoch 8/10\n",
      "1035/1035 [==============================] - 85s 83ms/step - loss: 1.2310 - acc: 0.4254 - val_loss: 1.2504 - val_acc: 0.4237\n",
      "Epoch 9/10\n",
      "1035/1035 [==============================] - 87s 84ms/step - loss: 1.2286 - acc: 0.4272 - val_loss: 1.2502 - val_acc: 0.4201\n",
      "Epoch 10/10\n",
      "1035/1035 [==============================] - 88s 85ms/step - loss: 1.2286 - acc: 0.4253 - val_loss: 1.2527 - val_acc: 0.4169\n"
     ]
    },
    {
     "data": {
      "text/plain": [
       "<tensorflow.python.keras.callbacks.History at 0x24a7822c970>"
      ]
     },
     "execution_count": 72,
     "metadata": {},
     "output_type": "execute_result"
    }
   ],
   "source": [
    "model.compile(loss='categorical_crossentropy', optimizer='adam', metrics=['acc'])\n",
    "#cb = [ModelCheckpoint(\"weights.h5\", save_best_only=True, save_weights_only=False)], callbacks=cb\n",
    "model.fit(tx, ty, validation_data=(dx,dy), epochs=3, batch_size=128)"
   ]
  },
  {
   "cell_type": "code",
   "execution_count": 73,
   "metadata": {},
   "outputs": [
    {
     "name": "stdout",
     "output_type": "stream",
     "text": [
      "38/38 [==============================] - 3s 76ms/step - loss: 1.2527 - acc: 0.4169\n"
     ]
    },
    {
     "data": {
      "text/plain": [
       "[1.2526755332946777, 0.4168791174888611]"
      ]
     },
     "execution_count": 73,
     "metadata": {},
     "output_type": "execute_result"
    }
   ],
   "source": [
    "model.evaluate(dx,dy,batch_size=300)"
   ]
  },
  {
   "cell_type": "markdown",
   "metadata": {},
   "source": [
    "## Process from full text\n",
    "Note that i use a part of code from:https://keras.io/examples/nlp/pretrained_word_embeddings/"
   ]
  },
  {
   "cell_type": "code",
   "execution_count": 32,
   "metadata": {},
   "outputs": [],
   "source": [
    "import numpy as np\n",
    "import tensorflow as tf\n",
    "from tensorflow import keras"
   ]
  },
  {
   "cell_type": "code",
   "execution_count": 57,
   "metadata": {},
   "outputs": [],
   "source": [
    "X_train_twitter=train_full_X['tweet']\n",
    "X_train_twitter.to_numpy()\n",
    "X_dev_twitter=dev_full_X['tweet']\n",
    "X_dev_twitter.to_numpy()\n",
    "X_test_twitter=test_full_X['tweet']\n",
    "X_test_twitter.to_numpy()\n",
    "down_sample_limit = 116191\n",
    "#NORTHEAST\n",
    "#SOUTH\n",
    "i=0\n",
    "c_n=0\n",
    "c_s=0\n",
    "x_train = list()\n",
    "y_train = list()\n",
    "for tweet in X_train_twitter:\n",
    "    if y_train_twitter[i] == 'NORTHEAST':\n",
    "        if c_n != down_sample_limit:\n",
    "            x_train.append(tweet)\n",
    "            y_train.append(y_train_twitter[i])\n",
    "            c_n+=1\n",
    "    elif y_train_twitter[i] == 'SOUTH':\n",
    "        if c_s != down_sample_limit:\n",
    "            x_train.append(tweet)\n",
    "            y_train.append(y_train_twitter[i])\n",
    "            c_s+=1\n",
    "    else:\n",
    "        x_train.append(tweet)\n",
    "        y_train.append(y_train_twitter[i])\n",
    "    i+=1"
   ]
  },
  {
   "cell_type": "code",
   "execution_count": 58,
   "metadata": {},
   "outputs": [
    {
     "data": {
      "text/plain": [
       "array(['Watching LOST', '@USER_89a3500b i did',\n",
       "       'Maneuver so that I can put my team on, hopefully sooner so that we can live our dreams on',\n",
       "       ..., \"@USER_8cac2975 Haven't seen that one in ages. But I remeber\",\n",
       "       \"RT @USER_6d0753d3: You should all go and follow @USER_b7a77112. They're IN SPACE. They're TWEETING pix. and they're frakking ASTRONAUTS.\",\n",
       "       '@USER_4cf8655a Congratulations. (-:'], dtype='<U342')"
      ]
     },
     "execution_count": 58,
     "metadata": {},
     "output_type": "execute_result"
    }
   ],
   "source": [
    "x_train_down = np.array(x_train)\n",
    "y_train_down = np.array(y_train)\n",
    "x_train_down"
   ]
  },
  {
   "cell_type": "code",
   "execution_count": 34,
   "metadata": {},
   "outputs": [
    {
     "data": {
      "text/plain": [
       "0         NORTHEAST\n",
       "1         NORTHEAST\n",
       "2         NORTHEAST\n",
       "3         NORTHEAST\n",
       "4         NORTHEAST\n",
       "            ...    \n",
       "133790        SOUTH\n",
       "133791        SOUTH\n",
       "133792        SOUTH\n",
       "133793        SOUTH\n",
       "133794        SOUTH\n",
       "Name: region, Length: 133795, dtype: object"
      ]
     },
     "execution_count": 34,
     "metadata": {},
     "output_type": "execute_result"
    }
   ],
   "source": [
    "y_train_twitter=train_full_Y['region']\n",
    "y_train_twitter.to_numpy()\n",
    "y_dev_twitter=dev_full_Y['region']\n",
    "y_dev_twitter.to_numpy()\n",
    "y_test_twitter=test_full_Y['region']\n",
    "y_test_twitter.to_numpy()\n",
    "y_train_twitter"
   ]
  },
  {
   "cell_type": "markdown",
   "metadata": {},
   "source": [
    "### Split and vectorize"
   ]
  },
  {
   "cell_type": "code",
   "execution_count": 36,
   "metadata": {},
   "outputs": [],
   "source": [
    "from tensorflow.keras.layers.experimental.preprocessing import TextVectorization\n",
    "\n",
    "vectorizer = TextVectorization(max_tokens=10000000, output_sequence_length=200)\n",
    "text_ds = tf.data.Dataset.from_tensor_slices(train_full_X['tweet'].to_numpy()).batch(128) # use entire training data for vocab\n",
    "vectorizer.adapt(text_ds)"
   ]
  },
  {
   "cell_type": "code",
   "execution_count": 37,
   "metadata": {},
   "outputs": [
    {
     "data": {
      "text/plain": [
       "[3, 1922, 1012, 17, 3, 9972]"
      ]
     },
     "execution_count": 37,
     "metadata": {},
     "output_type": "execute_result"
    }
   ],
   "source": [
    "voc = vectorizer.get_vocabulary()\n",
    "word_index = dict(zip(voc, range(len(voc))))\n",
    "test = [\"the\", \"cat\", \"sat\", \"on\", \"the\", \"mat\"]\n",
    "[word_index[w] for w in test]"
   ]
  },
  {
   "cell_type": "markdown",
   "metadata": {},
   "source": [
    "### Word embeddings\n",
    "Glove vectors comes from: https://github.com/stanfordnlp/GloVe"
   ]
  },
  {
   "cell_type": "code",
   "execution_count": 38,
   "metadata": {},
   "outputs": [
    {
     "name": "stdout",
     "output_type": "stream",
     "text": [
      "Found 1177846 word vectors.\n"
     ]
    }
   ],
   "source": [
    "import string\n",
    "path_to_glove_file = os.path.join(\"G:/UNIMELB/ML/A3/emb/glove.twitter.27B.200d.txt\")\n",
    "\n",
    "embeddings_index = {}\n",
    "with open(path_to_glove_file,'r', encoding='utf-8') as f:\n",
    "    for line in f:\n",
    "        word, coefs = line.split(maxsplit=1)\n",
    "        word = word.translate(str.maketrans('', '', string.punctuation)).lower() #same way as keras Vectrization.\n",
    "        coefs = np.fromstring(coefs, sep=\" \")\n",
    "        if embeddings_index.get(word) is None: \n",
    "            embeddings_index[word] = coefs\n",
    "\n",
    "print(\"Found %s word vectors.\" % len(embeddings_index))"
   ]
  },
  {
   "cell_type": "code",
   "execution_count": 44,
   "metadata": {},
   "outputs": [
    {
     "name": "stdout",
     "output_type": "stream",
     "text": [
      "Converted 41331 words (101691 misses)\n"
     ]
    }
   ],
   "source": [
    "num_tokens = len(voc) + 2\n",
    "embedding_dim = 200\n",
    "hits = 0\n",
    "misses = 0\n",
    "\n",
    "# Prepare embedding matrix\n",
    "embedding_matrix = np.zeros((num_tokens, embedding_dim))\n",
    "for word, i in word_index.items():\n",
    "    embedding_vector = embeddings_index.get(word)\n",
    "    if embedding_vector is not None:\n",
    "        # Words not found in embedding index will be all-zeros.\n",
    "        # This includes the representation for \"padding\" and \"OOV\"\n",
    "        embedding_matrix[i] = embedding_vector\n",
    "        hits += 1\n",
    "    else:\n",
    "        misses += 1\n",
    "        #print(\"misses:\",word)\n",
    "        \n",
    "print(\"Converted %d words (%d misses)\" % (hits, misses))"
   ]
  },
  {
   "cell_type": "markdown",
   "metadata": {},
   "source": [
    "### Model build and evaluation"
   ]
  },
  {
   "cell_type": "code",
   "execution_count": 68,
   "metadata": {},
   "outputs": [
    {
     "data": {
      "text/plain": [
       "array(['x0_MIDWEST', 'x0_NORTHEAST', 'x0_SOUTH', 'x0_WEST'], dtype=object)"
      ]
     },
     "execution_count": 68,
     "metadata": {},
     "output_type": "execute_result"
    }
   ],
   "source": [
    "enc = OneHotEncoder(sparse=False)\n",
    "enc_dev = OneHotEncoder(sparse=False)\n",
    "y_train = enc.fit_transform(y_train.to_numpy().reshape(-1, 1))\n",
    "y_val = enc_dev.fit_transform(y_val.to_numpy().reshape(-1, 1))\n",
    "y_train_full = enc.fit_transform(y_train_twitter.to_numpy().reshape(-1,1))\n",
    "y_dev = enc_dev.fit_transform(y_dev_twitter.to_numpy().reshape(-1, 1))\n",
    "enc_dev.get_feature_names()"
   ]
  },
  {
   "cell_type": "code",
   "execution_count": 59,
   "metadata": {},
   "outputs": [
    {
     "data": {
      "text/plain": [
       "array([[0., 1., 0., 0.],\n",
       "       [0., 1., 0., 0.],\n",
       "       [0., 1., 0., 0.],\n",
       "       ...,\n",
       "       [0., 0., 1., 0.],\n",
       "       [0., 0., 1., 0.],\n",
       "       [0., 0., 1., 0.]])"
      ]
     },
     "execution_count": 59,
     "metadata": {},
     "output_type": "execute_result"
    }
   ],
   "source": [
    "x_train = vectorizer(np.array([[s.translate(str.maketrans('', '', string.punctuation)).lower()] for s in x_train_down])).numpy()\n",
    "x_val = vectorizer(np.array([[s.translate(str.maketrans('', '', string.punctuation)).lower()] for s in X_val])).numpy()\n",
    "x_train_full = vectorizer(np.array([[s.translate(str.maketrans('', '', string.punctuation)).lower()] for s in X_train_twitter])).numpy()\n",
    "x_dev_full = vectorizer(np.array([[s.translate(str.maketrans('', '', string.punctuation)).lower()] for s in X_dev_twitter])).numpy()\n",
    "x_test_full = vectorizer(np.array([[s.translate(str.maketrans('', '', string.punctuation)).lower()] for s in X_test_twitter])).numpy()\n",
    "\n",
    "\n",
    "y_train = np.array(y_train_down)\n",
    "y_val = np.array(y_val)\n",
    "y_dev = np.array(y_dev)\n",
    "y_train_full = np.array(y_train_full)\n",
    "y_train_full"
   ]
  },
  {
   "cell_type": "code",
   "execution_count": 42,
   "metadata": {},
   "outputs": [],
   "source": [
    "from tensorflow.keras.layers import Embedding\n",
    "\n",
    "embedding_layer = Embedding(\n",
    "    num_tokens,\n",
    "    embedding_dim,\n",
    "    embeddings_initializer=keras.initializers.Constant(embedding_matrix),\n",
    "    trainable=True,\n",
    ")"
   ]
  },
  {
   "cell_type": "code",
   "execution_count": 43,
   "metadata": {},
   "outputs": [
    {
     "name": "stdout",
     "output_type": "stream",
     "text": [
      "Model: \"model_1\"\n",
      "__________________________________________________________________________________________________\n",
      "Layer (type)                    Output Shape         Param #     Connected to                     \n",
      "==================================================================================================\n",
      "input_2 (InputLayer)            [(None, None)]       0                                            \n",
      "__________________________________________________________________________________________________\n",
      "embedding (Embedding)           (None, None, 200)    28604800    input_2[0][0]                    \n",
      "__________________________________________________________________________________________________\n",
      "conv1d_3 (Conv1D)               (None, None, 128)    51328       embedding[0][0]                  \n",
      "__________________________________________________________________________________________________\n",
      "conv1d_4 (Conv1D)               (None, None, 128)    76928       embedding[0][0]                  \n",
      "__________________________________________________________________________________________________\n",
      "conv1d_5 (Conv1D)               (None, None, 128)    102528      embedding[0][0]                  \n",
      "__________________________________________________________________________________________________\n",
      "max_pooling1d_3 (MaxPooling1D)  (None, None, 128)    0           conv1d_3[0][0]                   \n",
      "__________________________________________________________________________________________________\n",
      "max_pooling1d_4 (MaxPooling1D)  (None, None, 128)    0           conv1d_4[0][0]                   \n",
      "__________________________________________________________________________________________________\n",
      "max_pooling1d_5 (MaxPooling1D)  (None, None, 128)    0           conv1d_5[0][0]                   \n",
      "__________________________________________________________________________________________________\n",
      "concatenate_1 (Concatenate)     (None, None, 384)    0           max_pooling1d_3[0][0]            \n",
      "                                                                 max_pooling1d_4[0][0]            \n",
      "                                                                 max_pooling1d_5[0][0]            \n",
      "__________________________________________________________________________________________________\n",
      "global_max_pooling1d_1 (GlobalM (None, 384)          0           concatenate_1[0][0]              \n",
      "__________________________________________________________________________________________________\n",
      "dense_2 (Dense)                 (None, 128)          49280       global_max_pooling1d_1[0][0]     \n",
      "__________________________________________________________________________________________________\n",
      "dropout_1 (Dropout)             (None, 128)          0           dense_2[0][0]                    \n",
      "__________________________________________________________________________________________________\n",
      "dense_3 (Dense)                 (None, 4)            516         dropout_1[0][0]                  \n",
      "==================================================================================================\n",
      "Total params: 28,885,380\n",
      "Trainable params: 28,885,380\n",
      "Non-trainable params: 0\n",
      "__________________________________________________________________________________________________\n"
     ]
    }
   ],
   "source": [
    "from tensorflow.keras import layers\n",
    "\n",
    "int_sequences_input = keras.Input(shape=(None,), dtype=\"int64\")\n",
    "embedded_sequences = embedding_layer(int_sequences_input)\n",
    "\n",
    "f1 = layers.Conv1D(128, 2, activation=\"relu\")(embedded_sequences)\n",
    "f1 = layers.MaxPooling1D(100)(f1)\n",
    "f2 = layers.Conv1D(128, 3, activation=\"relu\")(embedded_sequences)\n",
    "f2 = layers.MaxPooling1D(100)(f2)\n",
    "f3 = layers.Conv1D(128, 4, activation=\"relu\")(embedded_sequences)\n",
    "f3 = layers.MaxPooling1D(100)(f3)\n",
    "x = layers.concatenate([f1,f2,f3])\n",
    "x = layers.GlobalMaxPooling1D()(x)\n",
    "x = layers.Dense(128, activation=\"relu\")(x)\n",
    "x = layers.Dropout(0.5)(x)\n",
    "preds = layers.Dense(len(labels), activation=\"softmax\")(x)\n",
    "model2 = keras.Model(int_sequences_input, preds)\n",
    "model2.summary()"
   ]
  },
  {
   "cell_type": "code",
   "execution_count": 119,
   "metadata": {},
   "outputs": [
    {
     "name": "stdout",
     "output_type": "stream",
     "text": [
      "Epoch 1/3\n",
      "1046/1046 [==============================] - 439s 420ms/step - loss: 1.2348 - acc: 0.4222 - val_loss: 1.2060 - val_acc: 0.4590\n",
      "Epoch 2/3\n",
      "1046/1046 [==============================] - 431s 412ms/step - loss: 0.8946 - acc: 0.6241 - val_loss: 1.2656 - val_acc: 0.4941\n",
      "Epoch 3/3\n",
      "1046/1046 [==============================] - 431s 412ms/step - loss: 0.4071 - acc: 0.8392 - val_loss: 1.3836 - val_acc: 0.4950\n"
     ]
    },
    {
     "data": {
      "text/plain": [
       "<tensorflow.python.keras.callbacks.History at 0x2a86d548160>"
      ]
     },
     "execution_count": 119,
     "metadata": {},
     "output_type": "execute_result"
    }
   ],
   "source": [
    "model2.compile(\n",
    "    loss=\"categorical_crossentropy\", optimizer=\"adam\", metrics=[\"acc\"]\n",
    ")\n",
    "model2.fit(x_train_full, y_train_full, batch_size=128, epochs=3, validation_data=(x_dev_full, y_dev))"
   ]
  },
  {
   "cell_type": "code",
   "execution_count": 120,
   "metadata": {},
   "outputs": [
    {
     "name": "stdout",
     "output_type": "stream",
     "text": [
      "90/90 [==============================] - 5s 61ms/step - loss: 1.3836 - acc: 0.4950: 0s - loss: 1.3672 - acc: 0\n"
     ]
    },
    {
     "data": {
      "text/plain": [
       "[1.383583426475525, 0.4949890971183777]"
      ]
     },
     "execution_count": 120,
     "metadata": {},
     "output_type": "execute_result"
    }
   ],
   "source": [
    "model2.evaluate(x_dev_full,y_dev,batch_size=128)"
   ]
  },
  {
   "cell_type": "code",
   "execution_count": null,
   "metadata": {},
   "outputs": [],
   "source": []
  },
  {
   "cell_type": "markdown",
   "metadata": {},
   "source": [
    "## My own Glove 200d training (b1)\n",
    "Since above hit and miss is way too unbalanced (41064 words hit vs. 101956 misses), I will need to train my own GloVe with this!\n",
    "\n",
    "How: Use dev and train set, output each tweet as word corpus\n"
   ]
  },
  {
   "cell_type": "code",
   "execution_count": 164,
   "metadata": {},
   "outputs": [
    {
     "name": "stdout",
     "output_type": "stream",
     "text": [
      "start my own vectors\n"
     ]
    },
    {
     "name": "stderr",
     "output_type": "stream",
     "text": [
      "<ipython-input-164-ce0b25a4876a>:11: DeprecationWarning: string or file could not be read to its end due to unmatched data; this will raise a ValueError in the future.\n",
      "  coefs = np.fromstring(coefs, sep=\" \")\n"
     ]
    },
    {
     "name": "stdout",
     "output_type": "stream",
     "text": [
      "Found 1287266 word vectors.\n"
     ]
    }
   ],
   "source": [
    "path_to_my_glove_file = os.path.join(\"G:/UNIMELB/ML/A3/emb/my_glove_vectors_b1.txt\")\n",
    "#G:/UNIMELB/ML/A3/emb/my_glove_vectors_b2.txt\n",
    "#G:/UNIMELB/ML/A3/emb/my_glove_vectors_b5.txt\n",
    "\n",
    "# Use my own training set as complement set\n",
    "print(\"start my own vectors\")\n",
    "with open(path_to_my_glove_file,'r', encoding='utf-8') as f:\n",
    "    for line in f:\n",
    "        word, coefs = line.split(maxsplit=1)\n",
    "        word = word.translate(str.maketrans('', '', string.punctuation)).lower() #same way as keras Vectrization.\n",
    "        coefs = np.fromstring(coefs, sep=\" \")\n",
    "        if embeddings_index.get(word) is None: \n",
    "            embeddings_index[word] = coefs\n",
    "\n",
    "print(\"Found %s word vectors.\" % len(embeddings_index))"
   ]
  },
  {
   "cell_type": "code",
   "execution_count": 165,
   "metadata": {},
   "outputs": [
    {
     "name": "stdout",
     "output_type": "stream",
     "text": [
      "Converted 141352 words (1670 misses)\n"
     ]
    }
   ],
   "source": [
    "num_tokens = len(voc) + 2\n",
    "embedding_dim = 200\n",
    "hits = 0\n",
    "misses = 0\n",
    "x=0\n",
    "# Prepare embedding matrix\n",
    "embedding_matrix = np.zeros((num_tokens, embedding_dim))\n",
    "for word, i in word_index.items():\n",
    "    embedding_vector = embeddings_index.get(word)\n",
    "    if embedding_vector is not None:\n",
    "        # Words not found in embedding index will be all-zeros.\n",
    "        # This includes the representation for \"padding\" and \"OOV\"\n",
    "        embedding_matrix[i] = embedding_vector\n",
    "        hits += 1\n",
    "    elif embeddings_index.get(\"#\"+word) is not None:\n",
    "        embedding_matrix[i] = embeddings_index.get(\"#\"+word)\n",
    "        hits += 1\n",
    "    elif embeddings_index.get(\"@\"+word) is not None:\n",
    "        embedding_matrix[i] = embeddings_index.get(\"@\"+word)\n",
    "        hits += 1\n",
    "    else:\n",
    "        misses += 1\n",
    "\n",
    "\n",
    "print(\"Converted %d words (%d misses)\" % (hits, misses))"
   ]
  },
  {
   "cell_type": "code",
   "execution_count": 61,
   "metadata": {},
   "outputs": [],
   "source": [
    "# output dev and train set as txt\n",
    "out = np.concatenate((dev_full_X['tweet'].values,train_full_X['tweet'].values, test_full_X['tweet'].values),axis=0)\n",
    "np.savetxt(r'my_glove_w_test.txt',out,fmt='%s',encoding='utf-8')\n",
    "# now, the out file will be moving to glove project copy in my local, and trained by my bash script in the project."
   ]
  },
  {
   "cell_type": "markdown",
   "metadata": {},
   "source": [
    "### Model build and evaluation"
   ]
  },
  {
   "cell_type": "code",
   "execution_count": 123,
   "metadata": {},
   "outputs": [
    {
     "name": "stdout",
     "output_type": "stream",
     "text": [
      "Model: \"model_18\"\n",
      "__________________________________________________________________________________________________\n",
      "Layer (type)                    Output Shape         Param #     Connected to                     \n",
      "==================================================================================================\n",
      "input_24 (InputLayer)           [(None, None)]       0                                            \n",
      "__________________________________________________________________________________________________\n",
      "embedding_6 (Embedding)         (None, None, 200)    28604800    input_24[0][0]                   \n",
      "__________________________________________________________________________________________________\n",
      "conv1d_66 (Conv1D)              (None, None, 128)    51328       embedding_6[2][0]                \n",
      "__________________________________________________________________________________________________\n",
      "conv1d_67 (Conv1D)              (None, None, 128)    76928       embedding_6[2][0]                \n",
      "__________________________________________________________________________________________________\n",
      "conv1d_68 (Conv1D)              (None, None, 128)    102528      embedding_6[2][0]                \n",
      "__________________________________________________________________________________________________\n",
      "max_pooling1d_66 (MaxPooling1D) (None, None, 128)    0           conv1d_66[0][0]                  \n",
      "__________________________________________________________________________________________________\n",
      "max_pooling1d_67 (MaxPooling1D) (None, None, 128)    0           conv1d_67[0][0]                  \n",
      "__________________________________________________________________________________________________\n",
      "max_pooling1d_68 (MaxPooling1D) (None, None, 128)    0           conv1d_68[0][0]                  \n",
      "__________________________________________________________________________________________________\n",
      "concatenate_22 (Concatenate)    (None, None, 384)    0           max_pooling1d_66[0][0]           \n",
      "                                                                 max_pooling1d_67[0][0]           \n",
      "                                                                 max_pooling1d_68[0][0]           \n",
      "__________________________________________________________________________________________________\n",
      "global_max_pooling1d_17 (Global (None, 384)          0           concatenate_22[0][0]             \n",
      "__________________________________________________________________________________________________\n",
      "dense_40 (Dense)                (None, 128)          49280       global_max_pooling1d_17[0][0]    \n",
      "__________________________________________________________________________________________________\n",
      "dropout_20 (Dropout)            (None, 128)          0           dense_40[0][0]                   \n",
      "__________________________________________________________________________________________________\n",
      "dense_41 (Dense)                (None, 4)            516         dropout_20[0][0]                 \n",
      "==================================================================================================\n",
      "Total params: 28,885,380\n",
      "Trainable params: 28,885,380\n",
      "Non-trainable params: 0\n",
      "__________________________________________________________________________________________________\n"
     ]
    }
   ],
   "source": [
    "from tensorflow.keras import layers\n",
    "\n",
    "int_sequences_input = keras.Input(shape=(None,), dtype=\"int64\")\n",
    "embedded_sequences = embedding_layer(int_sequences_input)\n",
    "\n",
    "f1 = layers.Conv1D(128, 2, activation=\"relu\")(embedded_sequences)\n",
    "f1 = layers.MaxPooling1D(100)(f1)\n",
    "f2 = layers.Conv1D(128, 3, activation=\"relu\")(embedded_sequences)\n",
    "f2 = layers.MaxPooling1D(100)(f2)\n",
    "f3 = layers.Conv1D(128, 4, activation=\"relu\")(embedded_sequences)\n",
    "f3 = layers.MaxPooling1D(100)(f3)\n",
    "x = layers.concatenate([f1,f2,f3])\n",
    "x = layers.GlobalMaxPooling1D()(x)\n",
    "x = layers.Dense(128, activation=\"relu\")(x)\n",
    "x = layers.Dropout(0.5)(x)\n",
    "preds = layers.Dense(len(labels), activation=\"softmax\")(x)\n",
    "model3 = keras.Model(int_sequences_input, preds)\n",
    "model3.summary()"
   ]
  },
  {
   "cell_type": "code",
   "execution_count": null,
   "metadata": {},
   "outputs": [],
   "source": [
    "model3.compile(\n",
    "    loss=\"categorical_crossentropy\", optimizer=\"adam\", metrics=[\"acc\"]\n",
    ")\n",
    "model3.fit(x_train_full, y_train_full, batch_size=256, epochs=3, validation_data=(x_dev_full, y_dev))"
   ]
  },
  {
   "cell_type": "code",
   "execution_count": null,
   "metadata": {},
   "outputs": [],
   "source": [
    "model3.evaluate(x_dev_full,y_dev,batch_size=300)"
   ]
  },
  {
   "cell_type": "code",
   "execution_count": null,
   "metadata": {},
   "outputs": [],
   "source": []
  },
  {
   "cell_type": "markdown",
   "metadata": {},
   "source": [
    "## My own Glove 200d training (b2)"
   ]
  },
  {
   "cell_type": "code",
   "execution_count": 60,
   "metadata": {},
   "outputs": [
    {
     "name": "stdout",
     "output_type": "stream",
     "text": [
      "start my own vectors\n"
     ]
    },
    {
     "name": "stderr",
     "output_type": "stream",
     "text": [
      "<ipython-input-60-80d20b771fef>:11: DeprecationWarning: string or file could not be read to its end due to unmatched data; this will raise a ValueError in the future.\n",
      "  coefs = np.fromstring(coefs, sep=\" \")\n"
     ]
    },
    {
     "name": "stdout",
     "output_type": "stream",
     "text": [
      "Found 1201986 word vectors.\n"
     ]
    }
   ],
   "source": [
    "path_to_my_glove_file = os.path.join(\"G:/UNIMELB/ML/A3/emb/my_glove_vectors_b2.txt\")\n",
    "#G:/UNIMELB/ML/A3/emb/my_glove_vectors_b2.txt\n",
    "#G:/UNIMELB/ML/A3/emb/my_glove_vectors_b5.txt\n",
    "\n",
    "# Use my own training set as complement set\n",
    "print(\"start my own vectors\")\n",
    "with open(path_to_my_glove_file,'r', encoding='utf-8') as f:\n",
    "    for line in f:\n",
    "        word, coefs = line.split(maxsplit=1)\n",
    "        word = word.translate(str.maketrans('', '', string.punctuation)).lower() #same way as keras Vectrization.\n",
    "        coefs = np.fromstring(coefs, sep=\" \")\n",
    "        if embeddings_index.get(word) is None:\n",
    "            embeddings_index[word] = coefs\n",
    "\n",
    "print(\"Found %s word vectors.\" % len(embeddings_index))"
   ]
  },
  {
   "cell_type": "code",
   "execution_count": 61,
   "metadata": {},
   "outputs": [
    {
     "name": "stdout",
     "output_type": "stream",
     "text": [
      "Converted 64234 words (78788 misses)\n"
     ]
    }
   ],
   "source": [
    "num_tokens = len(voc) + 2\n",
    "embedding_dim = 200\n",
    "hits = 0\n",
    "misses = 0\n",
    "x=0\n",
    "# Prepare embedding matrix\n",
    "embedding_matrix = np.zeros((num_tokens, embedding_dim))\n",
    "for word, i in word_index.items():\n",
    "    embedding_vector = embeddings_index.get(word)\n",
    "    if embedding_vector is not None:\n",
    "        # Words not found in embedding index will be all-zeros.\n",
    "        # This includes the representation for \"padding\" and \"OOV\"\n",
    "        embedding_matrix[i] = embedding_vector\n",
    "        hits += 1\n",
    "    elif embeddings_index.get(\"#\"+word) is not None:\n",
    "        embedding_matrix[i] = embeddings_index.get(\"#\"+word)\n",
    "        hits += 1\n",
    "    elif embeddings_index.get(\"@\"+word) is not None:\n",
    "        embedding_matrix[i] = embeddings_index.get(\"@\"+word)\n",
    "        hits += 1\n",
    "    else:\n",
    "        misses += 1\n",
    "\n",
    "\n",
    "print(\"Converted %d words (%d misses)\" % (hits, misses))"
   ]
  },
  {
   "cell_type": "code",
   "execution_count": 68,
   "metadata": {},
   "outputs": [],
   "source": [
    "# output dev and train set as txt\n",
    "out = np.concatenate((dev_full_X['tweet'].values,train_full_X['tweet'].values),axis=0)\n",
    "#np.savetxt(r'my_glove.txt',out,fmt='%s',encoding='utf-8')\n",
    "# now, the out file will be moving to glove project copy in my local, and trained by my bash script in the project."
   ]
  },
  {
   "cell_type": "markdown",
   "metadata": {},
   "source": [
    "### Model build and evaluation"
   ]
  },
  {
   "cell_type": "code",
   "execution_count": 69,
   "metadata": {},
   "outputs": [
    {
     "name": "stdout",
     "output_type": "stream",
     "text": [
      "Model: \"model_4\"\n",
      "__________________________________________________________________________________________________\n",
      "Layer (type)                    Output Shape         Param #     Connected to                     \n",
      "==================================================================================================\n",
      "input_5 (InputLayer)            [(None, None)]       0                                            \n",
      "__________________________________________________________________________________________________\n",
      "embedding (Embedding)           (None, None, 200)    28604800    input_5[0][0]                    \n",
      "__________________________________________________________________________________________________\n",
      "conv1d_12 (Conv1D)              (None, None, 128)    51328       embedding[3][0]                  \n",
      "__________________________________________________________________________________________________\n",
      "conv1d_13 (Conv1D)              (None, None, 128)    76928       embedding[3][0]                  \n",
      "__________________________________________________________________________________________________\n",
      "conv1d_14 (Conv1D)              (None, None, 128)    102528      embedding[3][0]                  \n",
      "__________________________________________________________________________________________________\n",
      "max_pooling1d_12 (MaxPooling1D) (None, None, 128)    0           conv1d_12[0][0]                  \n",
      "__________________________________________________________________________________________________\n",
      "max_pooling1d_13 (MaxPooling1D) (None, None, 128)    0           conv1d_13[0][0]                  \n",
      "__________________________________________________________________________________________________\n",
      "max_pooling1d_14 (MaxPooling1D) (None, None, 128)    0           conv1d_14[0][0]                  \n",
      "__________________________________________________________________________________________________\n",
      "concatenate_4 (Concatenate)     (None, None, 384)    0           max_pooling1d_12[0][0]           \n",
      "                                                                 max_pooling1d_13[0][0]           \n",
      "                                                                 max_pooling1d_14[0][0]           \n",
      "__________________________________________________________________________________________________\n",
      "global_max_pooling1d_4 (GlobalM (None, 384)          0           concatenate_4[0][0]              \n",
      "__________________________________________________________________________________________________\n",
      "dense_8 (Dense)                 (None, 128)          49280       global_max_pooling1d_4[0][0]     \n",
      "__________________________________________________________________________________________________\n",
      "dropout_4 (Dropout)             (None, 128)          0           dense_8[0][0]                    \n",
      "__________________________________________________________________________________________________\n",
      "dense_9 (Dense)                 (None, 4)            516         dropout_4[0][0]                  \n",
      "==================================================================================================\n",
      "Total params: 28,885,380\n",
      "Trainable params: 280,580\n",
      "Non-trainable params: 28,604,800\n",
      "__________________________________________________________________________________________________\n"
     ]
    }
   ],
   "source": [
    "from tensorflow.keras import layers\n",
    "\n",
    "int_sequences_input = keras.Input(shape=(None,), dtype=\"int64\")\n",
    "embedded_sequences = embedding_layer(int_sequences_input)\n",
    "\n",
    "f1 = layers.Conv1D(128, 2, activation=\"relu\")(embedded_sequences)\n",
    "f1 = layers.MaxPooling1D(100)(f1)\n",
    "f2 = layers.Conv1D(128, 3, activation=\"relu\")(embedded_sequences)\n",
    "f2 = layers.MaxPooling1D(100)(f2)\n",
    "f3 = layers.Conv1D(128, 4, activation=\"relu\")(embedded_sequences)\n",
    "f3 = layers.MaxPooling1D(100)(f3)\n",
    "x = layers.concatenate([f1,f2,f3])\n",
    "x = layers.GlobalMaxPooling1D()(x)\n",
    "x = layers.Dense(128, activation=\"relu\")(x)\n",
    "x = layers.Dropout(0.5)(x)\n",
    "preds = layers.Dense(len(labels), activation=\"softmax\")(x)\n",
    "model3 = keras.Model(int_sequences_input, preds)\n",
    "model3.summary()"
   ]
  },
  {
   "cell_type": "code",
   "execution_count": 70,
   "metadata": {},
   "outputs": [
    {
     "name": "stdout",
     "output_type": "stream",
     "text": [
      "Epoch 1/3\n",
      "3345/3345 [==============================] - 482s 144ms/step - loss: 1.2475 - acc: 0.4139 - val_loss: 1.2021 - val_acc: 0.4493\n",
      "Epoch 2/3\n",
      "3345/3345 [==============================] - 476s 142ms/step - loss: 1.1941 - acc: 0.4566 - val_loss: 1.1908 - val_acc: 0.4607\n",
      "Epoch 3/3\n",
      "3345/3345 [==============================] - 473s 141ms/step - loss: 1.1673 - acc: 0.4758 - val_loss: 1.1846 - val_acc: 0.4670\n"
     ]
    },
    {
     "data": {
      "text/plain": [
       "<tensorflow.python.keras.callbacks.History at 0x135a5756f40>"
      ]
     },
     "execution_count": 70,
     "metadata": {},
     "output_type": "execute_result"
    }
   ],
   "source": [
    "model3.compile(\n",
    "    loss=\"categorical_crossentropy\", optimizer=\"adam\", metrics=[\"acc\"]\n",
    ")\n",
    "model3.fit(x_train_full, y_train_full, batch_size=32, epochs=3, validation_data=(x_dev_full, y_dev))"
   ]
  },
  {
   "cell_type": "code",
   "execution_count": 71,
   "metadata": {},
   "outputs": [
    {
     "name": "stdout",
     "output_type": "stream",
     "text": [
      "359/359 [==============================] - 14s 38ms/step - loss: 1.2184 - acc: 0.4578\n"
     ]
    },
    {
     "data": {
      "text/plain": [
       "[1.2184489965438843, 0.4577777683734894]"
      ]
     },
     "execution_count": 71,
     "metadata": {},
     "output_type": "execute_result"
    }
   ],
   "source": [
    "model3.evaluate(x_dev_full,y_dev,batch_size=32)"
   ]
  },
  {
   "cell_type": "markdown",
   "metadata": {},
   "source": [
    "## My own Glove 200d training (b5)"
   ]
  },
  {
   "cell_type": "code",
   "execution_count": 62,
   "metadata": {},
   "outputs": [
    {
     "name": "stdout",
     "output_type": "stream",
     "text": [
      "start my own vectors\n"
     ]
    },
    {
     "name": "stderr",
     "output_type": "stream",
     "text": [
      "<ipython-input-62-cebb12a85ae7>:11: DeprecationWarning: string or file could not be read to its end due to unmatched data; this will raise a ValueError in the future.\n",
      "  coefs = np.fromstring(coefs, sep=\" \")\n"
     ]
    },
    {
     "name": "stdout",
     "output_type": "stream",
     "text": [
      "Found 1201986 word vectors.\n"
     ]
    }
   ],
   "source": [
    "path_to_my_glove_file = os.path.join(\"G:/UNIMELB/ML/A3/emb/my_glove_vectors_b5.txt\")\n",
    "#G:/UNIMELB/ML/A3/emb/my_glove_vectors_b2.txt\n",
    "#G:/UNIMELB/ML/A3/emb/my_glove_vectors_b5.txt\n",
    "\n",
    "# Use my own training set as complement set\n",
    "print(\"start my own vectors\")\n",
    "with open(path_to_my_glove_file,'r', encoding='utf-8') as f:\n",
    "    for line in f:\n",
    "        word, coefs = line.split(maxsplit=1)\n",
    "        word = word.translate(str.maketrans('', '', string.punctuation)).lower() #same way as keras Vectrization.\n",
    "        coefs = np.fromstring(coefs, sep=\" \")\n",
    "        if embeddings_index.get(word) is None:\n",
    "            embeddings_index[word] = coefs\n",
    "\n",
    "print(\"Found %s word vectors.\" % len(embeddings_index))"
   ]
  },
  {
   "cell_type": "code",
   "execution_count": 63,
   "metadata": {},
   "outputs": [
    {
     "name": "stdout",
     "output_type": "stream",
     "text": [
      "Converted 64234 words (78788 misses)\n"
     ]
    }
   ],
   "source": [
    "num_tokens = len(voc) + 2\n",
    "embedding_dim = 200\n",
    "hits = 0\n",
    "misses = 0\n",
    "x=0\n",
    "# Prepare embedding matrix\n",
    "embedding_matrix = np.zeros((num_tokens, embedding_dim))\n",
    "for word, i in word_index.items():\n",
    "    embedding_vector = embeddings_index.get(word)\n",
    "    if embedding_vector is not None:\n",
    "        # Words not found in embedding index will be all-zeros.\n",
    "        # This includes the representation for \"padding\" and \"OOV\"\n",
    "        embedding_matrix[i] = embedding_vector\n",
    "        hits += 1\n",
    "    elif embeddings_index.get(\"#\"+word) is not None:\n",
    "        embedding_matrix[i] = embeddings_index.get(\"#\"+word)\n",
    "        hits += 1\n",
    "    elif embeddings_index.get(\"@\"+word) is not None:\n",
    "        embedding_matrix[i] = embeddings_index.get(\"@\"+word)\n",
    "        hits += 1\n",
    "    else:\n",
    "        misses += 1\n",
    "\n",
    "\n",
    "print(\"Converted %d words (%d misses)\" % (hits, misses))"
   ]
  },
  {
   "cell_type": "code",
   "execution_count": null,
   "metadata": {},
   "outputs": [],
   "source": [
    "# output dev and train set as txt\n",
    "out = np.concatenate((dev_full_X['tweet'].values,train_full_X['tweet'].values),axis=0)\n",
    "#np.savetxt(r'my_glove.txt',out,fmt='%s',encoding='utf-8')\n",
    "# now, the out file will be moving to glove project copy in my local, and trained by my bash script in the project."
   ]
  },
  {
   "cell_type": "markdown",
   "metadata": {},
   "source": [
    "### Model build and evaluation"
   ]
  },
  {
   "cell_type": "code",
   "execution_count": 64,
   "metadata": {},
   "outputs": [],
   "source": [
    "from tensorflow.keras.layers import Embedding\n",
    "\n",
    "embedding_layer = Embedding(\n",
    "    num_tokens,\n",
    "    embedding_dim,\n",
    "    embeddings_initializer=keras.initializers.Constant(embedding_matrix),\n",
    "    trainable=True,\n",
    ")"
   ]
  },
  {
   "cell_type": "code",
   "execution_count": 81,
   "metadata": {},
   "outputs": [
    {
     "name": "stdout",
     "output_type": "stream",
     "text": [
      "Model: \"model_4\"\n",
      "__________________________________________________________________________________________________\n",
      "Layer (type)                    Output Shape         Param #     Connected to                     \n",
      "==================================================================================================\n",
      "input_5 (InputLayer)            [(None, 200)]        0                                            \n",
      "__________________________________________________________________________________________________\n",
      "embedding_1 (Embedding)         (None, 200, 200)     28604800    input_5[0][0]                    \n",
      "__________________________________________________________________________________________________\n",
      "conv1d_12 (Conv1D)              (None, 199, 128)     51328       embedding_1[2][0]                \n",
      "__________________________________________________________________________________________________\n",
      "conv1d_13 (Conv1D)              (None, 198, 128)     76928       embedding_1[2][0]                \n",
      "__________________________________________________________________________________________________\n",
      "conv1d_14 (Conv1D)              (None, 197, 128)     102528      embedding_1[2][0]                \n",
      "__________________________________________________________________________________________________\n",
      "max_pooling1d_12 (MaxPooling1D) (None, 1, 128)       0           conv1d_12[0][0]                  \n",
      "__________________________________________________________________________________________________\n",
      "max_pooling1d_13 (MaxPooling1D) (None, 1, 128)       0           conv1d_13[0][0]                  \n",
      "__________________________________________________________________________________________________\n",
      "max_pooling1d_14 (MaxPooling1D) (None, 1, 128)       0           conv1d_14[0][0]                  \n",
      "__________________________________________________________________________________________________\n",
      "concatenate_4 (Concatenate)     (None, 1, 384)       0           max_pooling1d_12[0][0]           \n",
      "                                                                 max_pooling1d_13[0][0]           \n",
      "                                                                 max_pooling1d_14[0][0]           \n",
      "__________________________________________________________________________________________________\n",
      "global_max_pooling1d_4 (GlobalM (None, 384)          0           concatenate_4[0][0]              \n",
      "__________________________________________________________________________________________________\n",
      "dropout_4 (Dropout)             (None, 384)          0           global_max_pooling1d_4[0][0]     \n",
      "__________________________________________________________________________________________________\n",
      "dense_8 (Dense)                 (None, 4)            1540        dropout_4[0][0]                  \n",
      "==================================================================================================\n",
      "Total params: 28,837,124\n",
      "Trainable params: 28,837,124\n",
      "Non-trainable params: 0\n",
      "__________________________________________________________________________________________________\n"
     ]
    }
   ],
   "source": [
    "from tensorflow.keras import layers\n",
    "\n",
    "int_sequences_input = keras.Input(shape=(200,), dtype=\"int64\")\n",
    "embedded_sequences = embedding_layer(int_sequences_input)\n",
    "f1 = layers.Conv1D(128, 2, activation=\"relu\")(embedded_sequences)\n",
    "f1 = layers.MaxPooling1D(198)(f1)\n",
    "f2 = layers.Conv1D(128, 3, activation=\"relu\")(embedded_sequences)\n",
    "f2 = layers.MaxPooling1D(197)(f2)\n",
    "f3 = layers.Conv1D(128, 4, activation=\"relu\")(embedded_sequences)\n",
    "f3 = layers.MaxPooling1D(196)(f3)\n",
    "x = layers.concatenate([f1,f2,f3])\n",
    "x = layers.GlobalMaxPooling1D()(x)\n",
    "#x = layers.Dense(150, activation=\"relu\")(x)\n",
    "x = layers.Dropout(0.5)(x)\n",
    "preds = layers.Dense(len(labels), activation=\"softmax\")(x)\n",
    "model3 = keras.Model(int_sequences_input, preds)\n",
    "model3.summary()"
   ]
  },
  {
   "cell_type": "code",
   "execution_count": null,
   "metadata": {},
   "outputs": [
    {
     "name": "stdout",
     "output_type": "stream",
     "text": [
      "Epoch 1/2\n",
      "523/523 [==============================] - 299s 570ms/step - loss: 0.6904 - acc: 0.7350 - val_loss: 1.7053 - val_acc: 0.4802\n",
      "Epoch 2/2\n",
      " 39/523 [=>............................] - ETA: 4:43 - loss: 0.1974 - acc: 0.9216"
     ]
    }
   ],
   "source": [
    "model3.compile(\n",
    "    loss=\"categorical_crossentropy\", optimizer=\"adam\", metrics=[\"acc\"]\n",
    ")\n",
    "\n",
    "history_3=model3.fit(x_train, y_train, batch_size=256, epochs=2, verbose=1, validation_data=(x_dev_full, y_dev))#validation_split=0.2"
   ]
  },
  {
   "cell_type": "code",
   "execution_count": 74,
   "metadata": {},
   "outputs": [
    {
     "name": "stdout",
     "output_type": "stream",
     "text": [
      "90/90 [==============================] - 5s 58ms/step - loss: 2.7118 - acc: 0.4771\n"
     ]
    },
    {
     "data": {
      "text/plain": [
       "[2.7118325233459473, 0.4771241843700409]"
      ]
     },
     "execution_count": 74,
     "metadata": {},
     "output_type": "execute_result"
    }
   ],
   "source": [
    "model3.evaluate(x_dev_full,y_dev,batch_size=128)"
   ]
  },
  {
   "cell_type": "code",
   "execution_count": 73,
   "metadata": {},
   "outputs": [
    {
     "name": "stdout",
     "output_type": "stream",
     "text": [
      "Epoch 1/2\n",
      "1046/1046 [==============================] - 431s 412ms/step - loss: 0.1858 - acc: 0.9259 - val_loss: 2.2244 - val_acc: 0.4831\n",
      "Epoch 2/2\n",
      " 552/1046 [==============>...............] - ETA: 3:20 - loss: 0.1338 - acc: 0.9472"
     ]
    },
    {
     "ename": "KeyboardInterrupt",
     "evalue": "",
     "output_type": "error",
     "traceback": [
      "\u001b[1;31m---------------------------------------------------------------------------\u001b[0m",
      "\u001b[1;31mKeyboardInterrupt\u001b[0m                         Traceback (most recent call last)",
      "\u001b[1;32m<ipython-input-73-1b294a316c3b>\u001b[0m in \u001b[0;36m<module>\u001b[1;34m\u001b[0m\n\u001b[1;32m----> 1\u001b[1;33m \u001b[0mmodel3\u001b[0m\u001b[1;33m.\u001b[0m\u001b[0mfit\u001b[0m\u001b[1;33m(\u001b[0m\u001b[0mx_train\u001b[0m\u001b[1;33m,\u001b[0m \u001b[0my_train\u001b[0m\u001b[1;33m,\u001b[0m \u001b[0mbatch_size\u001b[0m\u001b[1;33m=\u001b[0m\u001b[1;36m128\u001b[0m\u001b[1;33m,\u001b[0m \u001b[0mepochs\u001b[0m\u001b[1;33m=\u001b[0m\u001b[1;36m2\u001b[0m\u001b[1;33m,\u001b[0m \u001b[0mverbose\u001b[0m\u001b[1;33m=\u001b[0m\u001b[1;36m1\u001b[0m\u001b[1;33m,\u001b[0m \u001b[0mvalidation_data\u001b[0m\u001b[1;33m=\u001b[0m\u001b[1;33m(\u001b[0m\u001b[0mx_dev_full\u001b[0m\u001b[1;33m,\u001b[0m \u001b[0my_dev\u001b[0m\u001b[1;33m)\u001b[0m\u001b[1;33m)\u001b[0m\u001b[1;31m#validation_split=0.2\u001b[0m\u001b[1;33m\u001b[0m\u001b[1;33m\u001b[0m\u001b[0m\n\u001b[0m",
      "\u001b[1;32m~\\anaconda3\\lib\\site-packages\\tensorflow\\python\\keras\\engine\\training.py\u001b[0m in \u001b[0;36mfit\u001b[1;34m(self, x, y, batch_size, epochs, verbose, callbacks, validation_split, validation_data, shuffle, class_weight, sample_weight, initial_epoch, steps_per_epoch, validation_steps, validation_batch_size, validation_freq, max_queue_size, workers, use_multiprocessing)\u001b[0m\n\u001b[0;32m   1098\u001b[0m                 _r=1):\n\u001b[0;32m   1099\u001b[0m               \u001b[0mcallbacks\u001b[0m\u001b[1;33m.\u001b[0m\u001b[0mon_train_batch_begin\u001b[0m\u001b[1;33m(\u001b[0m\u001b[0mstep\u001b[0m\u001b[1;33m)\u001b[0m\u001b[1;33m\u001b[0m\u001b[1;33m\u001b[0m\u001b[0m\n\u001b[1;32m-> 1100\u001b[1;33m               \u001b[0mtmp_logs\u001b[0m \u001b[1;33m=\u001b[0m \u001b[0mself\u001b[0m\u001b[1;33m.\u001b[0m\u001b[0mtrain_function\u001b[0m\u001b[1;33m(\u001b[0m\u001b[0miterator\u001b[0m\u001b[1;33m)\u001b[0m\u001b[1;33m\u001b[0m\u001b[1;33m\u001b[0m\u001b[0m\n\u001b[0m\u001b[0;32m   1101\u001b[0m               \u001b[1;32mif\u001b[0m \u001b[0mdata_handler\u001b[0m\u001b[1;33m.\u001b[0m\u001b[0mshould_sync\u001b[0m\u001b[1;33m:\u001b[0m\u001b[1;33m\u001b[0m\u001b[1;33m\u001b[0m\u001b[0m\n\u001b[0;32m   1102\u001b[0m                 \u001b[0mcontext\u001b[0m\u001b[1;33m.\u001b[0m\u001b[0masync_wait\u001b[0m\u001b[1;33m(\u001b[0m\u001b[1;33m)\u001b[0m\u001b[1;33m\u001b[0m\u001b[1;33m\u001b[0m\u001b[0m\n",
      "\u001b[1;32m~\\anaconda3\\lib\\site-packages\\tensorflow\\python\\eager\\def_function.py\u001b[0m in \u001b[0;36m__call__\u001b[1;34m(self, *args, **kwds)\u001b[0m\n\u001b[0;32m    826\u001b[0m     \u001b[0mtracing_count\u001b[0m \u001b[1;33m=\u001b[0m \u001b[0mself\u001b[0m\u001b[1;33m.\u001b[0m\u001b[0mexperimental_get_tracing_count\u001b[0m\u001b[1;33m(\u001b[0m\u001b[1;33m)\u001b[0m\u001b[1;33m\u001b[0m\u001b[1;33m\u001b[0m\u001b[0m\n\u001b[0;32m    827\u001b[0m     \u001b[1;32mwith\u001b[0m \u001b[0mtrace\u001b[0m\u001b[1;33m.\u001b[0m\u001b[0mTrace\u001b[0m\u001b[1;33m(\u001b[0m\u001b[0mself\u001b[0m\u001b[1;33m.\u001b[0m\u001b[0m_name\u001b[0m\u001b[1;33m)\u001b[0m \u001b[1;32mas\u001b[0m \u001b[0mtm\u001b[0m\u001b[1;33m:\u001b[0m\u001b[1;33m\u001b[0m\u001b[1;33m\u001b[0m\u001b[0m\n\u001b[1;32m--> 828\u001b[1;33m       \u001b[0mresult\u001b[0m \u001b[1;33m=\u001b[0m \u001b[0mself\u001b[0m\u001b[1;33m.\u001b[0m\u001b[0m_call\u001b[0m\u001b[1;33m(\u001b[0m\u001b[1;33m*\u001b[0m\u001b[0margs\u001b[0m\u001b[1;33m,\u001b[0m \u001b[1;33m**\u001b[0m\u001b[0mkwds\u001b[0m\u001b[1;33m)\u001b[0m\u001b[1;33m\u001b[0m\u001b[1;33m\u001b[0m\u001b[0m\n\u001b[0m\u001b[0;32m    829\u001b[0m       \u001b[0mcompiler\u001b[0m \u001b[1;33m=\u001b[0m \u001b[1;34m\"xla\"\u001b[0m \u001b[1;32mif\u001b[0m \u001b[0mself\u001b[0m\u001b[1;33m.\u001b[0m\u001b[0m_experimental_compile\u001b[0m \u001b[1;32melse\u001b[0m \u001b[1;34m\"nonXla\"\u001b[0m\u001b[1;33m\u001b[0m\u001b[1;33m\u001b[0m\u001b[0m\n\u001b[0;32m    830\u001b[0m       \u001b[0mnew_tracing_count\u001b[0m \u001b[1;33m=\u001b[0m \u001b[0mself\u001b[0m\u001b[1;33m.\u001b[0m\u001b[0mexperimental_get_tracing_count\u001b[0m\u001b[1;33m(\u001b[0m\u001b[1;33m)\u001b[0m\u001b[1;33m\u001b[0m\u001b[1;33m\u001b[0m\u001b[0m\n",
      "\u001b[1;32m~\\anaconda3\\lib\\site-packages\\tensorflow\\python\\eager\\def_function.py\u001b[0m in \u001b[0;36m_call\u001b[1;34m(self, *args, **kwds)\u001b[0m\n\u001b[0;32m    853\u001b[0m       \u001b[1;31m# In this case we have created variables on the first call, so we run the\u001b[0m\u001b[1;33m\u001b[0m\u001b[1;33m\u001b[0m\u001b[1;33m\u001b[0m\u001b[0m\n\u001b[0;32m    854\u001b[0m       \u001b[1;31m# defunned version which is guaranteed to never create variables.\u001b[0m\u001b[1;33m\u001b[0m\u001b[1;33m\u001b[0m\u001b[1;33m\u001b[0m\u001b[0m\n\u001b[1;32m--> 855\u001b[1;33m       \u001b[1;32mreturn\u001b[0m \u001b[0mself\u001b[0m\u001b[1;33m.\u001b[0m\u001b[0m_stateless_fn\u001b[0m\u001b[1;33m(\u001b[0m\u001b[1;33m*\u001b[0m\u001b[0margs\u001b[0m\u001b[1;33m,\u001b[0m \u001b[1;33m**\u001b[0m\u001b[0mkwds\u001b[0m\u001b[1;33m)\u001b[0m  \u001b[1;31m# pylint: disable=not-callable\u001b[0m\u001b[1;33m\u001b[0m\u001b[1;33m\u001b[0m\u001b[0m\n\u001b[0m\u001b[0;32m    856\u001b[0m     \u001b[1;32melif\u001b[0m \u001b[0mself\u001b[0m\u001b[1;33m.\u001b[0m\u001b[0m_stateful_fn\u001b[0m \u001b[1;32mis\u001b[0m \u001b[1;32mnot\u001b[0m \u001b[1;32mNone\u001b[0m\u001b[1;33m:\u001b[0m\u001b[1;33m\u001b[0m\u001b[1;33m\u001b[0m\u001b[0m\n\u001b[0;32m    857\u001b[0m       \u001b[1;31m# Release the lock early so that multiple threads can perform the call\u001b[0m\u001b[1;33m\u001b[0m\u001b[1;33m\u001b[0m\u001b[1;33m\u001b[0m\u001b[0m\n",
      "\u001b[1;32m~\\anaconda3\\lib\\site-packages\\tensorflow\\python\\eager\\function.py\u001b[0m in \u001b[0;36m__call__\u001b[1;34m(self, *args, **kwargs)\u001b[0m\n\u001b[0;32m   2940\u001b[0m       (graph_function,\n\u001b[0;32m   2941\u001b[0m        filtered_flat_args) = self._maybe_define_function(args, kwargs)\n\u001b[1;32m-> 2942\u001b[1;33m     return graph_function._call_flat(\n\u001b[0m\u001b[0;32m   2943\u001b[0m         filtered_flat_args, captured_inputs=graph_function.captured_inputs)  # pylint: disable=protected-access\n\u001b[0;32m   2944\u001b[0m \u001b[1;33m\u001b[0m\u001b[0m\n",
      "\u001b[1;32m~\\anaconda3\\lib\\site-packages\\tensorflow\\python\\eager\\function.py\u001b[0m in \u001b[0;36m_call_flat\u001b[1;34m(self, args, captured_inputs, cancellation_manager)\u001b[0m\n\u001b[0;32m   1916\u001b[0m         and executing_eagerly):\n\u001b[0;32m   1917\u001b[0m       \u001b[1;31m# No tape is watching; skip to running the function.\u001b[0m\u001b[1;33m\u001b[0m\u001b[1;33m\u001b[0m\u001b[1;33m\u001b[0m\u001b[0m\n\u001b[1;32m-> 1918\u001b[1;33m       return self._build_call_outputs(self._inference_function.call(\n\u001b[0m\u001b[0;32m   1919\u001b[0m           ctx, args, cancellation_manager=cancellation_manager))\n\u001b[0;32m   1920\u001b[0m     forward_backward = self._select_forward_and_backward_functions(\n",
      "\u001b[1;32m~\\anaconda3\\lib\\site-packages\\tensorflow\\python\\eager\\function.py\u001b[0m in \u001b[0;36mcall\u001b[1;34m(self, ctx, args, cancellation_manager)\u001b[0m\n\u001b[0;32m    553\u001b[0m       \u001b[1;32mwith\u001b[0m \u001b[0m_InterpolateFunctionError\u001b[0m\u001b[1;33m(\u001b[0m\u001b[0mself\u001b[0m\u001b[1;33m)\u001b[0m\u001b[1;33m:\u001b[0m\u001b[1;33m\u001b[0m\u001b[1;33m\u001b[0m\u001b[0m\n\u001b[0;32m    554\u001b[0m         \u001b[1;32mif\u001b[0m \u001b[0mcancellation_manager\u001b[0m \u001b[1;32mis\u001b[0m \u001b[1;32mNone\u001b[0m\u001b[1;33m:\u001b[0m\u001b[1;33m\u001b[0m\u001b[1;33m\u001b[0m\u001b[0m\n\u001b[1;32m--> 555\u001b[1;33m           outputs = execute.execute(\n\u001b[0m\u001b[0;32m    556\u001b[0m               \u001b[0mstr\u001b[0m\u001b[1;33m(\u001b[0m\u001b[0mself\u001b[0m\u001b[1;33m.\u001b[0m\u001b[0msignature\u001b[0m\u001b[1;33m.\u001b[0m\u001b[0mname\u001b[0m\u001b[1;33m)\u001b[0m\u001b[1;33m,\u001b[0m\u001b[1;33m\u001b[0m\u001b[1;33m\u001b[0m\u001b[0m\n\u001b[0;32m    557\u001b[0m               \u001b[0mnum_outputs\u001b[0m\u001b[1;33m=\u001b[0m\u001b[0mself\u001b[0m\u001b[1;33m.\u001b[0m\u001b[0m_num_outputs\u001b[0m\u001b[1;33m,\u001b[0m\u001b[1;33m\u001b[0m\u001b[1;33m\u001b[0m\u001b[0m\n",
      "\u001b[1;32m~\\anaconda3\\lib\\site-packages\\tensorflow\\python\\eager\\execute.py\u001b[0m in \u001b[0;36mquick_execute\u001b[1;34m(op_name, num_outputs, inputs, attrs, ctx, name)\u001b[0m\n\u001b[0;32m     57\u001b[0m   \u001b[1;32mtry\u001b[0m\u001b[1;33m:\u001b[0m\u001b[1;33m\u001b[0m\u001b[1;33m\u001b[0m\u001b[0m\n\u001b[0;32m     58\u001b[0m     \u001b[0mctx\u001b[0m\u001b[1;33m.\u001b[0m\u001b[0mensure_initialized\u001b[0m\u001b[1;33m(\u001b[0m\u001b[1;33m)\u001b[0m\u001b[1;33m\u001b[0m\u001b[1;33m\u001b[0m\u001b[0m\n\u001b[1;32m---> 59\u001b[1;33m     tensors = pywrap_tfe.TFE_Py_Execute(ctx._handle, device_name, op_name,\n\u001b[0m\u001b[0;32m     60\u001b[0m                                         inputs, attrs, num_outputs)\n\u001b[0;32m     61\u001b[0m   \u001b[1;32mexcept\u001b[0m \u001b[0mcore\u001b[0m\u001b[1;33m.\u001b[0m\u001b[0m_NotOkStatusException\u001b[0m \u001b[1;32mas\u001b[0m \u001b[0me\u001b[0m\u001b[1;33m:\u001b[0m\u001b[1;33m\u001b[0m\u001b[1;33m\u001b[0m\u001b[0m\n",
      "\u001b[1;31mKeyboardInterrupt\u001b[0m: "
     ]
    }
   ],
   "source": [
    "model3.fit(x_train, y_train, batch_size=128, epochs=2, verbose=1, validation_data=(x_dev_full, y_dev))#validation_split=0.2"
   ]
  },
  {
   "cell_type": "code",
   "execution_count": 77,
   "metadata": {},
   "outputs": [],
   "source": [
    "from sklearn.metrics import f1_score\n",
    "results=model3.predict(x_dev_full)\n",
    "predictions=np.argmax(results,axis=1)\n",
    "\n",
    "onehot_labels = enc_dev.get_feature_names()\n",
    "\n",
    "output_labels = list()\n",
    "for label in onehot_labels:\n",
    "    output_labels.append(label.replace(\"x0_\",\"\"))\n",
    "\n",
    "out = list()\n",
    "for prediction in predictions:\n",
    "    out.append(output_labels[prediction])\n",
    "\n",
    "predictions = enc.fit_transform(np.array(out).reshape(-1, 1))"
   ]
  },
  {
   "cell_type": "code",
   "execution_count": 78,
   "metadata": {},
   "outputs": [
    {
     "name": "stdout",
     "output_type": "stream",
     "text": [
      "              precision    recall  f1-score   support\n",
      "\n",
      "           0       0.32      0.17      0.22      1484\n",
      "           1       0.51      0.66      0.58      4295\n",
      "           2       0.48      0.51      0.50      4266\n",
      "           3       0.31      0.16      0.21      1430\n",
      "\n",
      "   micro avg       0.48      0.48      0.48     11475\n",
      "   macro avg       0.41      0.37      0.38     11475\n",
      "weighted avg       0.45      0.48      0.46     11475\n",
      " samples avg       0.48      0.48      0.48     11475\n",
      "\n"
     ]
    }
   ],
   "source": [
    "from sklearn.metrics import classification_report\n",
    "\n",
    "print(classification_report(y_dev,predictions))\n"
   ]
  },
  {
   "cell_type": "code",
   "execution_count": null,
   "metadata": {},
   "outputs": [],
   "source": [
    "f1"
   ]
  },
  {
   "cell_type": "code",
   "execution_count": 68,
   "metadata": {},
   "outputs": [],
   "source": []
  },
  {
   "cell_type": "code",
   "execution_count": 76,
   "metadata": {},
   "outputs": [
    {
     "data": {
      "image/png": "[encoded data removed]",
      "text/plain": [
       "<Figure size 432x288 with 1 Axes>"
      ]
     },
     "metadata": {
      "needs_background": "light"
     },
     "output_type": "display_data"
    },
    {
     "data": {
      "image/png": "[encoded data removed]",
      "text/plain": [
       "<Figure size 432x288 with 1 Axes>"
      ]
     },
     "metadata": {
      "needs_background": "light"
     },
     "output_type": "display_data"
    }
   ],
   "source": [
    "import matplotlib.pyplot as plt\n",
    "plt.plot(history_3.history['acc'])\n",
    "plt.plot(history_3.history['val_acc'])\n",
    "plt.title('model accuracy')\n",
    "plt.ylabel('accuracy')\n",
    "plt.xlabel('epoch')\n",
    "plt.legend(['train', 'validation'], loc='upper left')\n",
    "plt.show()\n",
    "\n",
    "plt.plot(history_3.history['loss'])\n",
    "plt.plot(history_3.history['val_loss'])\n",
    "plt.title('model loss')\n",
    "plt.ylabel('loss')\n",
    "plt.xlabel('epoch')\n",
    "plt.legend(['train', 'validation'], loc='upper left')\n",
    "plt.show()\n"
   ]
  },
  {
   "cell_type": "code",
   "execution_count": 78,
   "metadata": {},
   "outputs": [
    {
     "data": {
      "image/png": "[encoded data removed]",
      "text/plain": [
       "<IPython.core.display.Image object>"
      ]
     },
     "execution_count": 78,
     "metadata": {},
     "output_type": "execute_result"
    }
   ],
   "source": [
    "from tensorflow.keras.utils import plot_model\n",
    "from tensorflow.keras.applications.resnet50 import ResNet50\n",
    "import numpy as np\n",
    "\n",
    "#model = ResNet50(weights='imagenet')\n",
    "plot_model(model3, to_file='model.png')"
   ]
  },
  {
   "cell_type": "code",
   "execution_count": 180,
   "metadata": {},
   "outputs": [],
   "source": [
    "results=model3.predict(x_test_full)\n",
    "predictions=np.argmax(results,axis=1)\n",
    "\n",
    "\n",
    "onehot_labels = enc_dev.get_feature_names()\n",
    "\n",
    "output_labels = list()\n",
    "for label in onehot_labels:\n",
    "    output_labels.append(label.replace(\"x0_\",\"\"))\n",
    "\n",
    "out = list()\n",
    "for prediction in predictions:\n",
    "    out.append(output_labels[prediction])\n",
    "\n",
    "# For output only:\n",
    "columns_titles = [\"id\",\"region\"]\n",
    "prediction=reformat_prediction(out)\n",
    "tweet_test_Y=prediction.reindex(columns=columns_titles)\n",
    "tweet_test_Y.id.astype(int)\n",
    "tweet_test_Y.to_csv('cnn_my_glove200d.csv',index=False,float_format='%.f')"
   ]
  },
  {
   "cell_type": "code",
   "execution_count": null,
   "metadata": {},
   "outputs": [],
   "source": []
  },
  {
   "cell_type": "markdown",
   "metadata": {},
   "source": [
    "## My own Glove 300d training (not used)\n",
    "\n",
    "Use the same model as glove200d, but instead average them per tweet level, use embedded layer."
   ]
  },
  {
   "cell_type": "code",
   "execution_count": 70,
   "metadata": {},
   "outputs": [
    {
     "name": "stderr",
     "output_type": "stream",
     "text": [
      "<ipython-input-70-f9413c76f9b1>:12: DeprecationWarning: string or file could not be read to its end due to unmatched data; this will raise a ValueError in the future.\n",
      "  coefs = np.fromstring(coefs, sep=\" \")\n"
     ]
    },
    {
     "name": "stdout",
     "output_type": "stream",
     "text": [
      "Found 1449265 word vectors.\n"
     ]
    }
   ],
   "source": [
    "import string\n",
    "path_to_my_glove_file = os.path.join(\"G:/UNIMELB/ML/A3/emb/glove.840B.300d.txt\")\n",
    "#G:/UNIMELB/ML/A3/emb/my_glove_vectors_b2.txt\n",
    "#G:/UNIMELB/ML/A3/emb/my_glove_vectors_b5.txt\n",
    "\n",
    "# Use my own training set as complement set\n",
    "embeddings_index = {}\n",
    "with open(path_to_my_glove_file,'r', encoding='utf-8') as f:\n",
    "    for line in f:\n",
    "        word, coefs = line.split(maxsplit=1)\n",
    "        word = word.translate(str.maketrans('', '', string.punctuation)).lower() #same way as keras Vectrization.\n",
    "        coefs = np.fromstring(coefs, sep=\" \")\n",
    "        if embeddings_index.get(word) is None: \n",
    "            embeddings_index[word] = coefs\n",
    "\n",
    "print(\"Found %s word vectors.\" % len(embeddings_index))"
   ]
  },
  {
   "cell_type": "code",
   "execution_count": 71,
   "metadata": {},
   "outputs": [
    {
     "name": "stdout",
     "output_type": "stream",
     "text": [
      "Converted 44331 words (98691 misses)\n"
     ]
    }
   ],
   "source": [
    "num_tokens = len(voc) + 2\n",
    "embedding_dim = 300\n",
    "hits = 0\n",
    "misses = 0\n",
    "x=0\n",
    "# Prepare embedding matrix\n",
    "embedding_matrix = np.zeros((num_tokens, embedding_dim))\n",
    "for word, i in word_index.items():\n",
    "    embedding_vector = embeddings_index.get(word)\n",
    "    if embedding_vector is not None:\n",
    "        # Words not found in embedding index will be all-zeros.\n",
    "        # This includes the representation for \"padding\" and \"OOV\"\n",
    "        embedding_matrix[i] = embedding_vector\n",
    "        hits += 1\n",
    "    elif embeddings_index.get(\"#\"+word) is not None:\n",
    "        embedding_matrix[i] = embeddings_index.get(\"#\"+word)\n",
    "        hits += 1\n",
    "    elif embeddings_index.get(\"@\"+word) is not None:\n",
    "        embedding_matrix[i] = embeddings_index.get(\"@\"+word)\n",
    "        hits += 1\n",
    "    else:\n",
    "        misses += 1\n",
    "\n",
    "\n",
    "print(\"Converted %d words (%d misses)\" % (hits, misses))"
   ]
  },
  {
   "cell_type": "markdown",
   "metadata": {},
   "source": [
    "### Model build and evaluation"
   ]
  },
  {
   "cell_type": "code",
   "execution_count": 72,
   "metadata": {},
   "outputs": [
    {
     "ename": "NameError",
     "evalue": "name 'embedding_layer' is not defined",
     "output_type": "error",
     "traceback": [
      "\u001b[1;31m---------------------------------------------------------------------------\u001b[0m",
      "\u001b[1;31mNameError\u001b[0m                                 Traceback (most recent call last)",
      "\u001b[1;32m<ipython-input-72-28c5b9106243>\u001b[0m in \u001b[0;36m<module>\u001b[1;34m\u001b[0m\n\u001b[0;32m      2\u001b[0m \u001b[1;33m\u001b[0m\u001b[0m\n\u001b[0;32m      3\u001b[0m \u001b[0mint_sequences_input\u001b[0m \u001b[1;33m=\u001b[0m \u001b[0mkeras\u001b[0m\u001b[1;33m.\u001b[0m\u001b[0mInput\u001b[0m\u001b[1;33m(\u001b[0m\u001b[0mshape\u001b[0m\u001b[1;33m=\u001b[0m\u001b[1;33m(\u001b[0m\u001b[1;32mNone\u001b[0m\u001b[1;33m,\u001b[0m\u001b[1;33m)\u001b[0m\u001b[1;33m,\u001b[0m \u001b[0mdtype\u001b[0m\u001b[1;33m=\u001b[0m\u001b[1;34m\"int64\"\u001b[0m\u001b[1;33m)\u001b[0m\u001b[1;33m\u001b[0m\u001b[1;33m\u001b[0m\u001b[0m\n\u001b[1;32m----> 4\u001b[1;33m \u001b[0membedded_sequences\u001b[0m \u001b[1;33m=\u001b[0m \u001b[0membedding_layer\u001b[0m\u001b[1;33m(\u001b[0m\u001b[0mint_sequences_input\u001b[0m\u001b[1;33m)\u001b[0m\u001b[1;33m\u001b[0m\u001b[1;33m\u001b[0m\u001b[0m\n\u001b[0m\u001b[0;32m      5\u001b[0m \u001b[1;33m\u001b[0m\u001b[0m\n\u001b[0;32m      6\u001b[0m \u001b[0mf1\u001b[0m \u001b[1;33m=\u001b[0m \u001b[0mlayers\u001b[0m\u001b[1;33m.\u001b[0m\u001b[0mConv1D\u001b[0m\u001b[1;33m(\u001b[0m\u001b[1;36m128\u001b[0m\u001b[1;33m,\u001b[0m \u001b[1;36m2\u001b[0m\u001b[1;33m,\u001b[0m \u001b[0mactivation\u001b[0m\u001b[1;33m=\u001b[0m\u001b[1;34m\"relu\"\u001b[0m\u001b[1;33m)\u001b[0m\u001b[1;33m(\u001b[0m\u001b[0membedded_sequences\u001b[0m\u001b[1;33m)\u001b[0m\u001b[1;33m\u001b[0m\u001b[1;33m\u001b[0m\u001b[0m\n",
      "\u001b[1;31mNameError\u001b[0m: name 'embedding_layer' is not defined"
     ]
    }
   ],
   "source": [
    "from tensorflow.keras import layers\n",
    "\n",
    "int_sequences_input = keras.Input(shape=(None,), dtype=\"int64\")\n",
    "embedded_sequences = embedding_layer(int_sequences_input)\n",
    "\n",
    "f1 = layers.Conv1D(128, 2, activation=\"relu\")(embedded_sequences)\n",
    "f1 = layers.MaxPooling1D(5)(f1)\n",
    "f2 = layers.Conv1D(128, 3, activation=\"relu\")(embedded_sequences)\n",
    "f2 = layers.MaxPooling1D(5)(f2)\n",
    "f3 = layers.Conv1D(128, 4, activation=\"relu\")(embedded_sequences)\n",
    "f3 = layers.MaxPooling1D(5)(f3)\n",
    "x = layers.concatenate([f1,f2,f3])\n",
    "x = layers.GlobalMaxPooling1D()(x)\n",
    "x = layers.Dense(128, activation=\"relu\")(x)\n",
    "x = layers.Dropout(0.5)(x)\n",
    "preds = layers.Dense(len(labels), activation=\"softmax\")(x)\n",
    "model300d = keras.Model(int_sequences_input, preds)\n",
    "model300d.summary()"
   ]
  },
  {
   "cell_type": "code",
   "execution_count": 74,
   "metadata": {},
   "outputs": [
    {
     "ename": "NameError",
     "evalue": "name 'model300d' is not defined",
     "output_type": "error",
     "traceback": [
      "\u001b[1;31m---------------------------------------------------------------------------\u001b[0m",
      "\u001b[1;31mNameError\u001b[0m                                 Traceback (most recent call last)",
      "\u001b[1;32m<ipython-input-74-9c6b7ca081ad>\u001b[0m in \u001b[0;36m<module>\u001b[1;34m\u001b[0m\n\u001b[1;32m----> 1\u001b[1;33m model300d.compile(\n\u001b[0m\u001b[0;32m      2\u001b[0m     \u001b[0mloss\u001b[0m\u001b[1;33m=\u001b[0m\u001b[1;34m\"categorical_crossentropy\"\u001b[0m\u001b[1;33m,\u001b[0m \u001b[0moptimizer\u001b[0m\u001b[1;33m=\u001b[0m\u001b[1;34m\"adam\"\u001b[0m\u001b[1;33m,\u001b[0m \u001b[0mmetrics\u001b[0m\u001b[1;33m=\u001b[0m\u001b[1;33m[\u001b[0m\u001b[1;34m\"acc\"\u001b[0m\u001b[1;33m]\u001b[0m\u001b[1;33m\u001b[0m\u001b[1;33m\u001b[0m\u001b[0m\n\u001b[0;32m      3\u001b[0m )\n\u001b[0;32m      4\u001b[0m \u001b[0mmodel300d\u001b[0m\u001b[1;33m.\u001b[0m\u001b[0mfit\u001b[0m\u001b[1;33m(\u001b[0m\u001b[0mx_train\u001b[0m\u001b[1;33m,\u001b[0m \u001b[0my_train\u001b[0m\u001b[1;33m,\u001b[0m \u001b[0mbatch_size\u001b[0m\u001b[1;33m=\u001b[0m\u001b[1;36m128\u001b[0m\u001b[1;33m,\u001b[0m \u001b[0mepochs\u001b[0m\u001b[1;33m=\u001b[0m\u001b[1;36m5\u001b[0m\u001b[1;33m,\u001b[0m \u001b[0mvalidation_data\u001b[0m\u001b[1;33m=\u001b[0m\u001b[1;33m(\u001b[0m\u001b[0mx_val\u001b[0m\u001b[1;33m,\u001b[0m \u001b[0my_val\u001b[0m\u001b[1;33m)\u001b[0m\u001b[1;33m)\u001b[0m\u001b[1;33m\u001b[0m\u001b[1;33m\u001b[0m\u001b[0m\n",
      "\u001b[1;31mNameError\u001b[0m: name 'model300d' is not defined"
     ]
    }
   ],
   "source": [
    "model300d.compile(\n",
    "    loss=\"categorical_crossentropy\", optimizer=\"adam\", metrics=[\"acc\"]\n",
    ")\n",
    "model300d.fit(x_train, y_train, batch_size=128, epochs=5, validation_data=(x_val, y_val))"
   ]
  },
  {
   "cell_type": "code",
   "execution_count": null,
   "metadata": {},
   "outputs": [],
   "source": [
    "model300d.evaluate(x_dev_full,y_dev,batch_size=300)"
   ]
  },
  {
   "cell_type": "code",
   "execution_count": null,
   "metadata": {},
   "outputs": [],
   "source": [
    "from tensorflow.keras import layers\n",
    "\n",
    "int_sequences_input = keras.Input(shape=(None,), dtype=\"int64\")\n",
    "embedded_sequences = embedding_layer(int_sequences_input)\n",
    "\n",
    "f1 = layers.Conv1D(128, 5, activation=\"relu\")(embedded_sequences)\n",
    "f1 = layers.MaxPooling1D(5)(f1)\n",
    "f2 = layers.Conv1D(128, 5, activation=\"relu\")(embedded_sequences)\n",
    "f2 = layers.MaxPooling1D(5)(f2)\n",
    "f3 = layers.Conv1D(128, 5, activation=\"relu\")(embedded_sequences)\n",
    "f3 = layers.MaxPooling1D(5)(f3)\n",
    "x = layers.concatenate([f1,f2,f3])\n",
    "x = layers.GlobalMaxPooling1D()(x)\n",
    "x = layers.Dense(128, activation=\"relu\")(x)\n",
    "x = layers.Dropout(0.5)(x)\n",
    "preds = layers.Dense(len(labels), activation=\"softmax\")(x)\n",
    "model300d_worse = keras.Model(int_sequences_input, preds)\n",
    "model300d_worse.summary()"
   ]
  },
  {
   "cell_type": "code",
   "execution_count": null,
   "metadata": {},
   "outputs": [],
   "source": [
    "model300d_worse.compile(\n",
    "    loss=\"categorical_crossentropy\", optimizer=\"adam\", metrics=[\"acc\"]\n",
    ")\n",
    "model300d_worse.fit(x_train, y_train, batch_size=128, epochs=5, validation_data=(x_val, y_val))"
   ]
  },
  {
   "cell_type": "code",
   "execution_count": null,
   "metadata": {},
   "outputs": [],
   "source": [
    "model300d_worse.evaluate(x_dev_full,y_dev,batch_size=300)"
   ]
  },
  {
   "cell_type": "markdown",
   "metadata": {},
   "source": [
    "# Extra: CHEATING DATA with CNN\n",
    "For my personal interest only, wont be used in the formal discussion, but here i concatenate both training and dev data as training set. See if this can bring the model to higher acc"
   ]
  },
  {
   "cell_type": "code",
   "execution_count": null,
   "metadata": {},
   "outputs": [],
   "source": []
  },
  {
   "cell_type": "code",
   "execution_count": 83,
   "metadata": {},
   "outputs": [],
   "source": [
    "# CHEATING DATA\n",
    "x_cheat = np.concatenate((x_train_full,x_dev_full),axis=0)\n",
    "y_cheat = np.concatenate((y_train_full,y_dev),axis=0)"
   ]
  },
  {
   "cell_type": "markdown",
   "metadata": {},
   "source": [
    "## My_glove embedded vector model"
   ]
  },
  {
   "cell_type": "code",
   "execution_count": 84,
   "metadata": {},
   "outputs": [
    {
     "name": "stdout",
     "output_type": "stream",
     "text": [
      "Model: \"model_10\"\n",
      "__________________________________________________________________________________________________\n",
      "Layer (type)                    Output Shape         Param #     Connected to                     \n",
      "==================================================================================================\n",
      "input_12 (InputLayer)           [(None, None)]       0                                            \n",
      "__________________________________________________________________________________________________\n",
      "embedding_4 (Embedding)         (None, None, 200)    28604800    input_12[0][0]                   \n",
      "__________________________________________________________________________________________________\n",
      "conv1d_30 (Conv1D)              (None, None, 128)    51328       embedding_4[1][0]                \n",
      "__________________________________________________________________________________________________\n",
      "conv1d_31 (Conv1D)              (None, None, 128)    76928       embedding_4[1][0]                \n",
      "__________________________________________________________________________________________________\n",
      "conv1d_32 (Conv1D)              (None, None, 128)    102528      embedding_4[1][0]                \n",
      "__________________________________________________________________________________________________\n",
      "max_pooling1d_30 (MaxPooling1D) (None, None, 128)    0           conv1d_30[0][0]                  \n",
      "__________________________________________________________________________________________________\n",
      "max_pooling1d_31 (MaxPooling1D) (None, None, 128)    0           conv1d_31[0][0]                  \n",
      "__________________________________________________________________________________________________\n",
      "max_pooling1d_32 (MaxPooling1D) (None, None, 128)    0           conv1d_32[0][0]                  \n",
      "__________________________________________________________________________________________________\n",
      "concatenate_10 (Concatenate)    (None, None, 384)    0           max_pooling1d_30[0][0]           \n",
      "                                                                 max_pooling1d_31[0][0]           \n",
      "                                                                 max_pooling1d_32[0][0]           \n",
      "__________________________________________________________________________________________________\n",
      "global_max_pooling1d_10 (Global (None, 384)          0           concatenate_10[0][0]             \n",
      "__________________________________________________________________________________________________\n",
      "dense_20 (Dense)                (None, 128)          49280       global_max_pooling1d_10[0][0]    \n",
      "__________________________________________________________________________________________________\n",
      "dropout_10 (Dropout)            (None, 128)          0           dense_20[0][0]                   \n",
      "__________________________________________________________________________________________________\n",
      "dense_21 (Dense)                (None, 4)            516         dropout_10[0][0]                 \n",
      "==================================================================================================\n",
      "Total params: 28,885,380\n",
      "Trainable params: 28,885,380\n",
      "Non-trainable params: 0\n",
      "__________________________________________________________________________________________________\n"
     ]
    }
   ],
   "source": [
    "from tensorflow.keras import layers\n",
    "\n",
    "int_sequences_input = keras.Input(shape=(None,), dtype=\"int64\")\n",
    "embedded_sequences = embedding_layer(int_sequences_input)\n",
    "\n",
    "f1 = layers.Conv1D(128, 2, activation=\"relu\")(embedded_sequences)\n",
    "f1 = layers.MaxPooling1D(5)(f1)\n",
    "f2 = layers.Conv1D(128, 3, activation=\"relu\")(embedded_sequences)\n",
    "f2 = layers.MaxPooling1D(5)(f2)\n",
    "f3 = layers.Conv1D(128, 4, activation=\"relu\")(embedded_sequences)\n",
    "f3 = layers.MaxPooling1D(5)(f3)\n",
    "x = layers.concatenate([f1,f2,f3])\n",
    "x = layers.GlobalMaxPooling1D()(x)\n",
    "x = layers.Dense(128, activation=\"relu\")(x)\n",
    "x = layers.Dropout(0.5)(x)\n",
    "preds = layers.Dense(len(labels), activation=\"softmax\")(x)\n",
    "model4 = keras.Model(int_sequences_input, preds)\n",
    "model4.summary()"
   ]
  },
  {
   "cell_type": "code",
   "execution_count": 88,
   "metadata": {},
   "outputs": [
    {
     "name": "stdout",
     "output_type": "stream",
     "text": [
      " 960/4540 [=====>........................] - ETA: 17:37 - loss: 0.2460 - acc: 0.8990"
     ]
    },
    {
     "ename": "KeyboardInterrupt",
     "evalue": "",
     "output_type": "error",
     "traceback": [
      "\u001b[1;31m---------------------------------------------------------------------------\u001b[0m",
      "\u001b[1;31mKeyboardInterrupt\u001b[0m                         Traceback (most recent call last)",
      "\u001b[1;32m<ipython-input-88-659641f1a7eb>\u001b[0m in \u001b[0;36m<module>\u001b[1;34m\u001b[0m\n\u001b[0;32m      2\u001b[0m     \u001b[0mloss\u001b[0m\u001b[1;33m=\u001b[0m\u001b[1;34m\"categorical_crossentropy\"\u001b[0m\u001b[1;33m,\u001b[0m \u001b[0moptimizer\u001b[0m\u001b[1;33m=\u001b[0m\u001b[1;34m\"adam\"\u001b[0m\u001b[1;33m,\u001b[0m \u001b[0mmetrics\u001b[0m\u001b[1;33m=\u001b[0m\u001b[1;33m[\u001b[0m\u001b[1;34m\"acc\"\u001b[0m\u001b[1;33m]\u001b[0m\u001b[1;33m\u001b[0m\u001b[1;33m\u001b[0m\u001b[0m\n\u001b[0;32m      3\u001b[0m )\n\u001b[1;32m----> 4\u001b[1;33m \u001b[0mmodel4\u001b[0m\u001b[1;33m.\u001b[0m\u001b[0mfit\u001b[0m\u001b[1;33m(\u001b[0m\u001b[0mx_cheat\u001b[0m\u001b[1;33m,\u001b[0m \u001b[0my_cheat\u001b[0m\u001b[1;33m,\u001b[0m \u001b[0mbatch_size\u001b[0m\u001b[1;33m=\u001b[0m\u001b[1;36m32\u001b[0m\u001b[1;33m,\u001b[0m \u001b[0mepochs\u001b[0m\u001b[1;33m=\u001b[0m\u001b[1;36m1\u001b[0m\u001b[1;33m,\u001b[0m \u001b[0mvalidation_data\u001b[0m\u001b[1;33m=\u001b[0m\u001b[1;33m(\u001b[0m\u001b[0mx_val\u001b[0m\u001b[1;33m,\u001b[0m \u001b[0my_val\u001b[0m\u001b[1;33m)\u001b[0m\u001b[1;33m)\u001b[0m\u001b[1;33m\u001b[0m\u001b[1;33m\u001b[0m\u001b[0m\n\u001b[0m",
      "\u001b[1;32m~\\anaconda3\\lib\\site-packages\\tensorflow\\python\\keras\\engine\\training.py\u001b[0m in \u001b[0;36mfit\u001b[1;34m(self, x, y, batch_size, epochs, verbose, callbacks, validation_split, validation_data, shuffle, class_weight, sample_weight, initial_epoch, steps_per_epoch, validation_steps, validation_batch_size, validation_freq, max_queue_size, workers, use_multiprocessing)\u001b[0m\n\u001b[0;32m   1098\u001b[0m                 _r=1):\n\u001b[0;32m   1099\u001b[0m               \u001b[0mcallbacks\u001b[0m\u001b[1;33m.\u001b[0m\u001b[0mon_train_batch_begin\u001b[0m\u001b[1;33m(\u001b[0m\u001b[0mstep\u001b[0m\u001b[1;33m)\u001b[0m\u001b[1;33m\u001b[0m\u001b[1;33m\u001b[0m\u001b[0m\n\u001b[1;32m-> 1100\u001b[1;33m               \u001b[0mtmp_logs\u001b[0m \u001b[1;33m=\u001b[0m \u001b[0mself\u001b[0m\u001b[1;33m.\u001b[0m\u001b[0mtrain_function\u001b[0m\u001b[1;33m(\u001b[0m\u001b[0miterator\u001b[0m\u001b[1;33m)\u001b[0m\u001b[1;33m\u001b[0m\u001b[1;33m\u001b[0m\u001b[0m\n\u001b[0m\u001b[0;32m   1101\u001b[0m               \u001b[1;32mif\u001b[0m \u001b[0mdata_handler\u001b[0m\u001b[1;33m.\u001b[0m\u001b[0mshould_sync\u001b[0m\u001b[1;33m:\u001b[0m\u001b[1;33m\u001b[0m\u001b[1;33m\u001b[0m\u001b[0m\n\u001b[0;32m   1102\u001b[0m                 \u001b[0mcontext\u001b[0m\u001b[1;33m.\u001b[0m\u001b[0masync_wait\u001b[0m\u001b[1;33m(\u001b[0m\u001b[1;33m)\u001b[0m\u001b[1;33m\u001b[0m\u001b[1;33m\u001b[0m\u001b[0m\n",
      "\u001b[1;32m~\\anaconda3\\lib\\site-packages\\tensorflow\\python\\eager\\def_function.py\u001b[0m in \u001b[0;36m__call__\u001b[1;34m(self, *args, **kwds)\u001b[0m\n\u001b[0;32m    826\u001b[0m     \u001b[0mtracing_count\u001b[0m \u001b[1;33m=\u001b[0m \u001b[0mself\u001b[0m\u001b[1;33m.\u001b[0m\u001b[0mexperimental_get_tracing_count\u001b[0m\u001b[1;33m(\u001b[0m\u001b[1;33m)\u001b[0m\u001b[1;33m\u001b[0m\u001b[1;33m\u001b[0m\u001b[0m\n\u001b[0;32m    827\u001b[0m     \u001b[1;32mwith\u001b[0m \u001b[0mtrace\u001b[0m\u001b[1;33m.\u001b[0m\u001b[0mTrace\u001b[0m\u001b[1;33m(\u001b[0m\u001b[0mself\u001b[0m\u001b[1;33m.\u001b[0m\u001b[0m_name\u001b[0m\u001b[1;33m)\u001b[0m \u001b[1;32mas\u001b[0m \u001b[0mtm\u001b[0m\u001b[1;33m:\u001b[0m\u001b[1;33m\u001b[0m\u001b[1;33m\u001b[0m\u001b[0m\n\u001b[1;32m--> 828\u001b[1;33m       \u001b[0mresult\u001b[0m \u001b[1;33m=\u001b[0m \u001b[0mself\u001b[0m\u001b[1;33m.\u001b[0m\u001b[0m_call\u001b[0m\u001b[1;33m(\u001b[0m\u001b[1;33m*\u001b[0m\u001b[0margs\u001b[0m\u001b[1;33m,\u001b[0m \u001b[1;33m**\u001b[0m\u001b[0mkwds\u001b[0m\u001b[1;33m)\u001b[0m\u001b[1;33m\u001b[0m\u001b[1;33m\u001b[0m\u001b[0m\n\u001b[0m\u001b[0;32m    829\u001b[0m       \u001b[0mcompiler\u001b[0m \u001b[1;33m=\u001b[0m \u001b[1;34m\"xla\"\u001b[0m \u001b[1;32mif\u001b[0m \u001b[0mself\u001b[0m\u001b[1;33m.\u001b[0m\u001b[0m_experimental_compile\u001b[0m \u001b[1;32melse\u001b[0m \u001b[1;34m\"nonXla\"\u001b[0m\u001b[1;33m\u001b[0m\u001b[1;33m\u001b[0m\u001b[0m\n\u001b[0;32m    830\u001b[0m       \u001b[0mnew_tracing_count\u001b[0m \u001b[1;33m=\u001b[0m \u001b[0mself\u001b[0m\u001b[1;33m.\u001b[0m\u001b[0mexperimental_get_tracing_count\u001b[0m\u001b[1;33m(\u001b[0m\u001b[1;33m)\u001b[0m\u001b[1;33m\u001b[0m\u001b[1;33m\u001b[0m\u001b[0m\n",
      "\u001b[1;32m~\\anaconda3\\lib\\site-packages\\tensorflow\\python\\eager\\def_function.py\u001b[0m in \u001b[0;36m_call\u001b[1;34m(self, *args, **kwds)\u001b[0m\n\u001b[0;32m    853\u001b[0m       \u001b[1;31m# In this case we have created variables on the first call, so we run the\u001b[0m\u001b[1;33m\u001b[0m\u001b[1;33m\u001b[0m\u001b[1;33m\u001b[0m\u001b[0m\n\u001b[0;32m    854\u001b[0m       \u001b[1;31m# defunned version which is guaranteed to never create variables.\u001b[0m\u001b[1;33m\u001b[0m\u001b[1;33m\u001b[0m\u001b[1;33m\u001b[0m\u001b[0m\n\u001b[1;32m--> 855\u001b[1;33m       \u001b[1;32mreturn\u001b[0m \u001b[0mself\u001b[0m\u001b[1;33m.\u001b[0m\u001b[0m_stateless_fn\u001b[0m\u001b[1;33m(\u001b[0m\u001b[1;33m*\u001b[0m\u001b[0margs\u001b[0m\u001b[1;33m,\u001b[0m \u001b[1;33m**\u001b[0m\u001b[0mkwds\u001b[0m\u001b[1;33m)\u001b[0m  \u001b[1;31m# pylint: disable=not-callable\u001b[0m\u001b[1;33m\u001b[0m\u001b[1;33m\u001b[0m\u001b[0m\n\u001b[0m\u001b[0;32m    856\u001b[0m     \u001b[1;32melif\u001b[0m \u001b[0mself\u001b[0m\u001b[1;33m.\u001b[0m\u001b[0m_stateful_fn\u001b[0m \u001b[1;32mis\u001b[0m \u001b[1;32mnot\u001b[0m \u001b[1;32mNone\u001b[0m\u001b[1;33m:\u001b[0m\u001b[1;33m\u001b[0m\u001b[1;33m\u001b[0m\u001b[0m\n\u001b[0;32m    857\u001b[0m       \u001b[1;31m# Release the lock early so that multiple threads can perform the call\u001b[0m\u001b[1;33m\u001b[0m\u001b[1;33m\u001b[0m\u001b[1;33m\u001b[0m\u001b[0m\n",
      "\u001b[1;32m~\\anaconda3\\lib\\site-packages\\tensorflow\\python\\eager\\function.py\u001b[0m in \u001b[0;36m__call__\u001b[1;34m(self, *args, **kwargs)\u001b[0m\n\u001b[0;32m   2940\u001b[0m       (graph_function,\n\u001b[0;32m   2941\u001b[0m        filtered_flat_args) = self._maybe_define_function(args, kwargs)\n\u001b[1;32m-> 2942\u001b[1;33m     return graph_function._call_flat(\n\u001b[0m\u001b[0;32m   2943\u001b[0m         filtered_flat_args, captured_inputs=graph_function.captured_inputs)  # pylint: disable=protected-access\n\u001b[0;32m   2944\u001b[0m \u001b[1;33m\u001b[0m\u001b[0m\n",
      "\u001b[1;32m~\\anaconda3\\lib\\site-packages\\tensorflow\\python\\eager\\function.py\u001b[0m in \u001b[0;36m_call_flat\u001b[1;34m(self, args, captured_inputs, cancellation_manager)\u001b[0m\n\u001b[0;32m   1916\u001b[0m         and executing_eagerly):\n\u001b[0;32m   1917\u001b[0m       \u001b[1;31m# No tape is watching; skip to running the function.\u001b[0m\u001b[1;33m\u001b[0m\u001b[1;33m\u001b[0m\u001b[1;33m\u001b[0m\u001b[0m\n\u001b[1;32m-> 1918\u001b[1;33m       return self._build_call_outputs(self._inference_function.call(\n\u001b[0m\u001b[0;32m   1919\u001b[0m           ctx, args, cancellation_manager=cancellation_manager))\n\u001b[0;32m   1920\u001b[0m     forward_backward = self._select_forward_and_backward_functions(\n",
      "\u001b[1;32m~\\anaconda3\\lib\\site-packages\\tensorflow\\python\\eager\\function.py\u001b[0m in \u001b[0;36mcall\u001b[1;34m(self, ctx, args, cancellation_manager)\u001b[0m\n\u001b[0;32m    553\u001b[0m       \u001b[1;32mwith\u001b[0m \u001b[0m_InterpolateFunctionError\u001b[0m\u001b[1;33m(\u001b[0m\u001b[0mself\u001b[0m\u001b[1;33m)\u001b[0m\u001b[1;33m:\u001b[0m\u001b[1;33m\u001b[0m\u001b[1;33m\u001b[0m\u001b[0m\n\u001b[0;32m    554\u001b[0m         \u001b[1;32mif\u001b[0m \u001b[0mcancellation_manager\u001b[0m \u001b[1;32mis\u001b[0m \u001b[1;32mNone\u001b[0m\u001b[1;33m:\u001b[0m\u001b[1;33m\u001b[0m\u001b[1;33m\u001b[0m\u001b[0m\n\u001b[1;32m--> 555\u001b[1;33m           outputs = execute.execute(\n\u001b[0m\u001b[0;32m    556\u001b[0m               \u001b[0mstr\u001b[0m\u001b[1;33m(\u001b[0m\u001b[0mself\u001b[0m\u001b[1;33m.\u001b[0m\u001b[0msignature\u001b[0m\u001b[1;33m.\u001b[0m\u001b[0mname\u001b[0m\u001b[1;33m)\u001b[0m\u001b[1;33m,\u001b[0m\u001b[1;33m\u001b[0m\u001b[1;33m\u001b[0m\u001b[0m\n\u001b[0;32m    557\u001b[0m               \u001b[0mnum_outputs\u001b[0m\u001b[1;33m=\u001b[0m\u001b[0mself\u001b[0m\u001b[1;33m.\u001b[0m\u001b[0m_num_outputs\u001b[0m\u001b[1;33m,\u001b[0m\u001b[1;33m\u001b[0m\u001b[1;33m\u001b[0m\u001b[0m\n",
      "\u001b[1;32m~\\anaconda3\\lib\\site-packages\\tensorflow\\python\\eager\\execute.py\u001b[0m in \u001b[0;36mquick_execute\u001b[1;34m(op_name, num_outputs, inputs, attrs, ctx, name)\u001b[0m\n\u001b[0;32m     57\u001b[0m   \u001b[1;32mtry\u001b[0m\u001b[1;33m:\u001b[0m\u001b[1;33m\u001b[0m\u001b[1;33m\u001b[0m\u001b[0m\n\u001b[0;32m     58\u001b[0m     \u001b[0mctx\u001b[0m\u001b[1;33m.\u001b[0m\u001b[0mensure_initialized\u001b[0m\u001b[1;33m(\u001b[0m\u001b[1;33m)\u001b[0m\u001b[1;33m\u001b[0m\u001b[1;33m\u001b[0m\u001b[0m\n\u001b[1;32m---> 59\u001b[1;33m     tensors = pywrap_tfe.TFE_Py_Execute(ctx._handle, device_name, op_name,\n\u001b[0m\u001b[0;32m     60\u001b[0m                                         inputs, attrs, num_outputs)\n\u001b[0;32m     61\u001b[0m   \u001b[1;32mexcept\u001b[0m \u001b[0mcore\u001b[0m\u001b[1;33m.\u001b[0m\u001b[0m_NotOkStatusException\u001b[0m \u001b[1;32mas\u001b[0m \u001b[0me\u001b[0m\u001b[1;33m:\u001b[0m\u001b[1;33m\u001b[0m\u001b[1;33m\u001b[0m\u001b[0m\n",
      "\u001b[1;31mKeyboardInterrupt\u001b[0m: "
     ]
    }
   ],
   "source": [
    "model4.compile(\n",
    "    loss=\"categorical_crossentropy\", optimizer=\"adam\", metrics=[\"acc\"]\n",
    ")\n",
    "model4.fit(x_cheat, y_cheat, batch_size=32, epochs=1, validation_data=(x_val, y_val))"
   ]
  },
  {
   "cell_type": "code",
   "execution_count": 86,
   "metadata": {},
   "outputs": [
    {
     "name": "stdout",
     "output_type": "stream",
     "text": [
      "39/39 [==============================] - 5s 131ms/step - loss: 0.7933 - acc: 0.6597\n"
     ]
    },
    {
     "data": {
      "text/plain": [
       "[0.7932902574539185, 0.6596949696540833]"
      ]
     },
     "execution_count": 86,
     "metadata": {},
     "output_type": "execute_result"
    }
   ],
   "source": [
    "model4.evaluate(x_dev_full,y_dev,batch_size=300)"
   ]
  },
  {
   "cell_type": "code",
   "execution_count": 87,
   "metadata": {},
   "outputs": [],
   "source": [
    "results=model4.predict(x_test_full)\n",
    "predictions=np.argmax(results,axis=1)\n",
    "\n",
    "\n",
    "onehot_labels = enc_dev.get_feature_names()\n",
    "\n",
    "output_labels = list()\n",
    "for label in onehot_labels:\n",
    "    output_labels.append(label.replace(\"x0_\",\"\"))\n",
    "\n",
    "out = list()\n",
    "for prediction in predictions:\n",
    "    out.append(output_labels[prediction])\n",
    "\n",
    "# For output only:\n",
    "columns_titles = [\"id\",\"region\"]\n",
    "prediction=reformat_prediction(out)\n",
    "tweet_test_Y=prediction.reindex(columns=columns_titles)\n",
    "tweet_test_Y.id.astype(int)\n",
    "tweet_test_Y.to_csv('cnn_cheat.csv',index=False,float_format='%.f')"
   ]
  },
  {
   "cell_type": "code",
   "execution_count": null,
   "metadata": {},
   "outputs": [],
   "source": []
  },
  {
   "cell_type": "code",
   "execution_count": null,
   "metadata": {},
   "outputs": [],
   "source": [
    "# CHEATING DATA\n",
    "x_cheat = np.concatenate((tx,dx),axis=0)\n",
    "y_cheat = np.concatenate((ty,dy),axis=0)"
   ]
  },
  {
   "cell_type": "code",
   "execution_count": null,
   "metadata": {},
   "outputs": [],
   "source": [
    "from tensorflow.keras import layers\n",
    "\n",
    "embedded_sequences = keras.Input(shape=(300,1))\n",
    "\n",
    "f1 = layers.Conv1D(100, 5, activation=\"relu\")(embedded_sequences)\n",
    "f1 = layers.MaxPooling1D(5)(f1)\n",
    "f2 = layers.Conv1D(100, 5, activation=\"relu\")(embedded_sequences)\n",
    "f2 = layers.MaxPooling1D(5)(f2)\n",
    "f3 = layers.Conv1D(100, 5, activation=\"relu\")(embedded_sequences)\n",
    "f3 = layers.MaxPooling1D(5)(f3)\n",
    "x = layers.concatenate([f1,f2,f3])\n",
    "x = layers.GlobalMaxPooling1D()(x)\n",
    "x = layers.Flatten()(x)\n",
    "x = layers.Dense(128, activation=\"relu\")(x)\n",
    "x = layers.Dropout(0.5)(x)\n",
    "preds = layers.Dense(len(labels), activation=\"softmax\")(x)\n",
    "model5 = keras.Model(embedded_sequences, preds)\n",
    "model5.summary()\n"
   ]
  },
  {
   "cell_type": "code",
   "execution_count": null,
   "metadata": {},
   "outputs": [],
   "source": [
    "model5.compile(\n",
    "    loss=\"categorical_crossentropy\", optimizer=\"adam\", metrics=[\"acc\"]\n",
    ")\n",
    "model5.fit(x_cheat, y_cheat, batch_size=128, epochs=20, validation_data=(dx, dy))"
   ]
  },
  {
   "cell_type": "code",
   "execution_count": null,
   "metadata": {},
   "outputs": [],
   "source": []
  }
 ],
 "metadata": {
  "kernelspec": {
   "display_name": "Python 3",
   "language": "python",
   "name": "python3"
  },
  "language_info": {
   "codemirror_mode": {
    "name": "ipython",
    "version": 3
   },
   "file_extension": ".py",
   "mimetype": "text/x-python",
   "name": "python",
   "nbconvert_exporter": "python",
   "pygments_lexer": "ipython3",
   "version": "3.8.3"
  }
 },
 "nbformat": 4,
 "nbformat_minor": 4
}
